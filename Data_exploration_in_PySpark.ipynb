{
  "cells": [
    {
      "cell_type": "markdown",
      "metadata": {
        "id": "view-in-github",
        "colab_type": "text"
      },
      "source": [
        "<a href=\"https://colab.research.google.com/github/sachincs3108/Hands-on_project/blob/master/Data_exploration_in_PySpark.ipynb\" target=\"_parent\"><img src=\"https://colab.research.google.com/assets/colab-badge.svg\" alt=\"Open In Colab\"/></a>"
      ]
    },
    {
      "cell_type": "markdown",
      "metadata": {
        "application/vnd.databricks.v1+cell": {
          "cellMetadata": {},
          "inputWidgets": {},
          "nuid": "b705ea8a-c204-43fc-ac11-3abf6c99bced",
          "showTitle": false,
          "title": ""
        },
        "id": "sA7dJ5pkEm0-"
      },
      "source": [
        "# Deepali Handgar \n",
        "## ROll No: 04\n",
        "## Data Engineering Assignment: Data exploration in PySpark\n",
        "## M.Sc. Computer Science with Specialization in Data Science\n",
        "## University of Mumbai"
      ]
    },
    {
      "cell_type": "code",
      "execution_count": null,
      "metadata": {
        "application/vnd.databricks.v1+cell": {
          "cellMetadata": {},
          "inputWidgets": {},
          "nuid": "d8766271-cea8-4e57-b8b8-985519626cf6",
          "showTitle": false,
          "title": ""
        },
        "id": "k8KwWiuTEm1K"
      },
      "outputs": [],
      "source": [
        "# Loading the dataset\n",
        "iris_data = spark.read.format(\"csv\").option('multi;ine', True).option(\"header\",True).option('inferschema',True).load(\"/FileStore/tables/Iris.csv\")"
      ]
    },
    {
      "cell_type": "code",
      "execution_count": null,
      "metadata": {
        "application/vnd.databricks.v1+cell": {
          "cellMetadata": {},
          "inputWidgets": {},
          "nuid": "51b2f4ab-182f-4867-879f-ca95cbb55ccf",
          "showTitle": false,
          "title": ""
        },
        "id": "BfiapBHCEm1P",
        "outputId": "da31374a-321f-4a4e-b0af-f20c1cc922f3"
      },
      "outputs": [
        {
          "data": {
            "text/plain": [
              "+---+-------------+------------+-------------+------------+-----------+\n",
              "| Id|SepalLengthCm|SepalWidthCm|PetalLengthCm|PetalWidthCm|    Species|\n",
              "+---+-------------+------------+-------------+------------+-----------+\n",
              "|  1|          5.1|         3.5|          1.4|         0.2|Iris-setosa|\n",
              "|  2|          4.9|         3.0|          1.4|         0.2|Iris-setosa|\n",
              "|  3|          4.7|         3.2|          1.3|         0.2|Iris-setosa|\n",
              "|  4|          4.6|         3.1|          1.5|         0.2|Iris-setosa|\n",
              "|  5|          5.0|         3.6|          1.4|         0.2|Iris-setosa|\n",
              "|  6|          5.4|         3.9|          1.7|         0.4|Iris-setosa|\n",
              "|  7|          4.6|         3.4|          1.4|         0.3|Iris-setosa|\n",
              "|  8|          5.0|         3.4|          1.5|         0.2|Iris-setosa|\n",
              "|  9|          4.4|         2.9|          1.4|         0.2|Iris-setosa|\n",
              "| 10|          4.9|         3.1|          1.5|         0.1|Iris-setosa|\n",
              "| 11|          5.4|         3.7|          1.5|         0.2|Iris-setosa|\n",
              "| 12|          4.8|         3.4|          1.6|         0.2|Iris-setosa|\n",
              "| 13|          4.8|         3.0|          1.4|         0.1|Iris-setosa|\n",
              "| 14|          4.3|         3.0|          1.1|         0.1|Iris-setosa|\n",
              "| 15|          5.8|         4.0|          1.2|         0.2|Iris-setosa|\n",
              "| 16|          5.7|         4.4|          1.5|         0.4|Iris-setosa|\n",
              "| 17|          5.4|         3.9|          1.3|         0.4|Iris-setosa|\n",
              "| 18|          5.1|         3.5|          1.4|         0.3|Iris-setosa|\n",
              "| 19|          5.7|         3.8|          1.7|         0.3|Iris-setosa|\n",
              "| 20|          5.1|         3.8|          1.5|         0.3|Iris-setosa|\n",
              "+---+-------------+------------+-------------+------------+-----------+\n",
              "only showing top 20 rows\n",
              "\n"
            ]
          },
          "metadata": {
            "application/vnd.databricks.v1+output": {
              "addedWidgets": {},
              "arguments": {},
              "data": "+---+-------------+------------+-------------+------------+-----------+\n| Id|SepalLengthCm|SepalWidthCm|PetalLengthCm|PetalWidthCm|    Species|\n+---+-------------+------------+-------------+------------+-----------+\n|  1|          5.1|         3.5|          1.4|         0.2|Iris-setosa|\n|  2|          4.9|         3.0|          1.4|         0.2|Iris-setosa|\n|  3|          4.7|         3.2|          1.3|         0.2|Iris-setosa|\n|  4|          4.6|         3.1|          1.5|         0.2|Iris-setosa|\n|  5|          5.0|         3.6|          1.4|         0.2|Iris-setosa|\n|  6|          5.4|         3.9|          1.7|         0.4|Iris-setosa|\n|  7|          4.6|         3.4|          1.4|         0.3|Iris-setosa|\n|  8|          5.0|         3.4|          1.5|         0.2|Iris-setosa|\n|  9|          4.4|         2.9|          1.4|         0.2|Iris-setosa|\n| 10|          4.9|         3.1|          1.5|         0.1|Iris-setosa|\n| 11|          5.4|         3.7|          1.5|         0.2|Iris-setosa|\n| 12|          4.8|         3.4|          1.6|         0.2|Iris-setosa|\n| 13|          4.8|         3.0|          1.4|         0.1|Iris-setosa|\n| 14|          4.3|         3.0|          1.1|         0.1|Iris-setosa|\n| 15|          5.8|         4.0|          1.2|         0.2|Iris-setosa|\n| 16|          5.7|         4.4|          1.5|         0.4|Iris-setosa|\n| 17|          5.4|         3.9|          1.3|         0.4|Iris-setosa|\n| 18|          5.1|         3.5|          1.4|         0.3|Iris-setosa|\n| 19|          5.7|         3.8|          1.7|         0.3|Iris-setosa|\n| 20|          5.1|         3.8|          1.5|         0.3|Iris-setosa|\n+---+-------------+------------+-------------+------------+-----------+\nonly showing top 20 rows\n\n",
              "datasetInfos": [],
              "metadata": {},
              "removedWidgets": [],
              "type": "ansi"
            }
          },
          "output_type": "display_data"
        }
      ],
      "source": [
        "# View the dataset\n",
        "iris_data.show()"
      ]
    },
    {
      "cell_type": "code",
      "execution_count": null,
      "metadata": {
        "application/vnd.databricks.v1+cell": {
          "cellMetadata": {},
          "inputWidgets": {},
          "nuid": "b0a897e0-c8c1-4e39-ad37-6e461629da49",
          "showTitle": false,
          "title": ""
        },
        "id": "6kZEdd-nEm1S",
        "outputId": "227d9479-3175-4e38-f9e8-f6af02f4304b"
      },
      "outputs": [
        {
          "data": {
            "text/plain": [
              "root\n",
              " |-- Id: integer (nullable = true)\n",
              " |-- SepalLengthCm: double (nullable = true)\n",
              " |-- SepalWidthCm: double (nullable = true)\n",
              " |-- PetalLengthCm: double (nullable = true)\n",
              " |-- PetalWidthCm: double (nullable = true)\n",
              " |-- Species: string (nullable = true)\n",
              "\n"
            ]
          },
          "metadata": {
            "application/vnd.databricks.v1+output": {
              "addedWidgets": {},
              "arguments": {},
              "data": "root\n |-- Id: integer (nullable = true)\n |-- SepalLengthCm: double (nullable = true)\n |-- SepalWidthCm: double (nullable = true)\n |-- PetalLengthCm: double (nullable = true)\n |-- PetalWidthCm: double (nullable = true)\n |-- Species: string (nullable = true)\n\n",
              "datasetInfos": [],
              "metadata": {},
              "removedWidgets": [],
              "type": "ansi"
            }
          },
          "output_type": "display_data"
        }
      ],
      "source": [
        "# Show the schema of the table\n",
        "iris_data.printSchema()"
      ]
    },
    {
      "cell_type": "code",
      "execution_count": null,
      "metadata": {
        "application/vnd.databricks.v1+cell": {
          "cellMetadata": {},
          "inputWidgets": {},
          "nuid": "9889543a-9a1c-47a3-b626-5c317e042feb",
          "showTitle": false,
          "title": ""
        },
        "id": "buwpEuqhEm1T",
        "outputId": "ceeb34ca-e1a8-4d90-c271-52035ee7206c"
      },
      "outputs": [
        {
          "data": {
            "text/plain": [
              "Out[20]: 150"
            ]
          },
          "metadata": {
            "application/vnd.databricks.v1+output": {
              "addedWidgets": {},
              "arguments": {},
              "data": "Out[20]: 150",
              "datasetInfos": [],
              "metadata": {},
              "removedWidgets": [],
              "type": "ansi"
            }
          },
          "output_type": "display_data"
        }
      ],
      "source": [
        "iris_data.count()"
      ]
    },
    {
      "cell_type": "code",
      "execution_count": null,
      "metadata": {
        "application/vnd.databricks.v1+cell": {
          "cellMetadata": {},
          "inputWidgets": {},
          "nuid": "486c5712-991d-415b-870e-60b8fcd2763a",
          "showTitle": false,
          "title": ""
        },
        "id": "nNsO8duSEm1V",
        "outputId": "4bca991f-9b5f-4a43-e3a4-a3635ee0b085"
      },
      "outputs": [
        {
          "data": {
            "text/plain": [
              "+-------+------------------+------------------+-------------------+------------------+------------------+--------------+\n",
              "|summary|                Id|     SepalLengthCm|       SepalWidthCm|     PetalLengthCm|      PetalWidthCm|       Species|\n",
              "+-------+------------------+------------------+-------------------+------------------+------------------+--------------+\n",
              "|  count|               150|               150|                150|               150|               150|           150|\n",
              "|   mean|              75.5| 5.843333333333335| 3.0540000000000007|3.7586666666666693|1.1986666666666672|          null|\n",
              "| stddev|43.445367992456916|0.8280661279778637|0.43359431136217375| 1.764420419952262|0.7631607417008414|          null|\n",
              "|    min|                 1|               4.3|                2.0|               1.0|               0.1|   Iris-setosa|\n",
              "|    25%|                38|               5.1|                2.8|               1.6|               0.3|          null|\n",
              "|    50%|                75|               5.8|                3.0|               4.3|               1.3|          null|\n",
              "|    75%|               113|               6.4|                3.3|               5.1|               1.8|          null|\n",
              "|    max|               150|               7.9|                4.4|               6.9|               2.5|Iris-virginica|\n",
              "+-------+------------------+------------------+-------------------+------------------+------------------+--------------+\n",
              "\n"
            ]
          },
          "metadata": {
            "application/vnd.databricks.v1+output": {
              "addedWidgets": {},
              "arguments": {},
              "data": "+-------+------------------+------------------+-------------------+------------------+------------------+--------------+\n|summary|                Id|     SepalLengthCm|       SepalWidthCm|     PetalLengthCm|      PetalWidthCm|       Species|\n+-------+------------------+------------------+-------------------+------------------+------------------+--------------+\n|  count|               150|               150|                150|               150|               150|           150|\n|   mean|              75.5| 5.843333333333335| 3.0540000000000007|3.7586666666666693|1.1986666666666672|          null|\n| stddev|43.445367992456916|0.8280661279778637|0.43359431136217375| 1.764420419952262|0.7631607417008414|          null|\n|    min|                 1|               4.3|                2.0|               1.0|               0.1|   Iris-setosa|\n|    25%|                38|               5.1|                2.8|               1.6|               0.3|          null|\n|    50%|                75|               5.8|                3.0|               4.3|               1.3|          null|\n|    75%|               113|               6.4|                3.3|               5.1|               1.8|          null|\n|    max|               150|               7.9|                4.4|               6.9|               2.5|Iris-virginica|\n+-------+------------------+------------------+-------------------+------------------+------------------+--------------+\n\n",
              "datasetInfos": [],
              "metadata": {},
              "removedWidgets": [],
              "type": "ansi"
            }
          },
          "output_type": "display_data"
        }
      ],
      "source": [
        "#Print summary of the columns\n",
        "iris_data.summary().show()"
      ]
    },
    {
      "cell_type": "code",
      "execution_count": null,
      "metadata": {
        "application/vnd.databricks.v1+cell": {
          "cellMetadata": {},
          "inputWidgets": {},
          "nuid": "1369cb01-d785-4179-b88c-8826a6ce0805",
          "showTitle": false,
          "title": ""
        },
        "id": "5mHw9MN-Em1W",
        "outputId": "43824b3a-bb28-435d-9736-7186bdf197bf"
      },
      "outputs": [
        {
          "data": {
            "text/plain": [
              "+-------+------------------+\n",
              "|summary|     sepalLengthCm|\n",
              "+-------+------------------+\n",
              "|  count|               150|\n",
              "|   mean| 5.843333333333335|\n",
              "| stddev|0.8280661279778637|\n",
              "|    min|               4.3|\n",
              "|    25%|               5.1|\n",
              "|    50%|               5.8|\n",
              "|    75%|               6.4|\n",
              "|    max|               7.9|\n",
              "+-------+------------------+\n",
              "\n"
            ]
          },
          "metadata": {
            "application/vnd.databricks.v1+output": {
              "addedWidgets": {},
              "arguments": {},
              "data": "+-------+------------------+\n|summary|     sepalLengthCm|\n+-------+------------------+\n|  count|               150|\n|   mean| 5.843333333333335|\n| stddev|0.8280661279778637|\n|    min|               4.3|\n|    25%|               5.1|\n|    50%|               5.8|\n|    75%|               6.4|\n|    max|               7.9|\n+-------+------------------+\n\n",
              "datasetInfos": [],
              "metadata": {},
              "removedWidgets": [],
              "type": "ansi"
            }
          },
          "output_type": "display_data"
        }
      ],
      "source": [
        "# summary of single column\n",
        "iris_data.select(\"sepalLengthCm\").summary().show()"
      ]
    },
    {
      "cell_type": "code",
      "execution_count": null,
      "metadata": {
        "application/vnd.databricks.v1+cell": {
          "cellMetadata": {},
          "inputWidgets": {},
          "nuid": "5bb13fc2-30ff-4a20-ac25-06b07ec365c7",
          "showTitle": false,
          "title": ""
        },
        "id": "j5ilMvPXEm1X",
        "outputId": "151737d0-b8e8-4cb4-c3be-6efa44827661"
      },
      "outputs": [
        {
          "data": {
            "text/plain": [
              "+-------------+-------------+\n",
              "|SepalLengthCm|PetalLengthCm|\n",
              "+-------------+-------------+\n",
              "|          5.1|          1.4|\n",
              "|          4.9|          1.4|\n",
              "|          4.7|          1.3|\n",
              "|          4.6|          1.5|\n",
              "|          5.0|          1.4|\n",
              "|          5.4|          1.7|\n",
              "|          4.6|          1.4|\n",
              "|          5.0|          1.5|\n",
              "|          4.4|          1.4|\n",
              "|          4.9|          1.5|\n",
              "|          5.4|          1.5|\n",
              "|          4.8|          1.6|\n",
              "|          4.8|          1.4|\n",
              "|          4.3|          1.1|\n",
              "|          5.8|          1.2|\n",
              "|          5.7|          1.5|\n",
              "|          5.4|          1.3|\n",
              "|          5.1|          1.4|\n",
              "|          5.7|          1.7|\n",
              "|          5.1|          1.5|\n",
              "+-------------+-------------+\n",
              "only showing top 20 rows\n",
              "\n"
            ]
          },
          "metadata": {
            "application/vnd.databricks.v1+output": {
              "addedWidgets": {},
              "arguments": {},
              "data": "+-------------+-------------+\n|SepalLengthCm|PetalLengthCm|\n+-------------+-------------+\n|          5.1|          1.4|\n|          4.9|          1.4|\n|          4.7|          1.3|\n|          4.6|          1.5|\n|          5.0|          1.4|\n|          5.4|          1.7|\n|          4.6|          1.4|\n|          5.0|          1.5|\n|          4.4|          1.4|\n|          4.9|          1.5|\n|          5.4|          1.5|\n|          4.8|          1.6|\n|          4.8|          1.4|\n|          4.3|          1.1|\n|          5.8|          1.2|\n|          5.7|          1.5|\n|          5.4|          1.3|\n|          5.1|          1.4|\n|          5.7|          1.7|\n|          5.1|          1.5|\n+-------------+-------------+\nonly showing top 20 rows\n\n",
              "datasetInfos": [],
              "metadata": {},
              "removedWidgets": [],
              "type": "ansi"
            }
          },
          "output_type": "display_data"
        }
      ],
      "source": [
        "# Specific columns\n",
        "iris_data.select(\"SepalLengthCm\",\"PetalLengthCm\").show()"
      ]
    },
    {
      "cell_type": "code",
      "execution_count": null,
      "metadata": {
        "application/vnd.databricks.v1+cell": {
          "cellMetadata": {},
          "inputWidgets": {},
          "nuid": "ad6528a1-f1e3-41f0-9321-c6faa6b92aee",
          "showTitle": false,
          "title": ""
        },
        "id": "QA4skx5rEm1Z"
      },
      "outputs": [],
      "source": [
        "# creating a temp table for sql queries\n",
        "iris_data.createOrReplaceTempView(\"Iristab\")"
      ]
    },
    {
      "cell_type": "code",
      "execution_count": null,
      "metadata": {
        "application/vnd.databricks.v1+cell": {
          "cellMetadata": {},
          "inputWidgets": {},
          "nuid": "c8f8f950-bd80-4711-9deb-8f9430e7574d",
          "showTitle": false,
          "title": ""
        },
        "id": "v3tRbUyhEm1a"
      },
      "outputs": [],
      "source": [
        "# sql queries\n",
        "# select queries where the petal length is less than 2.5\n",
        "q1 = spark.sql(\"select * from iristab where PetalLengthCm<2.5\")"
      ]
    },
    {
      "cell_type": "code",
      "execution_count": null,
      "metadata": {
        "application/vnd.databricks.v1+cell": {
          "cellMetadata": {},
          "inputWidgets": {},
          "nuid": "475a82bc-5394-4013-8a77-3bf74f546ed2",
          "showTitle": false,
          "title": ""
        },
        "id": "UpQDGNoUEm1b",
        "outputId": "bea97d6a-e6e0-48fb-dcca-9f65c6d08069"
      },
      "outputs": [
        {
          "data": {
            "text/plain": [
              "+---+-------------+------------+-------------+------------+-----------+\n",
              "| Id|SepalLengthCm|SepalWidthCm|PetalLengthCm|PetalWidthCm|    Species|\n",
              "+---+-------------+------------+-------------+------------+-----------+\n",
              "|  1|          5.1|         3.5|          1.4|         0.2|Iris-setosa|\n",
              "|  2|          4.9|         3.0|          1.4|         0.2|Iris-setosa|\n",
              "|  3|          4.7|         3.2|          1.3|         0.2|Iris-setosa|\n",
              "|  4|          4.6|         3.1|          1.5|         0.2|Iris-setosa|\n",
              "|  5|          5.0|         3.6|          1.4|         0.2|Iris-setosa|\n",
              "|  6|          5.4|         3.9|          1.7|         0.4|Iris-setosa|\n",
              "|  7|          4.6|         3.4|          1.4|         0.3|Iris-setosa|\n",
              "|  8|          5.0|         3.4|          1.5|         0.2|Iris-setosa|\n",
              "|  9|          4.4|         2.9|          1.4|         0.2|Iris-setosa|\n",
              "| 10|          4.9|         3.1|          1.5|         0.1|Iris-setosa|\n",
              "| 11|          5.4|         3.7|          1.5|         0.2|Iris-setosa|\n",
              "| 12|          4.8|         3.4|          1.6|         0.2|Iris-setosa|\n",
              "| 13|          4.8|         3.0|          1.4|         0.1|Iris-setosa|\n",
              "| 14|          4.3|         3.0|          1.1|         0.1|Iris-setosa|\n",
              "| 15|          5.8|         4.0|          1.2|         0.2|Iris-setosa|\n",
              "| 16|          5.7|         4.4|          1.5|         0.4|Iris-setosa|\n",
              "| 17|          5.4|         3.9|          1.3|         0.4|Iris-setosa|\n",
              "| 18|          5.1|         3.5|          1.4|         0.3|Iris-setosa|\n",
              "| 19|          5.7|         3.8|          1.7|         0.3|Iris-setosa|\n",
              "| 20|          5.1|         3.8|          1.5|         0.3|Iris-setosa|\n",
              "+---+-------------+------------+-------------+------------+-----------+\n",
              "only showing top 20 rows\n",
              "\n"
            ]
          },
          "metadata": {
            "application/vnd.databricks.v1+output": {
              "addedWidgets": {},
              "arguments": {},
              "data": "+---+-------------+------------+-------------+------------+-----------+\n| Id|SepalLengthCm|SepalWidthCm|PetalLengthCm|PetalWidthCm|    Species|\n+---+-------------+------------+-------------+------------+-----------+\n|  1|          5.1|         3.5|          1.4|         0.2|Iris-setosa|\n|  2|          4.9|         3.0|          1.4|         0.2|Iris-setosa|\n|  3|          4.7|         3.2|          1.3|         0.2|Iris-setosa|\n|  4|          4.6|         3.1|          1.5|         0.2|Iris-setosa|\n|  5|          5.0|         3.6|          1.4|         0.2|Iris-setosa|\n|  6|          5.4|         3.9|          1.7|         0.4|Iris-setosa|\n|  7|          4.6|         3.4|          1.4|         0.3|Iris-setosa|\n|  8|          5.0|         3.4|          1.5|         0.2|Iris-setosa|\n|  9|          4.4|         2.9|          1.4|         0.2|Iris-setosa|\n| 10|          4.9|         3.1|          1.5|         0.1|Iris-setosa|\n| 11|          5.4|         3.7|          1.5|         0.2|Iris-setosa|\n| 12|          4.8|         3.4|          1.6|         0.2|Iris-setosa|\n| 13|          4.8|         3.0|          1.4|         0.1|Iris-setosa|\n| 14|          4.3|         3.0|          1.1|         0.1|Iris-setosa|\n| 15|          5.8|         4.0|          1.2|         0.2|Iris-setosa|\n| 16|          5.7|         4.4|          1.5|         0.4|Iris-setosa|\n| 17|          5.4|         3.9|          1.3|         0.4|Iris-setosa|\n| 18|          5.1|         3.5|          1.4|         0.3|Iris-setosa|\n| 19|          5.7|         3.8|          1.7|         0.3|Iris-setosa|\n| 20|          5.1|         3.8|          1.5|         0.3|Iris-setosa|\n+---+-------------+------------+-------------+------------+-----------+\nonly showing top 20 rows\n\n",
              "datasetInfos": [],
              "metadata": {},
              "removedWidgets": [],
              "type": "ansi"
            }
          },
          "output_type": "display_data"
        }
      ],
      "source": [
        "q1.show()"
      ]
    },
    {
      "cell_type": "code",
      "execution_count": null,
      "metadata": {
        "application/vnd.databricks.v1+cell": {
          "cellMetadata": {},
          "inputWidgets": {},
          "nuid": "5ffdd818-0972-4a88-8e99-3d773118cb34",
          "showTitle": false,
          "title": ""
        },
        "id": "_QhkE7x2Em1c",
        "outputId": "99230001-1618-44d8-90bd-351d4a450194"
      },
      "outputs": [
        {
          "data": {
            "text/plain": [
              "Out[27]: 50"
            ]
          },
          "metadata": {
            "application/vnd.databricks.v1+output": {
              "addedWidgets": {},
              "arguments": {},
              "data": "Out[27]: 50",
              "datasetInfos": [],
              "metadata": {},
              "removedWidgets": [],
              "type": "ansi"
            }
          },
          "output_type": "display_data"
        }
      ],
      "source": [
        "q1.count()"
      ]
    },
    {
      "cell_type": "code",
      "execution_count": null,
      "metadata": {
        "application/vnd.databricks.v1+cell": {
          "cellMetadata": {},
          "inputWidgets": {},
          "nuid": "e1a7553d-1ce9-489c-aaa9-77241bece08e",
          "showTitle": false,
          "title": ""
        },
        "id": "JJcHqV_4Em1d"
      },
      "outputs": [],
      "source": [
        "# select flowers where the petal length is between 2.5 and 4.5\n",
        "q1 = spark.sql(\"select * from iristab where PetalLengthCM between 2.5 and 4.5\")"
      ]
    },
    {
      "cell_type": "code",
      "execution_count": null,
      "metadata": {
        "application/vnd.databricks.v1+cell": {
          "cellMetadata": {},
          "inputWidgets": {},
          "nuid": "8e85cc0f-91a3-4bfa-8412-a3c31ca944d6",
          "showTitle": false,
          "title": ""
        },
        "id": "M9f5QySwEm1e",
        "outputId": "f9782037-a2fd-4c14-89a7-bf15a2a42d8a"
      },
      "outputs": [
        {
          "data": {
            "text/plain": [
              "+---+-------------+------------+-------------+------------+---------------+\n",
              "| Id|SepalLengthCm|SepalWidthCm|PetalLengthCm|PetalWidthCm|        Species|\n",
              "+---+-------------+------------+-------------+------------+---------------+\n",
              "| 52|          6.4|         3.2|          4.5|         1.5|Iris-versicolor|\n",
              "| 54|          5.5|         2.3|          4.0|         1.3|Iris-versicolor|\n",
              "| 56|          5.7|         2.8|          4.5|         1.3|Iris-versicolor|\n",
              "| 58|          4.9|         2.4|          3.3|         1.0|Iris-versicolor|\n",
              "| 60|          5.2|         2.7|          3.9|         1.4|Iris-versicolor|\n",
              "| 61|          5.0|         2.0|          3.5|         1.0|Iris-versicolor|\n",
              "| 62|          5.9|         3.0|          4.2|         1.5|Iris-versicolor|\n",
              "| 63|          6.0|         2.2|          4.0|         1.0|Iris-versicolor|\n",
              "| 65|          5.6|         2.9|          3.6|         1.3|Iris-versicolor|\n",
              "| 66|          6.7|         3.1|          4.4|         1.4|Iris-versicolor|\n",
              "| 67|          5.6|         3.0|          4.5|         1.5|Iris-versicolor|\n",
              "| 68|          5.8|         2.7|          4.1|         1.0|Iris-versicolor|\n",
              "| 69|          6.2|         2.2|          4.5|         1.5|Iris-versicolor|\n",
              "| 70|          5.6|         2.5|          3.9|         1.1|Iris-versicolor|\n",
              "| 72|          6.1|         2.8|          4.0|         1.3|Iris-versicolor|\n",
              "| 75|          6.4|         2.9|          4.3|         1.3|Iris-versicolor|\n",
              "| 76|          6.6|         3.0|          4.4|         1.4|Iris-versicolor|\n",
              "| 79|          6.0|         2.9|          4.5|         1.5|Iris-versicolor|\n",
              "| 80|          5.7|         2.6|          3.5|         1.0|Iris-versicolor|\n",
              "| 81|          5.5|         2.4|          3.8|         1.1|Iris-versicolor|\n",
              "+---+-------------+------------+-------------+------------+---------------+\n",
              "only showing top 20 rows\n",
              "\n"
            ]
          },
          "metadata": {
            "application/vnd.databricks.v1+output": {
              "addedWidgets": {},
              "arguments": {},
              "data": "+---+-------------+------------+-------------+------------+---------------+\n| Id|SepalLengthCm|SepalWidthCm|PetalLengthCm|PetalWidthCm|        Species|\n+---+-------------+------------+-------------+------------+---------------+\n| 52|          6.4|         3.2|          4.5|         1.5|Iris-versicolor|\n| 54|          5.5|         2.3|          4.0|         1.3|Iris-versicolor|\n| 56|          5.7|         2.8|          4.5|         1.3|Iris-versicolor|\n| 58|          4.9|         2.4|          3.3|         1.0|Iris-versicolor|\n| 60|          5.2|         2.7|          3.9|         1.4|Iris-versicolor|\n| 61|          5.0|         2.0|          3.5|         1.0|Iris-versicolor|\n| 62|          5.9|         3.0|          4.2|         1.5|Iris-versicolor|\n| 63|          6.0|         2.2|          4.0|         1.0|Iris-versicolor|\n| 65|          5.6|         2.9|          3.6|         1.3|Iris-versicolor|\n| 66|          6.7|         3.1|          4.4|         1.4|Iris-versicolor|\n| 67|          5.6|         3.0|          4.5|         1.5|Iris-versicolor|\n| 68|          5.8|         2.7|          4.1|         1.0|Iris-versicolor|\n| 69|          6.2|         2.2|          4.5|         1.5|Iris-versicolor|\n| 70|          5.6|         2.5|          3.9|         1.1|Iris-versicolor|\n| 72|          6.1|         2.8|          4.0|         1.3|Iris-versicolor|\n| 75|          6.4|         2.9|          4.3|         1.3|Iris-versicolor|\n| 76|          6.6|         3.0|          4.4|         1.4|Iris-versicolor|\n| 79|          6.0|         2.9|          4.5|         1.5|Iris-versicolor|\n| 80|          5.7|         2.6|          3.5|         1.0|Iris-versicolor|\n| 81|          5.5|         2.4|          3.8|         1.1|Iris-versicolor|\n+---+-------------+------------+-------------+------------+---------------+\nonly showing top 20 rows\n\n",
              "datasetInfos": [],
              "metadata": {},
              "removedWidgets": [],
              "type": "ansi"
            }
          },
          "output_type": "display_data"
        }
      ],
      "source": [
        "q1.show()"
      ]
    },
    {
      "cell_type": "code",
      "execution_count": null,
      "metadata": {
        "application/vnd.databricks.v1+cell": {
          "cellMetadata": {},
          "inputWidgets": {},
          "nuid": "8f949a75-4489-417c-9ac9-326f916a7e6c",
          "showTitle": false,
          "title": ""
        },
        "id": "ExKXoVYWEm1f",
        "outputId": "4e6d29e1-4f1d-47df-d558-b1f8fcd7752f"
      },
      "outputs": [
        {
          "data": {
            "text/plain": [
              "Out[37]: 37"
            ]
          },
          "metadata": {
            "application/vnd.databricks.v1+output": {
              "addedWidgets": {},
              "arguments": {},
              "data": "Out[37]: 37",
              "datasetInfos": [],
              "metadata": {},
              "removedWidgets": [],
              "type": "ansi"
            }
          },
          "output_type": "display_data"
        }
      ],
      "source": [
        "q1.count()"
      ]
    },
    {
      "cell_type": "code",
      "execution_count": null,
      "metadata": {
        "application/vnd.databricks.v1+cell": {
          "cellMetadata": {},
          "inputWidgets": {},
          "nuid": "b4d107db-26ce-4eeb-80bb-e61e3a825eba",
          "showTitle": false,
          "title": ""
        },
        "id": "J1jjOu0rEm1g",
        "outputId": "6f755d10-ce78-436c-f463-3d9f3daecaca"
      },
      "outputs": [
        {
          "data": {
            "text/plain": [
              "+---------------+-----+\n",
              "|        Species|count|\n",
              "+---------------+-----+\n",
              "| Iris-virginica|   50|\n",
              "|    Iris-setosa|   50|\n",
              "|Iris-versicolor|   50|\n",
              "+---------------+-----+\n",
              "\n"
            ]
          },
          "metadata": {
            "application/vnd.databricks.v1+output": {
              "addedWidgets": {},
              "arguments": {},
              "data": "+---------------+-----+\n|        Species|count|\n+---------------+-----+\n| Iris-virginica|   50|\n|    Iris-setosa|   50|\n|Iris-versicolor|   50|\n+---------------+-----+\n\n",
              "datasetInfos": [],
              "metadata": {},
              "removedWidgets": [],
              "type": "ansi"
            }
          },
          "output_type": "display_data"
        }
      ],
      "source": [
        "# groupby using spark query (this is not sql query)\n",
        "iris_data.groupby(\"Species\").count().show()"
      ]
    },
    {
      "cell_type": "code",
      "execution_count": null,
      "metadata": {
        "application/vnd.databricks.v1+cell": {
          "cellMetadata": {},
          "inputWidgets": {},
          "nuid": "1b063444-7e48-424c-a0fe-0ee0621bce5e",
          "showTitle": false,
          "title": ""
        },
        "id": "AqgLauVpEm1h"
      },
      "outputs": [],
      "source": [
        "# the same query using sql \n",
        "q2 = spark.sql(\"select Species,count(*) from iristab group by Species\")"
      ]
    },
    {
      "cell_type": "code",
      "execution_count": null,
      "metadata": {
        "application/vnd.databricks.v1+cell": {
          "cellMetadata": {},
          "inputWidgets": {},
          "nuid": "f599734f-d47b-44eb-8dfc-cfcb9176d2f7",
          "showTitle": false,
          "title": ""
        },
        "id": "0G4ymH9eEm1i",
        "outputId": "3e4f549d-5377-4ba1-8e9e-a30c9d41711a"
      },
      "outputs": [
        {
          "data": {
            "text/plain": [
              "+---------------+--------+\n",
              "|        Species|count(1)|\n",
              "+---------------+--------+\n",
              "| Iris-virginica|      50|\n",
              "|    Iris-setosa|      50|\n",
              "|Iris-versicolor|      50|\n",
              "+---------------+--------+\n",
              "\n"
            ]
          },
          "metadata": {
            "application/vnd.databricks.v1+output": {
              "addedWidgets": {},
              "arguments": {},
              "data": "+---------------+--------+\n|        Species|count(1)|\n+---------------+--------+\n| Iris-virginica|      50|\n|    Iris-setosa|      50|\n|Iris-versicolor|      50|\n+---------------+--------+\n\n",
              "datasetInfos": [],
              "metadata": {},
              "removedWidgets": [],
              "type": "ansi"
            }
          },
          "output_type": "display_data"
        }
      ],
      "source": [
        "q2.show()"
      ]
    },
    {
      "cell_type": "code",
      "execution_count": null,
      "metadata": {
        "application/vnd.databricks.v1+cell": {
          "cellMetadata": {},
          "inputWidgets": {},
          "nuid": "93b408ea-32e3-4b46-9912-7008d983fde1",
          "showTitle": false,
          "title": ""
        },
        "id": "WyVRzk-7Em1j"
      },
      "outputs": [],
      "source": [
        "# get the sepal length and width of species setosa\n",
        "q3 = spark.sql(\"select SepalLengthCm, SepalWidthCm, Species from iristab where Species=\\\"Iris-setosa\\\"\")"
      ]
    },
    {
      "cell_type": "code",
      "execution_count": null,
      "metadata": {
        "application/vnd.databricks.v1+cell": {
          "cellMetadata": {},
          "inputWidgets": {},
          "nuid": "e2a3f0e6-dc9d-4a49-b94d-7659ba597b40",
          "showTitle": false,
          "title": ""
        },
        "id": "CDIOfSxXEm1k",
        "outputId": "f71828fd-dd34-4b46-8838-fc5481d08c27"
      },
      "outputs": [
        {
          "data": {
            "text/plain": [
              "+-------------+------------+-----------+\n",
              "|SepalLengthCm|SepalWidthCm|    Species|\n",
              "+-------------+------------+-----------+\n",
              "|          5.1|         3.5|Iris-setosa|\n",
              "|          4.9|         3.0|Iris-setosa|\n",
              "|          4.7|         3.2|Iris-setosa|\n",
              "|          4.6|         3.1|Iris-setosa|\n",
              "|          5.0|         3.6|Iris-setosa|\n",
              "|          5.4|         3.9|Iris-setosa|\n",
              "|          4.6|         3.4|Iris-setosa|\n",
              "|          5.0|         3.4|Iris-setosa|\n",
              "|          4.4|         2.9|Iris-setosa|\n",
              "|          4.9|         3.1|Iris-setosa|\n",
              "|          5.4|         3.7|Iris-setosa|\n",
              "|          4.8|         3.4|Iris-setosa|\n",
              "|          4.8|         3.0|Iris-setosa|\n",
              "|          4.3|         3.0|Iris-setosa|\n",
              "|          5.8|         4.0|Iris-setosa|\n",
              "|          5.7|         4.4|Iris-setosa|\n",
              "|          5.4|         3.9|Iris-setosa|\n",
              "|          5.1|         3.5|Iris-setosa|\n",
              "|          5.7|         3.8|Iris-setosa|\n",
              "|          5.1|         3.8|Iris-setosa|\n",
              "+-------------+------------+-----------+\n",
              "only showing top 20 rows\n",
              "\n"
            ]
          },
          "metadata": {
            "application/vnd.databricks.v1+output": {
              "addedWidgets": {},
              "arguments": {},
              "data": "+-------------+------------+-----------+\n|SepalLengthCm|SepalWidthCm|    Species|\n+-------------+------------+-----------+\n|          5.1|         3.5|Iris-setosa|\n|          4.9|         3.0|Iris-setosa|\n|          4.7|         3.2|Iris-setosa|\n|          4.6|         3.1|Iris-setosa|\n|          5.0|         3.6|Iris-setosa|\n|          5.4|         3.9|Iris-setosa|\n|          4.6|         3.4|Iris-setosa|\n|          5.0|         3.4|Iris-setosa|\n|          4.4|         2.9|Iris-setosa|\n|          4.9|         3.1|Iris-setosa|\n|          5.4|         3.7|Iris-setosa|\n|          4.8|         3.4|Iris-setosa|\n|          4.8|         3.0|Iris-setosa|\n|          4.3|         3.0|Iris-setosa|\n|          5.8|         4.0|Iris-setosa|\n|          5.7|         4.4|Iris-setosa|\n|          5.4|         3.9|Iris-setosa|\n|          5.1|         3.5|Iris-setosa|\n|          5.7|         3.8|Iris-setosa|\n|          5.1|         3.8|Iris-setosa|\n+-------------+------------+-----------+\nonly showing top 20 rows\n\n",
              "datasetInfos": [],
              "metadata": {},
              "removedWidgets": [],
              "type": "ansi"
            }
          },
          "output_type": "display_data"
        }
      ],
      "source": [
        "q3.show()"
      ]
    },
    {
      "cell_type": "code",
      "execution_count": null,
      "metadata": {
        "application/vnd.databricks.v1+cell": {
          "cellMetadata": {},
          "inputWidgets": {},
          "nuid": "58f59c39-53be-49d7-9993-8fcd9d887ce7",
          "showTitle": false,
          "title": ""
        },
        "id": "utqwOS-gEm1l"
      },
      "outputs": [],
      "source": [
        "# Find the min sepal length for each species\n",
        "q3 = spark.sql(\"select Species, min(SepalLengthCm) as Min_sepal_length from iristab group by Species\")"
      ]
    },
    {
      "cell_type": "code",
      "execution_count": null,
      "metadata": {
        "application/vnd.databricks.v1+cell": {
          "cellMetadata": {},
          "inputWidgets": {},
          "nuid": "3995d7f7-d1ba-4f27-afb8-c6a63eb6389d",
          "showTitle": false,
          "title": ""
        },
        "id": "tpFM61_dEm1m",
        "outputId": "42b862ed-5dc0-4a78-f644-43ca18d21483"
      },
      "outputs": [
        {
          "data": {
            "text/plain": [
              "+---------------+----------------+\n",
              "|        Species|Min_sepal_length|\n",
              "+---------------+----------------+\n",
              "| Iris-virginica|             4.9|\n",
              "|    Iris-setosa|             4.3|\n",
              "|Iris-versicolor|             4.9|\n",
              "+---------------+----------------+\n",
              "\n"
            ]
          },
          "metadata": {
            "application/vnd.databricks.v1+output": {
              "addedWidgets": {},
              "arguments": {},
              "data": "+---------------+----------------+\n|        Species|Min_sepal_length|\n+---------------+----------------+\n| Iris-virginica|             4.9|\n|    Iris-setosa|             4.3|\n|Iris-versicolor|             4.9|\n+---------------+----------------+\n\n",
              "datasetInfos": [],
              "metadata": {},
              "removedWidgets": [],
              "type": "ansi"
            }
          },
          "output_type": "display_data"
        }
      ],
      "source": [
        "q3.show()"
      ]
    },
    {
      "cell_type": "code",
      "execution_count": null,
      "metadata": {
        "application/vnd.databricks.v1+cell": {
          "cellMetadata": {},
          "inputWidgets": {},
          "nuid": "36607bf4-198d-4b65-b767-14d475eb15aa",
          "showTitle": false,
          "title": ""
        },
        "id": "hL7_xriLEm1n"
      },
      "outputs": [],
      "source": [
        "# the same query using spark\n",
        "q3 = iris_data.groupBy(\"Species\").min(\"SepalLengthCm\")"
      ]
    },
    {
      "cell_type": "code",
      "execution_count": null,
      "metadata": {
        "application/vnd.databricks.v1+cell": {
          "cellMetadata": {},
          "inputWidgets": {},
          "nuid": "403fb4e9-de71-47df-aac3-a82d968fa45e",
          "showTitle": false,
          "title": ""
        },
        "id": "DrHEWhWMEm1n",
        "outputId": "8b43261d-f748-4baa-a321-8b3a808e49ad"
      },
      "outputs": [
        {
          "data": {
            "text/plain": [
              "+---------------+------------------+\n",
              "|        Species|min(SepalLengthCm)|\n",
              "+---------------+------------------+\n",
              "| Iris-virginica|               4.9|\n",
              "|    Iris-setosa|               4.3|\n",
              "|Iris-versicolor|               4.9|\n",
              "+---------------+------------------+\n",
              "\n"
            ]
          },
          "metadata": {
            "application/vnd.databricks.v1+output": {
              "addedWidgets": {},
              "arguments": {},
              "data": "+---------------+------------------+\n|        Species|min(SepalLengthCm)|\n+---------------+------------------+\n| Iris-virginica|               4.9|\n|    Iris-setosa|               4.3|\n|Iris-versicolor|               4.9|\n+---------------+------------------+\n\n",
              "datasetInfos": [],
              "metadata": {},
              "removedWidgets": [],
              "type": "ansi"
            }
          },
          "output_type": "display_data"
        }
      ],
      "source": [
        "q3.show()"
      ]
    },
    {
      "cell_type": "code",
      "execution_count": null,
      "metadata": {
        "application/vnd.databricks.v1+cell": {
          "cellMetadata": {},
          "inputWidgets": {},
          "nuid": "b80731a9-0363-4bf9-8f46-c7e971514e2d",
          "showTitle": false,
          "title": ""
        },
        "id": "nneBBgA-Em1o",
        "outputId": "8ae59f67-8b11-47db-ec10-a46b4089e122"
      },
      "outputs": [
        {
          "data": {
            "text/plain": [
              "+---------------+------------------+\n",
              "|        Species|avg(PetalLengthCm)|\n",
              "+---------------+------------------+\n",
              "| Iris-virginica|             5.552|\n",
              "|    Iris-setosa|             1.464|\n",
              "|Iris-versicolor|              4.26|\n",
              "+---------------+------------------+\n",
              "\n"
            ]
          },
          "metadata": {
            "application/vnd.databricks.v1+output": {
              "addedWidgets": {},
              "arguments": {},
              "data": "+---------------+------------------+\n|        Species|avg(PetalLengthCm)|\n+---------------+------------------+\n| Iris-virginica|             5.552|\n|    Iris-setosa|             1.464|\n|Iris-versicolor|              4.26|\n+---------------+------------------+\n\n",
              "datasetInfos": [],
              "metadata": {},
              "removedWidgets": [],
              "type": "ansi"
            }
          },
          "output_type": "display_data"
        }
      ],
      "source": [
        "# Average petal length of each species in data\n",
        "iris_data.groupBy(\"Species\").mean(\"PetalLengthCm\").show()"
      ]
    },
    {
      "cell_type": "code",
      "execution_count": null,
      "metadata": {
        "application/vnd.databricks.v1+cell": {
          "cellMetadata": {},
          "inputWidgets": {},
          "nuid": "b309ab32-a29c-4b00-be20-1fb2bb8dfab9",
          "showTitle": false,
          "title": ""
        },
        "id": "xHye87YwEm1p",
        "outputId": "e249df42-a269-483d-fcff-4b40e6556f6a"
      },
      "outputs": [
        {
          "data": {
            "text/plain": [
              "+----------------+----------------+----------------+\n",
              "|Min_petal_Length|Max_petal_length|Avg_petal_length|\n",
              "+----------------+----------------+----------------+\n",
              "|             4.5|             6.9|           5.552|\n",
              "|             1.0|             1.9|           1.464|\n",
              "|             3.0|             5.1|            4.26|\n",
              "+----------------+----------------+----------------+\n",
              "\n"
            ]
          },
          "metadata": {
            "application/vnd.databricks.v1+output": {
              "addedWidgets": {},
              "arguments": {},
              "data": "+----------------+----------------+----------------+\n|Min_petal_Length|Max_petal_length|Avg_petal_length|\n+----------------+----------------+----------------+\n|             4.5|             6.9|           5.552|\n|             1.0|             1.9|           1.464|\n|             3.0|             5.1|            4.26|\n+----------------+----------------+----------------+\n\n",
              "datasetInfos": [],
              "metadata": {},
              "removedWidgets": [],
              "type": "ansi"
            }
          },
          "output_type": "display_data"
        }
      ],
      "source": [
        "# Sql for aggregation\n",
        "spark.sql(\"select min(PetalLengthCM) as Min_petal_Length, max(PetalLengthCm) as Max_petal_length, avg(PetalLengthCm) as Avg_petal_length from iristab group by Species\").show()"
      ]
    },
    {
      "cell_type": "code",
      "execution_count": null,
      "metadata": {
        "application/vnd.databricks.v1+cell": {
          "cellMetadata": {},
          "inputWidgets": {},
          "nuid": "12cd96de-bb51-4601-b4b3-051f8901d62b",
          "showTitle": false,
          "title": ""
        },
        "id": "uibJY5WaEm1q",
        "outputId": "11428c5b-82b2-4e50-d6c8-b915a1f87b6a"
      },
      "outputs": [
        {
          "data": {
            "text/plain": [
              "+---------------+-------------+------------+\n",
              "|        Species|PetalLengthCm|PetalWidthCm|\n",
              "+---------------+-------------+------------+\n",
              "|Iris-versicolor|          4.6|         1.4|\n",
              "| Iris-virginica|          5.8|         1.8|\n",
              "| Iris-virginica|          5.4|         2.3|\n",
              "| Iris-virginica|          5.4|         2.1|\n",
              "| Iris-virginica|          5.5|         2.1|\n",
              "| Iris-virginica|          6.1|         1.9|\n",
              "| Iris-virginica|          6.4|         2.0|\n",
              "| Iris-virginica|          5.9|         2.1|\n",
              "| Iris-virginica|          5.7|         2.5|\n",
              "|Iris-versicolor|          4.2|         1.5|\n",
              "|Iris-versicolor|          4.4|         1.3|\n",
              "|Iris-versicolor|          4.6|         1.3|\n",
              "|Iris-versicolor|          4.3|         1.3|\n",
              "|Iris-versicolor|          4.7|         1.5|\n",
              "|Iris-versicolor|          4.8|         1.4|\n",
              "| Iris-virginica|          5.0|         2.0|\n",
              "| Iris-virginica|          5.3|         1.9|\n",
              "|Iris-versicolor|          4.1|         1.3|\n",
              "| Iris-virginica|          5.8|         2.2|\n",
              "| Iris-virginica|          5.7|         2.3|\n",
              "+---------------+-------------+------------+\n",
              "only showing top 20 rows\n",
              "\n"
            ]
          },
          "metadata": {
            "application/vnd.databricks.v1+output": {
              "addedWidgets": {},
              "arguments": {},
              "data": "+---------------+-------------+------------+\n|        Species|PetalLengthCm|PetalWidthCm|\n+---------------+-------------+------------+\n|Iris-versicolor|          4.6|         1.4|\n| Iris-virginica|          5.8|         1.8|\n| Iris-virginica|          5.4|         2.3|\n| Iris-virginica|          5.4|         2.1|\n| Iris-virginica|          5.5|         2.1|\n| Iris-virginica|          6.1|         1.9|\n| Iris-virginica|          6.4|         2.0|\n| Iris-virginica|          5.9|         2.1|\n| Iris-virginica|          5.7|         2.5|\n|Iris-versicolor|          4.2|         1.5|\n|Iris-versicolor|          4.4|         1.3|\n|Iris-versicolor|          4.6|         1.3|\n|Iris-versicolor|          4.3|         1.3|\n|Iris-versicolor|          4.7|         1.5|\n|Iris-versicolor|          4.8|         1.4|\n| Iris-virginica|          5.0|         2.0|\n| Iris-virginica|          5.3|         1.9|\n|Iris-versicolor|          4.1|         1.3|\n| Iris-virginica|          5.8|         2.2|\n| Iris-virginica|          5.7|         2.3|\n+---------------+-------------+------------+\nonly showing top 20 rows\n\n",
              "datasetInfos": [],
              "metadata": {},
              "removedWidgets": [],
              "type": "ansi"
            }
          },
          "output_type": "display_data"
        }
      ],
      "source": [
        "# filter on the aggregation clause using a having clause\n",
        "# print the petal length and petal width of species where the avg petal length is more than 4 \n",
        "\n",
        "spark.sql(\"select Species, PetalLengthCm, PetalWidthCm from iristab group by Species, PetalLengthCm, PetalWidthCm having mean(PetalLengthCm)>4.0\").show()\n"
      ]
    },
    {
      "cell_type": "code",
      "execution_count": null,
      "metadata": {
        "application/vnd.databricks.v1+cell": {
          "cellMetadata": {},
          "inputWidgets": {},
          "nuid": "658efc7a-4900-4619-9305-81c0881384e7",
          "showTitle": false,
          "title": ""
        },
        "id": "Y6ewYDA2Em1r",
        "outputId": "bd01407d-d714-4d94-9208-a1659124be33"
      },
      "outputs": [
        {
          "data": {
            "text/plain": [
              "+---+-------------+------------+-------------+------------+-----------+\n",
              "| Id|SepalLengthCm|SepalWidthCm|PetalLengthCm|PetalWidthCm|    Species|\n",
              "+---+-------------+------------+-------------+------------+-----------+\n",
              "|  1|          5.1|         3.5|          1.4|         0.2|Iris-setosa|\n",
              "|  2|          4.9|         3.0|          1.4|         0.2|Iris-setosa|\n",
              "|  3|          4.7|         3.2|          1.3|         0.2|Iris-setosa|\n",
              "|  4|          4.6|         3.1|          1.5|         0.2|Iris-setosa|\n",
              "|  5|          5.0|         3.6|          1.4|         0.2|Iris-setosa|\n",
              "|  6|          5.4|         3.9|          1.7|         0.4|Iris-setosa|\n",
              "|  7|          4.6|         3.4|          1.4|         0.3|Iris-setosa|\n",
              "|  8|          5.0|         3.4|          1.5|         0.2|Iris-setosa|\n",
              "|  9|          4.4|         2.9|          1.4|         0.2|Iris-setosa|\n",
              "| 10|          4.9|         3.1|          1.5|         0.1|Iris-setosa|\n",
              "| 11|          5.4|         3.7|          1.5|         0.2|Iris-setosa|\n",
              "| 12|          4.8|         3.4|          1.6|         0.2|Iris-setosa|\n",
              "| 13|          4.8|         3.0|          1.4|         0.1|Iris-setosa|\n",
              "| 14|          4.3|         3.0|          1.1|         0.1|Iris-setosa|\n",
              "| 15|          5.8|         4.0|          1.2|         0.2|Iris-setosa|\n",
              "| 16|          5.7|         4.4|          1.5|         0.4|Iris-setosa|\n",
              "| 17|          5.4|         3.9|          1.3|         0.4|Iris-setosa|\n",
              "| 18|          5.1|         3.5|          1.4|         0.3|Iris-setosa|\n",
              "| 19|          5.7|         3.8|          1.7|         0.3|Iris-setosa|\n",
              "| 20|          5.1|         3.8|          1.5|         0.3|Iris-setosa|\n",
              "+---+-------------+------------+-------------+------------+-----------+\n",
              "only showing top 20 rows\n",
              "\n"
            ]
          },
          "metadata": {
            "application/vnd.databricks.v1+output": {
              "addedWidgets": {},
              "arguments": {},
              "data": "+---+-------------+------------+-------------+------------+-----------+\n| Id|SepalLengthCm|SepalWidthCm|PetalLengthCm|PetalWidthCm|    Species|\n+---+-------------+------------+-------------+------------+-----------+\n|  1|          5.1|         3.5|          1.4|         0.2|Iris-setosa|\n|  2|          4.9|         3.0|          1.4|         0.2|Iris-setosa|\n|  3|          4.7|         3.2|          1.3|         0.2|Iris-setosa|\n|  4|          4.6|         3.1|          1.5|         0.2|Iris-setosa|\n|  5|          5.0|         3.6|          1.4|         0.2|Iris-setosa|\n|  6|          5.4|         3.9|          1.7|         0.4|Iris-setosa|\n|  7|          4.6|         3.4|          1.4|         0.3|Iris-setosa|\n|  8|          5.0|         3.4|          1.5|         0.2|Iris-setosa|\n|  9|          4.4|         2.9|          1.4|         0.2|Iris-setosa|\n| 10|          4.9|         3.1|          1.5|         0.1|Iris-setosa|\n| 11|          5.4|         3.7|          1.5|         0.2|Iris-setosa|\n| 12|          4.8|         3.4|          1.6|         0.2|Iris-setosa|\n| 13|          4.8|         3.0|          1.4|         0.1|Iris-setosa|\n| 14|          4.3|         3.0|          1.1|         0.1|Iris-setosa|\n| 15|          5.8|         4.0|          1.2|         0.2|Iris-setosa|\n| 16|          5.7|         4.4|          1.5|         0.4|Iris-setosa|\n| 17|          5.4|         3.9|          1.3|         0.4|Iris-setosa|\n| 18|          5.1|         3.5|          1.4|         0.3|Iris-setosa|\n| 19|          5.7|         3.8|          1.7|         0.3|Iris-setosa|\n| 20|          5.1|         3.8|          1.5|         0.3|Iris-setosa|\n+---+-------------+------------+-------------+------------+-----------+\nonly showing top 20 rows\n\n",
              "datasetInfos": [],
              "metadata": {},
              "removedWidgets": [],
              "type": "ansi"
            }
          },
          "output_type": "display_data"
        }
      ],
      "source": [
        "# Print data where species is setosa using spark\n",
        "iris_data.where(\"Species=\\\"Iris-setosa\\\"\").show()"
      ]
    },
    {
      "cell_type": "code",
      "execution_count": null,
      "metadata": {
        "application/vnd.databricks.v1+cell": {
          "cellMetadata": {},
          "inputWidgets": {},
          "nuid": "47eca7f4-d70b-44f2-9b3b-31bea402c0b9",
          "showTitle": false,
          "title": ""
        },
        "id": "cf1KD1i3Em1r"
      },
      "outputs": [],
      "source": [
        "# Convert the iris_data to pandas\n",
        "pd_iris = iris_data.toPandas()"
      ]
    },
    {
      "cell_type": "code",
      "execution_count": null,
      "metadata": {
        "application/vnd.databricks.v1+cell": {
          "cellMetadata": {},
          "inputWidgets": {},
          "nuid": "d15976e8-63ef-45cf-80a1-d9295adf9b1a",
          "showTitle": false,
          "title": ""
        },
        "id": "Horxaid8Em1s",
        "outputId": "c4045076-94b3-4e23-bd07-e2f141ce6a47"
      },
      "outputs": [
        {
          "data": {
            "text/html": [
              "<div>\n",
              "<style scoped>\n",
              "    .dataframe tbody tr th:only-of-type {\n",
              "        vertical-align: middle;\n",
              "    }\n",
              "\n",
              "    .dataframe tbody tr th {\n",
              "        vertical-align: top;\n",
              "    }\n",
              "\n",
              "    .dataframe thead th {\n",
              "        text-align: right;\n",
              "    }\n",
              "</style>\n",
              "<table border=\"1\" class=\"dataframe\">\n",
              "  <thead>\n",
              "    <tr style=\"text-align: right;\">\n",
              "      <th></th>\n",
              "      <th>Id</th>\n",
              "      <th>SepalLengthCm</th>\n",
              "      <th>SepalWidthCm</th>\n",
              "      <th>PetalLengthCm</th>\n",
              "      <th>PetalWidthCm</th>\n",
              "      <th>Species</th>\n",
              "    </tr>\n",
              "  </thead>\n",
              "  <tbody>\n",
              "    <tr>\n",
              "      <th>0</th>\n",
              "      <td>1</td>\n",
              "      <td>5.1</td>\n",
              "      <td>3.5</td>\n",
              "      <td>1.4</td>\n",
              "      <td>0.2</td>\n",
              "      <td>Iris-setosa</td>\n",
              "    </tr>\n",
              "    <tr>\n",
              "      <th>1</th>\n",
              "      <td>2</td>\n",
              "      <td>4.9</td>\n",
              "      <td>3.0</td>\n",
              "      <td>1.4</td>\n",
              "      <td>0.2</td>\n",
              "      <td>Iris-setosa</td>\n",
              "    </tr>\n",
              "    <tr>\n",
              "      <th>2</th>\n",
              "      <td>3</td>\n",
              "      <td>4.7</td>\n",
              "      <td>3.2</td>\n",
              "      <td>1.3</td>\n",
              "      <td>0.2</td>\n",
              "      <td>Iris-setosa</td>\n",
              "    </tr>\n",
              "    <tr>\n",
              "      <th>3</th>\n",
              "      <td>4</td>\n",
              "      <td>4.6</td>\n",
              "      <td>3.1</td>\n",
              "      <td>1.5</td>\n",
              "      <td>0.2</td>\n",
              "      <td>Iris-setosa</td>\n",
              "    </tr>\n",
              "    <tr>\n",
              "      <th>4</th>\n",
              "      <td>5</td>\n",
              "      <td>5.0</td>\n",
              "      <td>3.6</td>\n",
              "      <td>1.4</td>\n",
              "      <td>0.2</td>\n",
              "      <td>Iris-setosa</td>\n",
              "    </tr>\n",
              "  </tbody>\n",
              "</table>\n",
              "</div>"
            ]
          },
          "metadata": {
            "application/vnd.databricks.v1+output": {
              "addedWidgets": {},
              "arguments": {},
              "data": "<div>\n<style scoped>\n    .dataframe tbody tr th:only-of-type {\n        vertical-align: middle;\n    }\n\n    .dataframe tbody tr th {\n        vertical-align: top;\n    }\n\n    .dataframe thead th {\n        text-align: right;\n    }\n</style>\n<table border=\"1\" class=\"dataframe\">\n  <thead>\n    <tr style=\"text-align: right;\">\n      <th></th>\n      <th>Id</th>\n      <th>SepalLengthCm</th>\n      <th>SepalWidthCm</th>\n      <th>PetalLengthCm</th>\n      <th>PetalWidthCm</th>\n      <th>Species</th>\n    </tr>\n  </thead>\n  <tbody>\n    <tr>\n      <th>0</th>\n      <td>1</td>\n      <td>5.1</td>\n      <td>3.5</td>\n      <td>1.4</td>\n      <td>0.2</td>\n      <td>Iris-setosa</td>\n    </tr>\n    <tr>\n      <th>1</th>\n      <td>2</td>\n      <td>4.9</td>\n      <td>3.0</td>\n      <td>1.4</td>\n      <td>0.2</td>\n      <td>Iris-setosa</td>\n    </tr>\n    <tr>\n      <th>2</th>\n      <td>3</td>\n      <td>4.7</td>\n      <td>3.2</td>\n      <td>1.3</td>\n      <td>0.2</td>\n      <td>Iris-setosa</td>\n    </tr>\n    <tr>\n      <th>3</th>\n      <td>4</td>\n      <td>4.6</td>\n      <td>3.1</td>\n      <td>1.5</td>\n      <td>0.2</td>\n      <td>Iris-setosa</td>\n    </tr>\n    <tr>\n      <th>4</th>\n      <td>5</td>\n      <td>5.0</td>\n      <td>3.6</td>\n      <td>1.4</td>\n      <td>0.2</td>\n      <td>Iris-setosa</td>\n    </tr>\n  </tbody>\n</table>\n</div>",
              "datasetInfos": [],
              "metadata": {},
              "removedWidgets": [],
              "textData": null,
              "type": "htmlSandbox"
            }
          },
          "output_type": "display_data"
        }
      ],
      "source": [
        "# View the data\n",
        "pd_iris.head()"
      ]
    },
    {
      "cell_type": "code",
      "execution_count": null,
      "metadata": {
        "application/vnd.databricks.v1+cell": {
          "cellMetadata": {},
          "inputWidgets": {},
          "nuid": "103b18a7-b886-4edd-8fc2-23864dfcdcd3",
          "showTitle": false,
          "title": ""
        },
        "id": "yAoLUAG6Em1t",
        "outputId": "11deddd0-69b3-4012-bbe6-fd5fd8694fb3"
      },
      "outputs": [
        {
          "data": {
            "text/plain": [
              "Out[60]: Id                 int32\n",
              "SepalLengthCm    float64\n",
              "SepalWidthCm     float64\n",
              "PetalLengthCm    float64\n",
              "PetalWidthCm     float64\n",
              "Species           object\n",
              "dtype: object"
            ]
          },
          "metadata": {
            "application/vnd.databricks.v1+output": {
              "addedWidgets": {},
              "arguments": {},
              "data": "Out[60]: Id                 int32\nSepalLengthCm    float64\nSepalWidthCm     float64\nPetalLengthCm    float64\nPetalWidthCm     float64\nSpecies           object\ndtype: object",
              "datasetInfos": [],
              "metadata": {},
              "removedWidgets": [],
              "type": "ansi"
            }
          },
          "output_type": "display_data"
        }
      ],
      "source": [
        "pd_iris.dtypes"
      ]
    },
    {
      "cell_type": "code",
      "execution_count": null,
      "metadata": {
        "application/vnd.databricks.v1+cell": {
          "cellMetadata": {},
          "inputWidgets": {},
          "nuid": "9a4c4ae3-5865-4641-8453-b523d6156676",
          "showTitle": false,
          "title": ""
        },
        "id": "XA1nu4cDEm1t"
      },
      "outputs": [],
      "source": []
    }
  ],
  "metadata": {
    "application/vnd.databricks.v1+notebook": {
      "dashboards": [],
      "language": "python",
      "notebookMetadata": {
        "pythonIndentUnit": 4
      },
      "notebookName": "n_assignment",
      "notebookOrigID": 231842660577705,
      "widgets": {}
    },
    "kernelspec": {
      "display_name": "Python 3",
      "language": "python",
      "name": "python3"
    },
    "language_info": {
      "codemirror_mode": {
        "name": "ipython",
        "version": 3
      },
      "file_extension": ".py",
      "mimetype": "text/x-python",
      "name": "python",
      "nbconvert_exporter": "python",
      "pygments_lexer": "ipython3",
      "version": "3.8.8"
    },
    "colab": {
      "provenance": [],
      "include_colab_link": true
    }
  },
  "nbformat": 4,
  "nbformat_minor": 0
}