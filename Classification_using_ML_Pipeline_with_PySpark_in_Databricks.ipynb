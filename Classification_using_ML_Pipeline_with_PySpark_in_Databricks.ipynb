{
  "cells": [
    {
      "cell_type": "markdown",
      "metadata": {
        "id": "view-in-github",
        "colab_type": "text"
      },
      "source": [
        "<a href=\"https://colab.research.google.com/github/sachincs3108/Hands-on_project/blob/master/Classification_using_ML_Pipeline_with_PySpark_in_Databricks.ipynb\" target=\"_parent\"><img src=\"https://colab.research.google.com/assets/colab-badge.svg\" alt=\"Open In Colab\"/></a>"
      ]
    },
    {
      "cell_type": "markdown",
      "metadata": {
        "application/vnd.databricks.v1+cell": {
          "cellMetadata": {},
          "inputWidgets": {},
          "nuid": "3388f45d-2c4b-40e2-aed2-4e2ea0884375",
          "showTitle": false,
          "title": ""
        },
        "id": "KSpDmfeYDCft"
      },
      "source": [
        "# Deepali Handgar\n",
        "## Roll No: 04\n",
        "## Data Engineering Assignment: ML Pipeline for Classification\n",
        "## M.Sc. Computer Science (With Specialization in Data Science)\n",
        "## University of Mumbai"
      ]
    },
    {
      "cell_type": "code",
      "execution_count": null,
      "metadata": {
        "application/vnd.databricks.v1+cell": {
          "cellMetadata": {},
          "inputWidgets": {},
          "nuid": "52821e13-6523-451f-9669-15a0ce2ef33f",
          "showTitle": false,
          "title": ""
        },
        "id": "zbn1OPI_DCf6"
      },
      "outputs": [],
      "source": [
        "# load data \n",
        "df_ipl = spark.read.option(\"inferSchema\", True).option(\"header\",True).csv(\"/FileStore/tables/ind_ban.csv\")"
      ]
    },
    {
      "cell_type": "code",
      "execution_count": null,
      "metadata": {
        "application/vnd.databricks.v1+cell": {
          "cellMetadata": {},
          "inputWidgets": {},
          "nuid": "8d042a2c-4bf0-4e56-95e2-fe578dd774f1",
          "showTitle": false,
          "title": ""
        },
        "id": "RYtZNWwvDCf_",
        "outputId": "5e99180f-986b-4440-cf75-802fb1f89538"
      },
      "outputs": [
        {
          "data": {
            "text/plain": [
              "+-------+-----------------+------+------------------+--------------------+------+---------+---+------+----------+--------+----+----+-------------------+\n",
              "|Batsman|     Batsman_Name|Bowler|       Bowler_Name|          Commentary|Detail|Dismissed| Id|Isball|Isboundary|Iswicket|Over|Runs|          Timestamp|\n",
              "+-------+-----------------+------+------------------+--------------------+------+---------+---+------+----------+--------+----+----+-------------------+\n",
              "|  28994|   Mohammed Shami| 63881| Mustafizur Rahman|OUT! Bowled! 5-fe...|     W|    28994|346|  true|      null|       1|49.6|   0|2019-07-02 13:18:47|\n",
              "|   5132|Bhuvneshwar Kumar| 63881| Mustafizur Rahman|WIDE AND RUN OUT!...|  W+wd|     5132|344|  true|      null|       1|49.6|   1|2019-07-02 13:17:28|\n",
              "|  28994|   Mohammed Shami| 63881| Mustafizur Rahman|Back of a length ...|  null|     null|343|  true|      null|    null|49.5|   1|2019-07-02 13:16:03|\n",
              "|   5132|Bhuvneshwar Kumar| 63881| Mustafizur Rahman|Just 1 run off th...|  null|     null|342|  true|      null|    null|49.4|   1|2019-07-02 13:15:17|\n",
              "|   3676|         MS Dhoni| 63881| Mustafizur Rahman|OUT! No Dhoni mag...|     W|     3676|340|  true|      null|       1|49.3|   0|2019-07-02 13:13:39|\n",
              "|   3676|         MS Dhoni| 63881| Mustafizur Rahman|Another dot. Bang...|  null|     null|339|  true|      null|    null|49.2|   0|2019-07-02 13:12:47|\n",
              "|   3676|         MS Dhoni| 63881| Mustafizur Rahman|Good length ball ...|  null|     null|338|  true|      null|    null|49.1|   0|2019-07-02 13:12:21|\n",
              "|   3676|         MS Dhoni| 64151|Mohammad Saifuddin|Good length ball ...|  null|     null|337|  true|      null|    null|48.6|   1|2019-07-02 13:10:58|\n",
              "|   3676|         MS Dhoni| 64151|Mohammad Saifuddin|FOUR! Dhoni rolli...|  null|     null|336|  true|         1|    null|48.5|   4|2019-07-02 13:10:12|\n",
              "|   3676|         MS Dhoni| 64151|Mohammad Saifuddin|Slower delivery o...|  null|     null|335|  true|      null|    null|48.4|   0|2019-07-02 13:09:46|\n",
              "|   3676|         MS Dhoni| 64151|Mohammad Saifuddin|Fuller on off, Dh...|  null|     null|334|  true|      null|    null|48.3|   0|2019-07-02 13:09:06|\n",
              "|   3676|         MS Dhoni| 64151|Mohammad Saifuddin|FOUR! Driven with...|  null|     null|333|  true|         1|    null|48.2|   4|2019-07-02 13:08:18|\n",
              "|   3676|         MS Dhoni| 64151|Mohammad Saifuddin|Good length ball ...|  null|     null|332|  true|      null|    null|48.1|   2|2019-07-02 13:07:42|\n",
              "|   5132|Bhuvneshwar Kumar| 63881| Mustafizur Rahman|Slower bouncer to...|  null|     null|331|  true|      null|    null|47.6|   0|2019-07-02 13:06:42|\n",
              "|   3676|         MS Dhoni| 63881| Mustafizur Rahman|Length delivery a...|  null|     null|330|  true|      null|    null|47.5|   1|2019-07-02 13:06:15|\n",
              "|   3676|         MS Dhoni| 63881| Mustafizur Rahman|Good length ball ...|  null|     null|329|  true|      null|    null|47.4|   0|2019-07-02 13:05:32|\n",
              "|   5132|Bhuvneshwar Kumar| 63881| Mustafizur Rahman|Good length ball ...|  null|     null|328|  true|      null|    null|47.3|   1|2019-07-02 13:04:58|\n",
              "|   3632|   Dinesh Karthik| 63881| Mustafizur Rahman|OUT! Caught! Kart...|     W|     3632|326|  true|      null|       1|47.2|   0|2019-07-02 13:03:29|\n",
              "|   3676|         MS Dhoni| 63881| Mustafizur Rahman|On the pads, Dhon...|  null|     null|325|  true|      null|    null|47.1|   1|2019-07-02 13:02:17|\n",
              "|   3676|         MS Dhoni| 64151|Mohammad Saifuddin|Almost a calamity...|  null|     null|324|  true|      null|    null|46.6|   1|2019-07-02 13:01:16|\n",
              "+-------+-----------------+------+------------------+--------------------+------+---------+---+------+----------+--------+----+----+-------------------+\n",
              "only showing top 20 rows\n",
              "\n"
            ]
          },
          "metadata": {
            "application/vnd.databricks.v1+output": {
              "addedWidgets": {},
              "arguments": {},
              "data": "+-------+-----------------+------+------------------+--------------------+------+---------+---+------+----------+--------+----+----+-------------------+\n|Batsman|     Batsman_Name|Bowler|       Bowler_Name|          Commentary|Detail|Dismissed| Id|Isball|Isboundary|Iswicket|Over|Runs|          Timestamp|\n+-------+-----------------+------+------------------+--------------------+------+---------+---+------+----------+--------+----+----+-------------------+\n|  28994|   Mohammed Shami| 63881| Mustafizur Rahman|OUT! Bowled! 5-fe...|     W|    28994|346|  true|      null|       1|49.6|   0|2019-07-02 13:18:47|\n|   5132|Bhuvneshwar Kumar| 63881| Mustafizur Rahman|WIDE AND RUN OUT!...|  W+wd|     5132|344|  true|      null|       1|49.6|   1|2019-07-02 13:17:28|\n|  28994|   Mohammed Shami| 63881| Mustafizur Rahman|Back of a length ...|  null|     null|343|  true|      null|    null|49.5|   1|2019-07-02 13:16:03|\n|   5132|Bhuvneshwar Kumar| 63881| Mustafizur Rahman|Just 1 run off th...|  null|     null|342|  true|      null|    null|49.4|   1|2019-07-02 13:15:17|\n|   3676|         MS Dhoni| 63881| Mustafizur Rahman|OUT! No Dhoni mag...|     W|     3676|340|  true|      null|       1|49.3|   0|2019-07-02 13:13:39|\n|   3676|         MS Dhoni| 63881| Mustafizur Rahman|Another dot. Bang...|  null|     null|339|  true|      null|    null|49.2|   0|2019-07-02 13:12:47|\n|   3676|         MS Dhoni| 63881| Mustafizur Rahman|Good length ball ...|  null|     null|338|  true|      null|    null|49.1|   0|2019-07-02 13:12:21|\n|   3676|         MS Dhoni| 64151|Mohammad Saifuddin|Good length ball ...|  null|     null|337|  true|      null|    null|48.6|   1|2019-07-02 13:10:58|\n|   3676|         MS Dhoni| 64151|Mohammad Saifuddin|FOUR! Dhoni rolli...|  null|     null|336|  true|         1|    null|48.5|   4|2019-07-02 13:10:12|\n|   3676|         MS Dhoni| 64151|Mohammad Saifuddin|Slower delivery o...|  null|     null|335|  true|      null|    null|48.4|   0|2019-07-02 13:09:46|\n|   3676|         MS Dhoni| 64151|Mohammad Saifuddin|Fuller on off, Dh...|  null|     null|334|  true|      null|    null|48.3|   0|2019-07-02 13:09:06|\n|   3676|         MS Dhoni| 64151|Mohammad Saifuddin|FOUR! Driven with...|  null|     null|333|  true|         1|    null|48.2|   4|2019-07-02 13:08:18|\n|   3676|         MS Dhoni| 64151|Mohammad Saifuddin|Good length ball ...|  null|     null|332|  true|      null|    null|48.1|   2|2019-07-02 13:07:42|\n|   5132|Bhuvneshwar Kumar| 63881| Mustafizur Rahman|Slower bouncer to...|  null|     null|331|  true|      null|    null|47.6|   0|2019-07-02 13:06:42|\n|   3676|         MS Dhoni| 63881| Mustafizur Rahman|Length delivery a...|  null|     null|330|  true|      null|    null|47.5|   1|2019-07-02 13:06:15|\n|   3676|         MS Dhoni| 63881| Mustafizur Rahman|Good length ball ...|  null|     null|329|  true|      null|    null|47.4|   0|2019-07-02 13:05:32|\n|   5132|Bhuvneshwar Kumar| 63881| Mustafizur Rahman|Good length ball ...|  null|     null|328|  true|      null|    null|47.3|   1|2019-07-02 13:04:58|\n|   3632|   Dinesh Karthik| 63881| Mustafizur Rahman|OUT! Caught! Kart...|     W|     3632|326|  true|      null|       1|47.2|   0|2019-07-02 13:03:29|\n|   3676|         MS Dhoni| 63881| Mustafizur Rahman|On the pads, Dhon...|  null|     null|325|  true|      null|    null|47.1|   1|2019-07-02 13:02:17|\n|   3676|         MS Dhoni| 64151|Mohammad Saifuddin|Almost a calamity...|  null|     null|324|  true|      null|    null|46.6|   1|2019-07-02 13:01:16|\n+-------+-----------------+------+------------------+--------------------+------+---------+---+------+----------+--------+----+----+-------------------+\nonly showing top 20 rows\n\n",
              "datasetInfos": [],
              "metadata": {},
              "removedWidgets": [],
              "type": "ansi"
            }
          },
          "output_type": "display_data"
        }
      ],
      "source": [
        "# view data\n",
        "df_ipl.show()"
      ]
    },
    {
      "cell_type": "code",
      "execution_count": null,
      "metadata": {
        "application/vnd.databricks.v1+cell": {
          "cellMetadata": {},
          "inputWidgets": {},
          "nuid": "cdc801c9-a104-48cb-8a40-cf6a1b5be05d",
          "showTitle": false,
          "title": ""
        },
        "id": "6GYy1_K4DCgD",
        "outputId": "82197f87-1a6b-44f5-b48d-7f0dfcadb484"
      },
      "outputs": [
        {
          "data": {
            "text/plain": [
              "root\n",
              " |-- Batsman: integer (nullable = true)\n",
              " |-- Batsman_Name: string (nullable = true)\n",
              " |-- Bowler: integer (nullable = true)\n",
              " |-- Bowler_Name: string (nullable = true)\n",
              " |-- Commentary: string (nullable = true)\n",
              " |-- Detail: string (nullable = true)\n",
              " |-- Dismissed: integer (nullable = true)\n",
              " |-- Id: integer (nullable = true)\n",
              " |-- Isball: boolean (nullable = true)\n",
              " |-- Isboundary: integer (nullable = true)\n",
              " |-- Iswicket: integer (nullable = true)\n",
              " |-- Over: double (nullable = true)\n",
              " |-- Runs: integer (nullable = true)\n",
              " |-- Timestamp: timestamp (nullable = true)\n",
              "\n"
            ]
          },
          "metadata": {
            "application/vnd.databricks.v1+output": {
              "addedWidgets": {},
              "arguments": {},
              "data": "root\n |-- Batsman: integer (nullable = true)\n |-- Batsman_Name: string (nullable = true)\n |-- Bowler: integer (nullable = true)\n |-- Bowler_Name: string (nullable = true)\n |-- Commentary: string (nullable = true)\n |-- Detail: string (nullable = true)\n |-- Dismissed: integer (nullable = true)\n |-- Id: integer (nullable = true)\n |-- Isball: boolean (nullable = true)\n |-- Isboundary: integer (nullable = true)\n |-- Iswicket: integer (nullable = true)\n |-- Over: double (nullable = true)\n |-- Runs: integer (nullable = true)\n |-- Timestamp: timestamp (nullable = true)\n\n",
              "datasetInfos": [],
              "metadata": {},
              "removedWidgets": [],
              "type": "ansi"
            }
          },
          "output_type": "display_data"
        }
      ],
      "source": [
        "df_ipl.printSchema()"
      ]
    },
    {
      "cell_type": "code",
      "execution_count": null,
      "metadata": {
        "application/vnd.databricks.v1+cell": {
          "cellMetadata": {},
          "inputWidgets": {},
          "nuid": "53d27246-7e9b-48f9-80f9-ea11afa8d614",
          "showTitle": false,
          "title": ""
        },
        "id": "gJ7u-t-ODCgF"
      },
      "outputs": [],
      "source": [
        "# map string columns to numeric indices\n",
        "from pyspark.ml.feature import StringIndexer\n",
        "df_ipl_mod = StringIndexer(inputCol=\"Batsman_Name\",outputCol = 'bt_index').fit(df_ipl).transform(df_ipl)"
      ]
    },
    {
      "cell_type": "code",
      "execution_count": null,
      "metadata": {
        "application/vnd.databricks.v1+cell": {
          "cellMetadata": {},
          "inputWidgets": {},
          "nuid": "53860b83-d8cb-411c-a34c-0bf9bc707ae6",
          "showTitle": false,
          "title": ""
        },
        "id": "7FYDA6plDCgH",
        "outputId": "aea60d73-61e8-4073-928b-bde6732bdb68"
      },
      "outputs": [
        {
          "data": {
            "text/plain": [
              "+-----------------+--------+\n",
              "|     Batsman_name|bt_index|\n",
              "+-----------------+--------+\n",
              "|   Mohammed Shami|    18.0|\n",
              "|Bhuvneshwar Kumar|    16.0|\n",
              "|   Mohammed Shami|    18.0|\n",
              "|Bhuvneshwar Kumar|    16.0|\n",
              "|         MS Dhoni|     7.0|\n",
              "|         MS Dhoni|     7.0|\n",
              "|         MS Dhoni|     7.0|\n",
              "|         MS Dhoni|     7.0|\n",
              "|         MS Dhoni|     7.0|\n",
              "|         MS Dhoni|     7.0|\n",
              "|         MS Dhoni|     7.0|\n",
              "|         MS Dhoni|     7.0|\n",
              "|         MS Dhoni|     7.0|\n",
              "|Bhuvneshwar Kumar|    16.0|\n",
              "|         MS Dhoni|     7.0|\n",
              "|         MS Dhoni|     7.0|\n",
              "|Bhuvneshwar Kumar|    16.0|\n",
              "|   Dinesh Karthik|    13.0|\n",
              "|         MS Dhoni|     7.0|\n",
              "|         MS Dhoni|     7.0|\n",
              "+-----------------+--------+\n",
              "only showing top 20 rows\n",
              "\n"
            ]
          },
          "metadata": {
            "application/vnd.databricks.v1+output": {
              "addedWidgets": {},
              "arguments": {},
              "data": "+-----------------+--------+\n|     Batsman_name|bt_index|\n+-----------------+--------+\n|   Mohammed Shami|    18.0|\n|Bhuvneshwar Kumar|    16.0|\n|   Mohammed Shami|    18.0|\n|Bhuvneshwar Kumar|    16.0|\n|         MS Dhoni|     7.0|\n|         MS Dhoni|     7.0|\n|         MS Dhoni|     7.0|\n|         MS Dhoni|     7.0|\n|         MS Dhoni|     7.0|\n|         MS Dhoni|     7.0|\n|         MS Dhoni|     7.0|\n|         MS Dhoni|     7.0|\n|         MS Dhoni|     7.0|\n|Bhuvneshwar Kumar|    16.0|\n|         MS Dhoni|     7.0|\n|         MS Dhoni|     7.0|\n|Bhuvneshwar Kumar|    16.0|\n|   Dinesh Karthik|    13.0|\n|         MS Dhoni|     7.0|\n|         MS Dhoni|     7.0|\n+-----------------+--------+\nonly showing top 20 rows\n\n",
              "datasetInfos": [],
              "metadata": {},
              "removedWidgets": [],
              "type": "ansi"
            }
          },
          "output_type": "display_data"
        }
      ],
      "source": [
        "df_ipl_mod.select(\"Batsman_name\",\"bt_index\").show()"
      ]
    },
    {
      "cell_type": "code",
      "execution_count": null,
      "metadata": {
        "application/vnd.databricks.v1+cell": {
          "cellMetadata": {},
          "inputWidgets": {},
          "nuid": "f06decad-78dd-4c18-84a6-f723da94e854",
          "showTitle": false,
          "title": ""
        },
        "id": "DIFq2CXwDCgJ",
        "outputId": "2a8a29b0-126c-4099-facd-99d8a037fdc6"
      },
      "outputs": [
        {
          "data": {
            "text/plain": [
              "Out[33]: ['Batsman',\n",
              " 'Batsman_Name',\n",
              " 'Bowler',\n",
              " 'Bowler_Name',\n",
              " 'Commentary',\n",
              " 'Detail',\n",
              " 'Dismissed',\n",
              " 'Id',\n",
              " 'Isball',\n",
              " 'Isboundary',\n",
              " 'Iswicket',\n",
              " 'Over',\n",
              " 'Runs',\n",
              " 'Timestamp']"
            ]
          },
          "metadata": {
            "application/vnd.databricks.v1+output": {
              "addedWidgets": {},
              "arguments": {},
              "data": "Out[33]: ['Batsman',\n 'Batsman_Name',\n 'Bowler',\n 'Bowler_Name',\n 'Commentary',\n 'Detail',\n 'Dismissed',\n 'Id',\n 'Isball',\n 'Isboundary',\n 'Iswicket',\n 'Over',\n 'Runs',\n 'Timestamp']",
              "datasetInfos": [],
              "metadata": {},
              "removedWidgets": [],
              "type": "ansi"
            }
          },
          "output_type": "display_data"
        }
      ],
      "source": [
        "df_ipl.columns"
      ]
    },
    {
      "cell_type": "code",
      "execution_count": null,
      "metadata": {
        "application/vnd.databricks.v1+cell": {
          "cellMetadata": {},
          "inputWidgets": {},
          "nuid": "f7233d69-223e-42e1-871a-2f9c81f23614",
          "showTitle": false,
          "title": ""
        },
        "id": "zORFGAqqDCgL"
      },
      "outputs": [],
      "source": [
        "from pyspark.ml import Pipeline\n",
        "from pyspark.ml.feature import OneHotEncoder, VectorAssembler"
      ]
    },
    {
      "cell_type": "code",
      "execution_count": null,
      "metadata": {
        "application/vnd.databricks.v1+cell": {
          "cellMetadata": {},
          "inputWidgets": {},
          "nuid": "e3bbdc71-f324-4291-9c66-d1d4561177ef",
          "showTitle": false,
          "title": ""
        },
        "id": "2VB29dvpDCgN"
      },
      "outputs": [],
      "source": [
        "df_ipl = df_ipl.drop(*['Batsman','Bowler','Id'])\n",
        "stage2 = StringIndexer(inputCol= 'Batsman_Name', outputCol = 'bm_index')\n",
        "stage3 = StringIndexer(inputCol= 'Bowler_Name', outputCol = 'bowler_index')\n",
        "stage4 = OneHotEncoder(inputCols = ['bm_index', 'bowler_index'], outputCols = ['bm_ohe', 'bowler_ohe'])"
      ]
    },
    {
      "cell_type": "code",
      "execution_count": null,
      "metadata": {
        "application/vnd.databricks.v1+cell": {
          "cellMetadata": {},
          "inputWidgets": {},
          "nuid": "c58b9ffb-ae17-4eb6-b7bf-bb54f64c2694",
          "showTitle": false,
          "title": ""
        },
        "id": "ln4l2TL-DCgP"
      },
      "outputs": [],
      "source": []
    },
    {
      "cell_type": "code",
      "execution_count": null,
      "metadata": {
        "application/vnd.databricks.v1+cell": {
          "cellMetadata": {},
          "inputWidgets": {},
          "nuid": "66b277c8-f885-4193-9a12-66d00c2cb3e8",
          "showTitle": false,
          "title": ""
        },
        "id": "w8TeA4MaDCgQ",
        "outputId": "5a29b36f-eb93-421b-dee9-7041ee587cd8"
      },
      "outputs": [
        {
          "data": {
            "text/plain": [
              "\u001b[0;31m---------------------------------------------------------------------------\u001b[0m\n",
              "\u001b[0;31mNameError\u001b[0m                                 Traceback (most recent call last)\n",
              "\u001b[0;32m<command-4264977406128474>\u001b[0m in \u001b[0;36m<module>\u001b[0;34m\u001b[0m\n",
              "\u001b[0;32m----> 1\u001b[0;31m \u001b[0mstage1\u001b[0m\u001b[0;34m.\u001b[0m\u001b[0mshow\u001b[0m\u001b[0;34m(\u001b[0m\u001b[0;34m)\u001b[0m\u001b[0;34m\u001b[0m\u001b[0;34m\u001b[0m\u001b[0m\n",
              "\u001b[0m\n",
              "\u001b[0;31mNameError\u001b[0m: name 'stage1' is not defined"
            ]
          },
          "metadata": {
            "application/vnd.databricks.v1+output": {
              "arguments": {},
              "data": "\u001b[0;31m---------------------------------------------------------------------------\u001b[0m\n\u001b[0;31mNameError\u001b[0m                                 Traceback (most recent call last)\n\u001b[0;32m<command-4264977406128474>\u001b[0m in \u001b[0;36m<module>\u001b[0;34m\u001b[0m\n\u001b[0;32m----> 1\u001b[0;31m \u001b[0mstage1\u001b[0m\u001b[0;34m.\u001b[0m\u001b[0mshow\u001b[0m\u001b[0;34m(\u001b[0m\u001b[0;34m)\u001b[0m\u001b[0;34m\u001b[0m\u001b[0;34m\u001b[0m\u001b[0m\n\u001b[0m\n\u001b[0;31mNameError\u001b[0m: name 'stage1' is not defined",
              "errorSummary": "<span class='ansi-red-fg'>NameError</span>: name 'stage1' is not defined",
              "errorTraceType": "ansi",
              "metadata": {},
              "type": "ipynbError"
            }
          },
          "output_type": "display_data"
        }
      ],
      "source": []
    },
    {
      "cell_type": "code",
      "execution_count": null,
      "metadata": {
        "application/vnd.databricks.v1+cell": {
          "cellMetadata": {},
          "inputWidgets": {},
          "nuid": "81130023-ee40-43b5-b3d0-21dc6fc53adb",
          "showTitle": false,
          "title": ""
        },
        "id": "CWwiD34rDCgR"
      },
      "outputs": [],
      "source": [
        "# combine list of columns into a single vector\n",
        "stage5 = VectorAssembler(inputCols = ['Dismissed','Isball','Isboundary','Over','Runs','bm_ohe','bowler_ohe'], outputCol = 'features')"
      ]
    },
    {
      "cell_type": "code",
      "execution_count": null,
      "metadata": {
        "application/vnd.databricks.v1+cell": {
          "cellMetadata": {},
          "inputWidgets": {},
          "nuid": "ae738a67-571c-40a1-bee7-436af18e6a32",
          "showTitle": false,
          "title": ""
        },
        "id": "sNjJ1bg2DCgT"
      },
      "outputs": [],
      "source": [
        "from pyspark.ml.classification import LogisticRegression\n",
        "stage6 = LogisticRegression(featuresCol = 'features', labelCol = 'Iswicket')"
      ]
    },
    {
      "cell_type": "code",
      "execution_count": null,
      "metadata": {
        "application/vnd.databricks.v1+cell": {
          "cellMetadata": {},
          "inputWidgets": {},
          "nuid": "4904abd9-4bb9-44f7-b083-4f9241d46147",
          "showTitle": false,
          "title": ""
        },
        "id": "uKkLQmeZDCgU"
      },
      "outputs": [],
      "source": [
        "# Pipeline\n",
        "pl = Pipeline(stages = [stage2,stage3,stage4,stage5,stage6])"
      ]
    },
    {
      "cell_type": "code",
      "execution_count": null,
      "metadata": {
        "application/vnd.databricks.v1+cell": {
          "cellMetadata": {},
          "inputWidgets": {},
          "nuid": "4f055616-999f-4696-91f4-330c93fd2131",
          "showTitle": false,
          "title": ""
        },
        "id": "hHUsyaxEDCgV"
      },
      "outputs": [],
      "source": [
        "df_ipl = df_ipl.fillna(0)"
      ]
    },
    {
      "cell_type": "code",
      "execution_count": null,
      "metadata": {
        "application/vnd.databricks.v1+cell": {
          "cellMetadata": {},
          "inputWidgets": {},
          "nuid": "5974374c-baad-453f-8a9a-565bc14ea317",
          "showTitle": false,
          "title": ""
        },
        "id": "Ct1gOQkLDCgX",
        "outputId": "3b45cfaa-1bbc-4d58-ac05-ff1f3ef8beac"
      },
      "outputs": [
        {
          "data": {
            "text/plain": [
              "Exception ignored in: <function JavaWrapper.__del__ at 0x7f465e48f040>\n",
              "Traceback (most recent call last):\n",
              "  File \"/databricks/spark/python/pyspark/ml/wrapper.py\", line 39, in __del__\n",
              "    if SparkContext._active_spark_context and self._java_obj is not None:\n",
              "AttributeError: 'LogisticRegression' object has no attribute '_java_obj'\n",
              "Exception ignored in: <function JavaWrapper.__del__ at 0x7f465e48f040>\n",
              "Traceback (most recent call last):\n",
              "  File \"/databricks/spark/python/pyspark/ml/wrapper.py\", line 39, in __del__\n",
              "    if SparkContext._active_spark_context and self._java_obj is not None:\n",
              "AttributeError: 'LogisticRegression' object has no attribute '_java_obj'\n"
            ]
          },
          "metadata": {
            "application/vnd.databricks.v1+output": {
              "addedWidgets": {},
              "arguments": {},
              "data": "Exception ignored in: <function JavaWrapper.__del__ at 0x7f465e48f040>\nTraceback (most recent call last):\n  File \"/databricks/spark/python/pyspark/ml/wrapper.py\", line 39, in __del__\n    if SparkContext._active_spark_context and self._java_obj is not None:\nAttributeError: 'LogisticRegression' object has no attribute '_java_obj'\nException ignored in: <function JavaWrapper.__del__ at 0x7f465e48f040>\nTraceback (most recent call last):\n  File \"/databricks/spark/python/pyspark/ml/wrapper.py\", line 39, in __del__\n    if SparkContext._active_spark_context and self._java_obj is not None:\nAttributeError: 'LogisticRegression' object has no attribute '_java_obj'\n",
              "datasetInfos": [],
              "metadata": {},
              "removedWidgets": [],
              "type": "ansi"
            }
          },
          "output_type": "display_data"
        }
      ],
      "source": [
        "logit_mod = pl.fit(df_ipl).transform(df_ipl)"
      ]
    },
    {
      "cell_type": "code",
      "execution_count": null,
      "metadata": {
        "application/vnd.databricks.v1+cell": {
          "cellMetadata": {},
          "inputWidgets": {},
          "nuid": "5a95c98e-deea-47e6-a5ca-be1ce7a0a217",
          "showTitle": false,
          "title": ""
        },
        "id": "xE6gt9xqDCgY",
        "outputId": "f6cb147d-614d-4112-b7c6-f22c96686424"
      },
      "outputs": [
        {
          "data": {
            "text/plain": [
              "+--------------------+--------+----------+\n",
              "|            features|Iswicket|prediction|\n",
              "+--------------------+--------+----------+\n",
              "|(35,[0,1,3,23,24]...|       1|       1.0|\n",
              "|(35,[0,1,3,4,21,2...|       1|       1.0|\n",
              "|(35,[1,3,4,23,24]...|       0|       0.0|\n",
              "|(35,[1,3,4,21,24]...|       0|       0.0|\n",
              "|(35,[0,1,3,12,24]...|       1|       1.0|\n",
              "|(35,[1,3,12,24],[...|       0|       0.0|\n",
              "|(35,[1,3,12,24],[...|       0|       0.0|\n",
              "|(35,[1,3,4,12,32]...|       0|       0.0|\n",
              "|(35,[1,2,3,4,12,3...|       0|       0.0|\n",
              "|(35,[1,3,12,32],[...|       0|       0.0|\n",
              "|(35,[1,3,12,32],[...|       0|       0.0|\n",
              "|(35,[1,2,3,4,12,3...|       0|       0.0|\n",
              "|(35,[1,3,4,12,32]...|       0|       0.0|\n",
              "|(35,[1,3,21,24],[...|       0|       0.0|\n",
              "|(35,[1,3,4,12,24]...|       0|       0.0|\n",
              "|(35,[1,3,12,24],[...|       0|       0.0|\n",
              "|(35,[1,3,4,21,24]...|       0|       0.0|\n",
              "|(35,[0,1,3,18,24]...|       1|       1.0|\n",
              "|(35,[1,3,4,12,24]...|       0|       0.0|\n",
              "|(35,[1,3,4,12,32]...|       0|       0.0|\n",
              "+--------------------+--------+----------+\n",
              "only showing top 20 rows\n",
              "\n"
            ]
          },
          "metadata": {
            "application/vnd.databricks.v1+output": {
              "addedWidgets": {},
              "arguments": {},
              "data": "+--------------------+--------+----------+\n|            features|Iswicket|prediction|\n+--------------------+--------+----------+\n|(35,[0,1,3,23,24]...|       1|       1.0|\n|(35,[0,1,3,4,21,2...|       1|       1.0|\n|(35,[1,3,4,23,24]...|       0|       0.0|\n|(35,[1,3,4,21,24]...|       0|       0.0|\n|(35,[0,1,3,12,24]...|       1|       1.0|\n|(35,[1,3,12,24],[...|       0|       0.0|\n|(35,[1,3,12,24],[...|       0|       0.0|\n|(35,[1,3,4,12,32]...|       0|       0.0|\n|(35,[1,2,3,4,12,3...|       0|       0.0|\n|(35,[1,3,12,32],[...|       0|       0.0|\n|(35,[1,3,12,32],[...|       0|       0.0|\n|(35,[1,2,3,4,12,3...|       0|       0.0|\n|(35,[1,3,4,12,32]...|       0|       0.0|\n|(35,[1,3,21,24],[...|       0|       0.0|\n|(35,[1,3,4,12,24]...|       0|       0.0|\n|(35,[1,3,12,24],[...|       0|       0.0|\n|(35,[1,3,4,21,24]...|       0|       0.0|\n|(35,[0,1,3,18,24]...|       1|       1.0|\n|(35,[1,3,4,12,24]...|       0|       0.0|\n|(35,[1,3,4,12,32]...|       0|       0.0|\n+--------------------+--------+----------+\nonly showing top 20 rows\n\n",
              "datasetInfos": [],
              "metadata": {},
              "removedWidgets": [],
              "type": "ansi"
            }
          },
          "output_type": "display_data"
        }
      ],
      "source": [
        "logit_mod.select('features','Iswicket','prediction').show()"
      ]
    },
    {
      "cell_type": "code",
      "execution_count": null,
      "metadata": {
        "application/vnd.databricks.v1+cell": {
          "cellMetadata": {},
          "inputWidgets": {},
          "nuid": "9053f9d1-cdcf-4985-90f0-4c762c87d373",
          "showTitle": false,
          "title": ""
        },
        "id": "4NiS7jqIDCgZ",
        "outputId": "0eb93ce7-fbca-43fa-8f72-711fe65c901c"
      },
      "outputs": [
        {
          "data": {
            "text/plain": [
              "Out[51]: ['Batsman_Name',\n",
              " 'Bowler_Name',\n",
              " 'Commentary',\n",
              " 'Detail',\n",
              " 'Dismissed',\n",
              " 'Isball',\n",
              " 'Isboundary',\n",
              " 'Iswicket',\n",
              " 'Over',\n",
              " 'Runs',\n",
              " 'Timestamp',\n",
              " 'bm_index',\n",
              " 'bowler_index',\n",
              " 'bm_ohe',\n",
              " 'bowler_ohe',\n",
              " 'features',\n",
              " 'rawPrediction',\n",
              " 'probability',\n",
              " 'prediction']"
            ]
          },
          "metadata": {
            "application/vnd.databricks.v1+output": {
              "addedWidgets": {},
              "arguments": {},
              "data": "Out[51]: ['Batsman_Name',\n 'Bowler_Name',\n 'Commentary',\n 'Detail',\n 'Dismissed',\n 'Isball',\n 'Isboundary',\n 'Iswicket',\n 'Over',\n 'Runs',\n 'Timestamp',\n 'bm_index',\n 'bowler_index',\n 'bm_ohe',\n 'bowler_ohe',\n 'features',\n 'rawPrediction',\n 'probability',\n 'prediction']",
              "datasetInfos": [],
              "metadata": {},
              "removedWidgets": [],
              "type": "ansi"
            }
          },
          "output_type": "display_data"
        }
      ],
      "source": [
        "logit_mod.columns"
      ]
    },
    {
      "cell_type": "code",
      "execution_count": null,
      "metadata": {
        "application/vnd.databricks.v1+cell": {
          "cellMetadata": {},
          "inputWidgets": {},
          "nuid": "a394b358-6782-4b78-a4ba-53f572721564",
          "showTitle": false,
          "title": ""
        },
        "id": "hJpik1RUDCga"
      },
      "outputs": [],
      "source": [
        "# splitting data into train and test"
      ]
    },
    {
      "cell_type": "code",
      "execution_count": null,
      "metadata": {
        "application/vnd.databricks.v1+cell": {
          "cellMetadata": {},
          "inputWidgets": {},
          "nuid": "09b1ac77-c084-4cc2-a0d7-b7ff4f62589f",
          "showTitle": false,
          "title": ""
        },
        "id": "k--SP6DnDCga"
      },
      "outputs": [],
      "source": [
        "stage2 = StringIndexer(inputCol = 'Batsman_Name', outputCol = 'bm_index')\n",
        "stage3 = StringIndexer(inputCol = 'Bowler_Name', outputCol = 'bowler_index')\n",
        "stage4 = OneHotEncoder(inputCols = ['bm_index','bowler_index'], outputCols = ['bm_ohe','bowler_ohe'])"
      ]
    },
    {
      "cell_type": "code",
      "execution_count": null,
      "metadata": {
        "application/vnd.databricks.v1+cell": {
          "cellMetadata": {},
          "inputWidgets": {},
          "nuid": "4fe7d9ec-f9f3-485e-a23e-562405f18c93",
          "showTitle": false,
          "title": ""
        },
        "id": "pV4E_wJoDCgc"
      },
      "outputs": [],
      "source": [
        "pl1 = Pipeline(stages = [stage2,stage3,stage4])"
      ]
    },
    {
      "cell_type": "code",
      "execution_count": null,
      "metadata": {
        "application/vnd.databricks.v1+cell": {
          "cellMetadata": {},
          "inputWidgets": {},
          "nuid": "2eeb1921-4b16-47c0-a082-1413ea6844e4",
          "showTitle": false,
          "title": ""
        },
        "id": "qSyr2kZ6DCgc"
      },
      "outputs": [],
      "source": [
        "df_mod = pl1.fit(df_ipl).transform(df_ipl)"
      ]
    },
    {
      "cell_type": "code",
      "execution_count": null,
      "metadata": {
        "application/vnd.databricks.v1+cell": {
          "cellMetadata": {},
          "inputWidgets": {},
          "nuid": "c1d145f9-7e2b-433f-a5d7-899f19548840",
          "showTitle": false,
          "title": ""
        },
        "id": "0kDvkvZwDCgd",
        "outputId": "deb94bda-eef0-423f-fad4-fe35bd882181"
      },
      "outputs": [
        {
          "data": {
            "text/plain": [
              "+-----------------+------------------+--------------------+------+---------+------+----------+--------+----+----+-------------------+--------+------------+---------------+--------------+\n",
              "|     Batsman_Name|       Bowler_Name|          Commentary|Detail|Dismissed|Isball|Isboundary|Iswicket|Over|Runs|          Timestamp|bm_index|bowler_index|         bm_ohe|    bowler_ohe|\n",
              "+-----------------+------------------+--------------------+------+---------+------+----------+--------+----+----+-------------------+--------+------------+---------------+--------------+\n",
              "|   Mohammed Shami| Mustafizur Rahman|OUT! Bowled! 5-fe...|     W|    28994|  true|         0|       1|49.6|   0|2019-07-02 13:18:47|    18.0|         0.0|(19,[18],[1.0])|(11,[0],[1.0])|\n",
              "|Bhuvneshwar Kumar| Mustafizur Rahman|WIDE AND RUN OUT!...|  W+wd|     5132|  true|         0|       1|49.6|   1|2019-07-02 13:17:28|    16.0|         0.0|(19,[16],[1.0])|(11,[0],[1.0])|\n",
              "|   Mohammed Shami| Mustafizur Rahman|Back of a length ...|  null|        0|  true|         0|       0|49.5|   1|2019-07-02 13:16:03|    18.0|         0.0|(19,[18],[1.0])|(11,[0],[1.0])|\n",
              "|Bhuvneshwar Kumar| Mustafizur Rahman|Just 1 run off th...|  null|        0|  true|         0|       0|49.4|   1|2019-07-02 13:15:17|    16.0|         0.0|(19,[16],[1.0])|(11,[0],[1.0])|\n",
              "|         MS Dhoni| Mustafizur Rahman|OUT! No Dhoni mag...|     W|     3676|  true|         0|       1|49.3|   0|2019-07-02 13:13:39|     7.0|         0.0| (19,[7],[1.0])|(11,[0],[1.0])|\n",
              "|         MS Dhoni| Mustafizur Rahman|Another dot. Bang...|  null|        0|  true|         0|       0|49.2|   0|2019-07-02 13:12:47|     7.0|         0.0| (19,[7],[1.0])|(11,[0],[1.0])|\n",
              "|         MS Dhoni| Mustafizur Rahman|Good length ball ...|  null|        0|  true|         0|       0|49.1|   0|2019-07-02 13:12:21|     7.0|         0.0| (19,[7],[1.0])|(11,[0],[1.0])|\n",
              "|         MS Dhoni|Mohammad Saifuddin|Good length ball ...|  null|        0|  true|         0|       0|48.6|   1|2019-07-02 13:10:58|     7.0|         8.0| (19,[7],[1.0])|(11,[8],[1.0])|\n",
              "|         MS Dhoni|Mohammad Saifuddin|FOUR! Dhoni rolli...|  null|        0|  true|         1|       0|48.5|   4|2019-07-02 13:10:12|     7.0|         8.0| (19,[7],[1.0])|(11,[8],[1.0])|\n",
              "|         MS Dhoni|Mohammad Saifuddin|Slower delivery o...|  null|        0|  true|         0|       0|48.4|   0|2019-07-02 13:09:46|     7.0|         8.0| (19,[7],[1.0])|(11,[8],[1.0])|\n",
              "|         MS Dhoni|Mohammad Saifuddin|Fuller on off, Dh...|  null|        0|  true|         0|       0|48.3|   0|2019-07-02 13:09:06|     7.0|         8.0| (19,[7],[1.0])|(11,[8],[1.0])|\n",
              "|         MS Dhoni|Mohammad Saifuddin|FOUR! Driven with...|  null|        0|  true|         1|       0|48.2|   4|2019-07-02 13:08:18|     7.0|         8.0| (19,[7],[1.0])|(11,[8],[1.0])|\n",
              "|         MS Dhoni|Mohammad Saifuddin|Good length ball ...|  null|        0|  true|         0|       0|48.1|   2|2019-07-02 13:07:42|     7.0|         8.0| (19,[7],[1.0])|(11,[8],[1.0])|\n",
              "|Bhuvneshwar Kumar| Mustafizur Rahman|Slower bouncer to...|  null|        0|  true|         0|       0|47.6|   0|2019-07-02 13:06:42|    16.0|         0.0|(19,[16],[1.0])|(11,[0],[1.0])|\n",
              "|         MS Dhoni| Mustafizur Rahman|Length delivery a...|  null|        0|  true|         0|       0|47.5|   1|2019-07-02 13:06:15|     7.0|         0.0| (19,[7],[1.0])|(11,[0],[1.0])|\n",
              "|         MS Dhoni| Mustafizur Rahman|Good length ball ...|  null|        0|  true|         0|       0|47.4|   0|2019-07-02 13:05:32|     7.0|         0.0| (19,[7],[1.0])|(11,[0],[1.0])|\n",
              "|Bhuvneshwar Kumar| Mustafizur Rahman|Good length ball ...|  null|        0|  true|         0|       0|47.3|   1|2019-07-02 13:04:58|    16.0|         0.0|(19,[16],[1.0])|(11,[0],[1.0])|\n",
              "|   Dinesh Karthik| Mustafizur Rahman|OUT! Caught! Kart...|     W|     3632|  true|         0|       1|47.2|   0|2019-07-02 13:03:29|    13.0|         0.0|(19,[13],[1.0])|(11,[0],[1.0])|\n",
              "|         MS Dhoni| Mustafizur Rahman|On the pads, Dhon...|  null|        0|  true|         0|       0|47.1|   1|2019-07-02 13:02:17|     7.0|         0.0| (19,[7],[1.0])|(11,[0],[1.0])|\n",
              "|         MS Dhoni|Mohammad Saifuddin|Almost a calamity...|  null|        0|  true|         0|       0|46.6|   1|2019-07-02 13:01:16|     7.0|         8.0| (19,[7],[1.0])|(11,[8],[1.0])|\n",
              "+-----------------+------------------+--------------------+------+---------+------+----------+--------+----+----+-------------------+--------+------------+---------------+--------------+\n",
              "only showing top 20 rows\n",
              "\n"
            ]
          },
          "metadata": {
            "application/vnd.databricks.v1+output": {
              "addedWidgets": {},
              "arguments": {},
              "data": "+-----------------+------------------+--------------------+------+---------+------+----------+--------+----+----+-------------------+--------+------------+---------------+--------------+\n|     Batsman_Name|       Bowler_Name|          Commentary|Detail|Dismissed|Isball|Isboundary|Iswicket|Over|Runs|          Timestamp|bm_index|bowler_index|         bm_ohe|    bowler_ohe|\n+-----------------+------------------+--------------------+------+---------+------+----------+--------+----+----+-------------------+--------+------------+---------------+--------------+\n|   Mohammed Shami| Mustafizur Rahman|OUT! Bowled! 5-fe...|     W|    28994|  true|         0|       1|49.6|   0|2019-07-02 13:18:47|    18.0|         0.0|(19,[18],[1.0])|(11,[0],[1.0])|\n|Bhuvneshwar Kumar| Mustafizur Rahman|WIDE AND RUN OUT!...|  W+wd|     5132|  true|         0|       1|49.6|   1|2019-07-02 13:17:28|    16.0|         0.0|(19,[16],[1.0])|(11,[0],[1.0])|\n|   Mohammed Shami| Mustafizur Rahman|Back of a length ...|  null|        0|  true|         0|       0|49.5|   1|2019-07-02 13:16:03|    18.0|         0.0|(19,[18],[1.0])|(11,[0],[1.0])|\n|Bhuvneshwar Kumar| Mustafizur Rahman|Just 1 run off th...|  null|        0|  true|         0|       0|49.4|   1|2019-07-02 13:15:17|    16.0|         0.0|(19,[16],[1.0])|(11,[0],[1.0])|\n|         MS Dhoni| Mustafizur Rahman|OUT! No Dhoni mag...|     W|     3676|  true|         0|       1|49.3|   0|2019-07-02 13:13:39|     7.0|         0.0| (19,[7],[1.0])|(11,[0],[1.0])|\n|         MS Dhoni| Mustafizur Rahman|Another dot. Bang...|  null|        0|  true|         0|       0|49.2|   0|2019-07-02 13:12:47|     7.0|         0.0| (19,[7],[1.0])|(11,[0],[1.0])|\n|         MS Dhoni| Mustafizur Rahman|Good length ball ...|  null|        0|  true|         0|       0|49.1|   0|2019-07-02 13:12:21|     7.0|         0.0| (19,[7],[1.0])|(11,[0],[1.0])|\n|         MS Dhoni|Mohammad Saifuddin|Good length ball ...|  null|        0|  true|         0|       0|48.6|   1|2019-07-02 13:10:58|     7.0|         8.0| (19,[7],[1.0])|(11,[8],[1.0])|\n|         MS Dhoni|Mohammad Saifuddin|FOUR! Dhoni rolli...|  null|        0|  true|         1|       0|48.5|   4|2019-07-02 13:10:12|     7.0|         8.0| (19,[7],[1.0])|(11,[8],[1.0])|\n|         MS Dhoni|Mohammad Saifuddin|Slower delivery o...|  null|        0|  true|         0|       0|48.4|   0|2019-07-02 13:09:46|     7.0|         8.0| (19,[7],[1.0])|(11,[8],[1.0])|\n|         MS Dhoni|Mohammad Saifuddin|Fuller on off, Dh...|  null|        0|  true|         0|       0|48.3|   0|2019-07-02 13:09:06|     7.0|         8.0| (19,[7],[1.0])|(11,[8],[1.0])|\n|         MS Dhoni|Mohammad Saifuddin|FOUR! Driven with...|  null|        0|  true|         1|       0|48.2|   4|2019-07-02 13:08:18|     7.0|         8.0| (19,[7],[1.0])|(11,[8],[1.0])|\n|         MS Dhoni|Mohammad Saifuddin|Good length ball ...|  null|        0|  true|         0|       0|48.1|   2|2019-07-02 13:07:42|     7.0|         8.0| (19,[7],[1.0])|(11,[8],[1.0])|\n|Bhuvneshwar Kumar| Mustafizur Rahman|Slower bouncer to...|  null|        0|  true|         0|       0|47.6|   0|2019-07-02 13:06:42|    16.0|         0.0|(19,[16],[1.0])|(11,[0],[1.0])|\n|         MS Dhoni| Mustafizur Rahman|Length delivery a...|  null|        0|  true|         0|       0|47.5|   1|2019-07-02 13:06:15|     7.0|         0.0| (19,[7],[1.0])|(11,[0],[1.0])|\n|         MS Dhoni| Mustafizur Rahman|Good length ball ...|  null|        0|  true|         0|       0|47.4|   0|2019-07-02 13:05:32|     7.0|         0.0| (19,[7],[1.0])|(11,[0],[1.0])|\n|Bhuvneshwar Kumar| Mustafizur Rahman|Good length ball ...|  null|        0|  true|         0|       0|47.3|   1|2019-07-02 13:04:58|    16.0|         0.0|(19,[16],[1.0])|(11,[0],[1.0])|\n|   Dinesh Karthik| Mustafizur Rahman|OUT! Caught! Kart...|     W|     3632|  true|         0|       1|47.2|   0|2019-07-02 13:03:29|    13.0|         0.0|(19,[13],[1.0])|(11,[0],[1.0])|\n|         MS Dhoni| Mustafizur Rahman|On the pads, Dhon...|  null|        0|  true|         0|       0|47.1|   1|2019-07-02 13:02:17|     7.0|         0.0| (19,[7],[1.0])|(11,[0],[1.0])|\n|         MS Dhoni|Mohammad Saifuddin|Almost a calamity...|  null|        0|  true|         0|       0|46.6|   1|2019-07-02 13:01:16|     7.0|         8.0| (19,[7],[1.0])|(11,[8],[1.0])|\n+-----------------+------------------+--------------------+------+---------+------+----------+--------+----+----+-------------------+--------+------------+---------------+--------------+\nonly showing top 20 rows\n\n",
              "datasetInfos": [],
              "metadata": {},
              "removedWidgets": [],
              "type": "ansi"
            }
          },
          "output_type": "display_data"
        }
      ],
      "source": [
        "df_mod.show()"
      ]
    },
    {
      "cell_type": "code",
      "execution_count": null,
      "metadata": {
        "application/vnd.databricks.v1+cell": {
          "cellMetadata": {},
          "inputWidgets": {},
          "nuid": "46acd6df-8ba1-472d-9704-43537ff8e226",
          "showTitle": false,
          "title": ""
        },
        "id": "3YH9gcJgDCgd"
      },
      "outputs": [],
      "source": [
        "df_vec = VectorAssembler(inputCols = ['Dismissed','Isball','Isboundary','Over','Runs','bm_ohe','bowler_ohe'],outputCol = 'features').transform(df_mod)"
      ]
    },
    {
      "cell_type": "code",
      "execution_count": null,
      "metadata": {
        "application/vnd.databricks.v1+cell": {
          "cellMetadata": {},
          "inputWidgets": {},
          "nuid": "3c177b24-9bab-4be2-b9f4-ff695cc129e2",
          "showTitle": false,
          "title": ""
        },
        "id": "hKrwYnr7DCge",
        "outputId": "e4c35da3-6aed-4220-c2fe-2f0d0abb291c"
      },
      "outputs": [
        {
          "data": {
            "text/plain": [
              "+-----------------+------------------+--------------------+------+---------+------+----------+--------+----+----+-------------------+--------+------------+---------------+--------------+--------------------+\n",
              "|     Batsman_Name|       Bowler_Name|          Commentary|Detail|Dismissed|Isball|Isboundary|Iswicket|Over|Runs|          Timestamp|bm_index|bowler_index|         bm_ohe|    bowler_ohe|            features|\n",
              "+-----------------+------------------+--------------------+------+---------+------+----------+--------+----+----+-------------------+--------+------------+---------------+--------------+--------------------+\n",
              "|   Mohammed Shami| Mustafizur Rahman|OUT! Bowled! 5-fe...|     W|    28994|  true|         0|       1|49.6|   0|2019-07-02 13:18:47|    18.0|         0.0|(19,[18],[1.0])|(11,[0],[1.0])|(35,[0,1,3,23,24]...|\n",
              "|Bhuvneshwar Kumar| Mustafizur Rahman|WIDE AND RUN OUT!...|  W+wd|     5132|  true|         0|       1|49.6|   1|2019-07-02 13:17:28|    16.0|         0.0|(19,[16],[1.0])|(11,[0],[1.0])|(35,[0,1,3,4,21,2...|\n",
              "|   Mohammed Shami| Mustafizur Rahman|Back of a length ...|  null|        0|  true|         0|       0|49.5|   1|2019-07-02 13:16:03|    18.0|         0.0|(19,[18],[1.0])|(11,[0],[1.0])|(35,[1,3,4,23,24]...|\n",
              "|Bhuvneshwar Kumar| Mustafizur Rahman|Just 1 run off th...|  null|        0|  true|         0|       0|49.4|   1|2019-07-02 13:15:17|    16.0|         0.0|(19,[16],[1.0])|(11,[0],[1.0])|(35,[1,3,4,21,24]...|\n",
              "|         MS Dhoni| Mustafizur Rahman|OUT! No Dhoni mag...|     W|     3676|  true|         0|       1|49.3|   0|2019-07-02 13:13:39|     7.0|         0.0| (19,[7],[1.0])|(11,[0],[1.0])|(35,[0,1,3,12,24]...|\n",
              "|         MS Dhoni| Mustafizur Rahman|Another dot. Bang...|  null|        0|  true|         0|       0|49.2|   0|2019-07-02 13:12:47|     7.0|         0.0| (19,[7],[1.0])|(11,[0],[1.0])|(35,[1,3,12,24],[...|\n",
              "|         MS Dhoni| Mustafizur Rahman|Good length ball ...|  null|        0|  true|         0|       0|49.1|   0|2019-07-02 13:12:21|     7.0|         0.0| (19,[7],[1.0])|(11,[0],[1.0])|(35,[1,3,12,24],[...|\n",
              "|         MS Dhoni|Mohammad Saifuddin|Good length ball ...|  null|        0|  true|         0|       0|48.6|   1|2019-07-02 13:10:58|     7.0|         8.0| (19,[7],[1.0])|(11,[8],[1.0])|(35,[1,3,4,12,32]...|\n",
              "|         MS Dhoni|Mohammad Saifuddin|FOUR! Dhoni rolli...|  null|        0|  true|         1|       0|48.5|   4|2019-07-02 13:10:12|     7.0|         8.0| (19,[7],[1.0])|(11,[8],[1.0])|(35,[1,2,3,4,12,3...|\n",
              "|         MS Dhoni|Mohammad Saifuddin|Slower delivery o...|  null|        0|  true|         0|       0|48.4|   0|2019-07-02 13:09:46|     7.0|         8.0| (19,[7],[1.0])|(11,[8],[1.0])|(35,[1,3,12,32],[...|\n",
              "|         MS Dhoni|Mohammad Saifuddin|Fuller on off, Dh...|  null|        0|  true|         0|       0|48.3|   0|2019-07-02 13:09:06|     7.0|         8.0| (19,[7],[1.0])|(11,[8],[1.0])|(35,[1,3,12,32],[...|\n",
              "|         MS Dhoni|Mohammad Saifuddin|FOUR! Driven with...|  null|        0|  true|         1|       0|48.2|   4|2019-07-02 13:08:18|     7.0|         8.0| (19,[7],[1.0])|(11,[8],[1.0])|(35,[1,2,3,4,12,3...|\n",
              "|         MS Dhoni|Mohammad Saifuddin|Good length ball ...|  null|        0|  true|         0|       0|48.1|   2|2019-07-02 13:07:42|     7.0|         8.0| (19,[7],[1.0])|(11,[8],[1.0])|(35,[1,3,4,12,32]...|\n",
              "|Bhuvneshwar Kumar| Mustafizur Rahman|Slower bouncer to...|  null|        0|  true|         0|       0|47.6|   0|2019-07-02 13:06:42|    16.0|         0.0|(19,[16],[1.0])|(11,[0],[1.0])|(35,[1,3,21,24],[...|\n",
              "|         MS Dhoni| Mustafizur Rahman|Length delivery a...|  null|        0|  true|         0|       0|47.5|   1|2019-07-02 13:06:15|     7.0|         0.0| (19,[7],[1.0])|(11,[0],[1.0])|(35,[1,3,4,12,24]...|\n",
              "|         MS Dhoni| Mustafizur Rahman|Good length ball ...|  null|        0|  true|         0|       0|47.4|   0|2019-07-02 13:05:32|     7.0|         0.0| (19,[7],[1.0])|(11,[0],[1.0])|(35,[1,3,12,24],[...|\n",
              "|Bhuvneshwar Kumar| Mustafizur Rahman|Good length ball ...|  null|        0|  true|         0|       0|47.3|   1|2019-07-02 13:04:58|    16.0|         0.0|(19,[16],[1.0])|(11,[0],[1.0])|(35,[1,3,4,21,24]...|\n",
              "|   Dinesh Karthik| Mustafizur Rahman|OUT! Caught! Kart...|     W|     3632|  true|         0|       1|47.2|   0|2019-07-02 13:03:29|    13.0|         0.0|(19,[13],[1.0])|(11,[0],[1.0])|(35,[0,1,3,18,24]...|\n",
              "|         MS Dhoni| Mustafizur Rahman|On the pads, Dhon...|  null|        0|  true|         0|       0|47.1|   1|2019-07-02 13:02:17|     7.0|         0.0| (19,[7],[1.0])|(11,[0],[1.0])|(35,[1,3,4,12,24]...|\n",
              "|         MS Dhoni|Mohammad Saifuddin|Almost a calamity...|  null|        0|  true|         0|       0|46.6|   1|2019-07-02 13:01:16|     7.0|         8.0| (19,[7],[1.0])|(11,[8],[1.0])|(35,[1,3,4,12,32]...|\n",
              "+-----------------+------------------+--------------------+------+---------+------+----------+--------+----+----+-------------------+--------+------------+---------------+--------------+--------------------+\n",
              "only showing top 20 rows\n",
              "\n"
            ]
          },
          "metadata": {
            "application/vnd.databricks.v1+output": {
              "addedWidgets": {},
              "arguments": {},
              "data": "+-----------------+------------------+--------------------+------+---------+------+----------+--------+----+----+-------------------+--------+------------+---------------+--------------+--------------------+\n|     Batsman_Name|       Bowler_Name|          Commentary|Detail|Dismissed|Isball|Isboundary|Iswicket|Over|Runs|          Timestamp|bm_index|bowler_index|         bm_ohe|    bowler_ohe|            features|\n+-----------------+------------------+--------------------+------+---------+------+----------+--------+----+----+-------------------+--------+------------+---------------+--------------+--------------------+\n|   Mohammed Shami| Mustafizur Rahman|OUT! Bowled! 5-fe...|     W|    28994|  true|         0|       1|49.6|   0|2019-07-02 13:18:47|    18.0|         0.0|(19,[18],[1.0])|(11,[0],[1.0])|(35,[0,1,3,23,24]...|\n|Bhuvneshwar Kumar| Mustafizur Rahman|WIDE AND RUN OUT!...|  W+wd|     5132|  true|         0|       1|49.6|   1|2019-07-02 13:17:28|    16.0|         0.0|(19,[16],[1.0])|(11,[0],[1.0])|(35,[0,1,3,4,21,2...|\n|   Mohammed Shami| Mustafizur Rahman|Back of a length ...|  null|        0|  true|         0|       0|49.5|   1|2019-07-02 13:16:03|    18.0|         0.0|(19,[18],[1.0])|(11,[0],[1.0])|(35,[1,3,4,23,24]...|\n|Bhuvneshwar Kumar| Mustafizur Rahman|Just 1 run off th...|  null|        0|  true|         0|       0|49.4|   1|2019-07-02 13:15:17|    16.0|         0.0|(19,[16],[1.0])|(11,[0],[1.0])|(35,[1,3,4,21,24]...|\n|         MS Dhoni| Mustafizur Rahman|OUT! No Dhoni mag...|     W|     3676|  true|         0|       1|49.3|   0|2019-07-02 13:13:39|     7.0|         0.0| (19,[7],[1.0])|(11,[0],[1.0])|(35,[0,1,3,12,24]...|\n|         MS Dhoni| Mustafizur Rahman|Another dot. Bang...|  null|        0|  true|         0|       0|49.2|   0|2019-07-02 13:12:47|     7.0|         0.0| (19,[7],[1.0])|(11,[0],[1.0])|(35,[1,3,12,24],[...|\n|         MS Dhoni| Mustafizur Rahman|Good length ball ...|  null|        0|  true|         0|       0|49.1|   0|2019-07-02 13:12:21|     7.0|         0.0| (19,[7],[1.0])|(11,[0],[1.0])|(35,[1,3,12,24],[...|\n|         MS Dhoni|Mohammad Saifuddin|Good length ball ...|  null|        0|  true|         0|       0|48.6|   1|2019-07-02 13:10:58|     7.0|         8.0| (19,[7],[1.0])|(11,[8],[1.0])|(35,[1,3,4,12,32]...|\n|         MS Dhoni|Mohammad Saifuddin|FOUR! Dhoni rolli...|  null|        0|  true|         1|       0|48.5|   4|2019-07-02 13:10:12|     7.0|         8.0| (19,[7],[1.0])|(11,[8],[1.0])|(35,[1,2,3,4,12,3...|\n|         MS Dhoni|Mohammad Saifuddin|Slower delivery o...|  null|        0|  true|         0|       0|48.4|   0|2019-07-02 13:09:46|     7.0|         8.0| (19,[7],[1.0])|(11,[8],[1.0])|(35,[1,3,12,32],[...|\n|         MS Dhoni|Mohammad Saifuddin|Fuller on off, Dh...|  null|        0|  true|         0|       0|48.3|   0|2019-07-02 13:09:06|     7.0|         8.0| (19,[7],[1.0])|(11,[8],[1.0])|(35,[1,3,12,32],[...|\n|         MS Dhoni|Mohammad Saifuddin|FOUR! Driven with...|  null|        0|  true|         1|       0|48.2|   4|2019-07-02 13:08:18|     7.0|         8.0| (19,[7],[1.0])|(11,[8],[1.0])|(35,[1,2,3,4,12,3...|\n|         MS Dhoni|Mohammad Saifuddin|Good length ball ...|  null|        0|  true|         0|       0|48.1|   2|2019-07-02 13:07:42|     7.0|         8.0| (19,[7],[1.0])|(11,[8],[1.0])|(35,[1,3,4,12,32]...|\n|Bhuvneshwar Kumar| Mustafizur Rahman|Slower bouncer to...|  null|        0|  true|         0|       0|47.6|   0|2019-07-02 13:06:42|    16.0|         0.0|(19,[16],[1.0])|(11,[0],[1.0])|(35,[1,3,21,24],[...|\n|         MS Dhoni| Mustafizur Rahman|Length delivery a...|  null|        0|  true|         0|       0|47.5|   1|2019-07-02 13:06:15|     7.0|         0.0| (19,[7],[1.0])|(11,[0],[1.0])|(35,[1,3,4,12,24]...|\n|         MS Dhoni| Mustafizur Rahman|Good length ball ...|  null|        0|  true|         0|       0|47.4|   0|2019-07-02 13:05:32|     7.0|         0.0| (19,[7],[1.0])|(11,[0],[1.0])|(35,[1,3,12,24],[...|\n|Bhuvneshwar Kumar| Mustafizur Rahman|Good length ball ...|  null|        0|  true|         0|       0|47.3|   1|2019-07-02 13:04:58|    16.0|         0.0|(19,[16],[1.0])|(11,[0],[1.0])|(35,[1,3,4,21,24]...|\n|   Dinesh Karthik| Mustafizur Rahman|OUT! Caught! Kart...|     W|     3632|  true|         0|       1|47.2|   0|2019-07-02 13:03:29|    13.0|         0.0|(19,[13],[1.0])|(11,[0],[1.0])|(35,[0,1,3,18,24]...|\n|         MS Dhoni| Mustafizur Rahman|On the pads, Dhon...|  null|        0|  true|         0|       0|47.1|   1|2019-07-02 13:02:17|     7.0|         0.0| (19,[7],[1.0])|(11,[0],[1.0])|(35,[1,3,4,12,24]...|\n|         MS Dhoni|Mohammad Saifuddin|Almost a calamity...|  null|        0|  true|         0|       0|46.6|   1|2019-07-02 13:01:16|     7.0|         8.0| (19,[7],[1.0])|(11,[8],[1.0])|(35,[1,3,4,12,32]...|\n+-----------------+------------------+--------------------+------+---------+------+----------+--------+----+----+-------------------+--------+------------+---------------+--------------+--------------------+\nonly showing top 20 rows\n\n",
              "datasetInfos": [],
              "metadata": {},
              "removedWidgets": [],
              "type": "ansi"
            }
          },
          "output_type": "display_data"
        }
      ],
      "source": [
        "df_vec.show()"
      ]
    },
    {
      "cell_type": "code",
      "execution_count": null,
      "metadata": {
        "application/vnd.databricks.v1+cell": {
          "cellMetadata": {},
          "inputWidgets": {},
          "nuid": "86636d87-b881-4e21-9f3d-9b205ea8eb1e",
          "showTitle": false,
          "title": ""
        },
        "id": "eGCdx2c6DCgf"
      },
      "outputs": [],
      "source": [
        "df_vector = df_vec.select('features','Iswicket')"
      ]
    },
    {
      "cell_type": "code",
      "execution_count": null,
      "metadata": {
        "application/vnd.databricks.v1+cell": {
          "cellMetadata": {},
          "inputWidgets": {},
          "nuid": "a5b1c29d-da21-4f84-b8ac-c89690549fa3",
          "showTitle": false,
          "title": ""
        },
        "id": "fIwbEbbJDCgg"
      },
      "outputs": [],
      "source": [
        "splits = df_vector.randomSplit([0.7,0.3])"
      ]
    },
    {
      "cell_type": "code",
      "execution_count": null,
      "metadata": {
        "application/vnd.databricks.v1+cell": {
          "cellMetadata": {},
          "inputWidgets": {},
          "nuid": "3cc61afa-9d47-49df-b663-0c7032231d11",
          "showTitle": false,
          "title": ""
        },
        "id": "xpW7C9RdDCgg"
      },
      "outputs": [],
      "source": [
        "df_train = splits[0]"
      ]
    },
    {
      "cell_type": "code",
      "execution_count": null,
      "metadata": {
        "application/vnd.databricks.v1+cell": {
          "cellMetadata": {},
          "inputWidgets": {},
          "nuid": "a23e4317-2875-4205-8148-d01ecd02fee3",
          "showTitle": false,
          "title": ""
        },
        "id": "hNeWWdMiDCgh"
      },
      "outputs": [],
      "source": [
        "df_test = splits[1]"
      ]
    },
    {
      "cell_type": "code",
      "execution_count": null,
      "metadata": {
        "application/vnd.databricks.v1+cell": {
          "cellMetadata": {},
          "inputWidgets": {},
          "nuid": "8c09dc60-dfd2-47fc-b330-5dec0b6b2537",
          "showTitle": false,
          "title": ""
        },
        "id": "98TAT-gbDCgh",
        "outputId": "79fe5f45-afb8-4c9a-d66b-a50b9c6a94dc"
      },
      "outputs": [
        {
          "data": {
            "text/plain": [
              "+--------------------+--------+\n",
              "|            features|Iswicket|\n",
              "+--------------------+--------+\n",
              "|(35,[0,1,3,4,21,2...|       1|\n",
              "|(35,[0,1,3,5,33],...|       1|\n",
              "|(35,[0,1,3,6,31],...|       1|\n",
              "|(35,[0,1,3,8,28],...|       1|\n",
              "|(35,[0,1,3,10,26]...|       1|\n",
              "|(35,[0,1,3,11,25]...|       1|\n",
              "|(35,[0,1,3,13,30]...|       1|\n",
              "|(35,[0,1,3,14,24]...|       1|\n",
              "|(35,[0,1,3,15,25]...|       1|\n",
              "|(35,[0,1,3,18,24]...|       1|\n",
              "+--------------------+--------+\n",
              "only showing top 10 rows\n",
              "\n"
            ]
          },
          "metadata": {
            "application/vnd.databricks.v1+output": {
              "addedWidgets": {},
              "arguments": {},
              "data": "+--------------------+--------+\n|            features|Iswicket|\n+--------------------+--------+\n|(35,[0,1,3,4,21,2...|       1|\n|(35,[0,1,3,5,33],...|       1|\n|(35,[0,1,3,6,31],...|       1|\n|(35,[0,1,3,8,28],...|       1|\n|(35,[0,1,3,10,26]...|       1|\n|(35,[0,1,3,11,25]...|       1|\n|(35,[0,1,3,13,30]...|       1|\n|(35,[0,1,3,14,24]...|       1|\n|(35,[0,1,3,15,25]...|       1|\n|(35,[0,1,3,18,24]...|       1|\n+--------------------+--------+\nonly showing top 10 rows\n\n",
              "datasetInfos": [],
              "metadata": {},
              "removedWidgets": [],
              "type": "ansi"
            }
          },
          "output_type": "display_data"
        }
      ],
      "source": [
        "df_train.show(10)"
      ]
    },
    {
      "cell_type": "code",
      "execution_count": null,
      "metadata": {
        "application/vnd.databricks.v1+cell": {
          "cellMetadata": {},
          "inputWidgets": {},
          "nuid": "bc500c9f-e46c-4899-93e9-f633bb3a95de",
          "showTitle": false,
          "title": ""
        },
        "id": "MVwFP5TCDCgi"
      },
      "outputs": [],
      "source": [
        "logit_mod_tr = LogisticRegression(featuresCol = 'features',labelCol = 'Iswicket').fit(df_train).transform(df_train)"
      ]
    },
    {
      "cell_type": "code",
      "execution_count": null,
      "metadata": {
        "application/vnd.databricks.v1+cell": {
          "cellMetadata": {},
          "inputWidgets": {},
          "nuid": "a6993499-2a4c-4463-83f7-88d3b5f5e675",
          "showTitle": false,
          "title": ""
        },
        "id": "4dK9cz3IDCgj",
        "outputId": "83f16e3c-db91-42be-9dbd-512088780224"
      },
      "outputs": [
        {
          "data": {
            "text/plain": [
              "Exception ignored in: <function JavaWrapper.__del__ at 0x7f465e48f040>\n",
              "Traceback (most recent call last):\n",
              "  File \"/databricks/spark/python/pyspark/ml/wrapper.py\", line 39, in __del__\n",
              "    if SparkContext._active_spark_context and self._java_obj is not None:\n",
              "AttributeError: 'OneHotEncoder' object has no attribute '_java_obj'\n"
            ]
          },
          "metadata": {
            "application/vnd.databricks.v1+output": {
              "addedWidgets": {},
              "arguments": {},
              "data": "Exception ignored in: <function JavaWrapper.__del__ at 0x7f465e48f040>\nTraceback (most recent call last):\n  File \"/databricks/spark/python/pyspark/ml/wrapper.py\", line 39, in __del__\n    if SparkContext._active_spark_context and self._java_obj is not None:\nAttributeError: 'OneHotEncoder' object has no attribute '_java_obj'\n",
              "datasetInfos": [],
              "metadata": {},
              "removedWidgets": [],
              "type": "ansi"
            }
          },
          "output_type": "display_data"
        }
      ],
      "source": [
        "logit_mod_test = LogisticRegression(featuresCol = 'features',labelCol = 'Iswicket').fit(df_train).transform(df_test)"
      ]
    },
    {
      "cell_type": "code",
      "execution_count": null,
      "metadata": {
        "application/vnd.databricks.v1+cell": {
          "cellMetadata": {},
          "inputWidgets": {},
          "nuid": "da0f29db-f6a4-4019-a510-781d42e29122",
          "showTitle": false,
          "title": ""
        },
        "id": "-rmNxj3CDCgk",
        "outputId": "1f6d18de-5d47-4684-893f-8fc604801f0b"
      },
      "outputs": [
        {
          "data": {
            "text/plain": [
              "+--------------------+--------+----------+\n",
              "|            features|Iswicket|prediction|\n",
              "+--------------------+--------+----------+\n",
              "|(35,[0,1,3,7,25],...|       1|       0.0|\n",
              "|(35,[0,1,3,12,24]...|       1|       0.0|\n",
              "|(35,[0,1,3,16,27]...|       1|       0.0|\n",
              "|(35,[0,1,3,17,26]...|       1|       0.0|\n",
              "|(35,[0,1,3,19,26]...|       1|       1.0|\n",
              "|(35,[0,1,3,22,24]...|       1|       1.0|\n",
              "|(35,[0,1,3,23,24]...|       1|       1.0|\n",
              "|(35,[0,1,3,26],[6...|       1|       1.0|\n",
              "|(35,[1,2,3,4,5],[...|       0|       0.0|\n",
              "|(35,[1,2,3,4,5,24...|       0|       0.0|\n",
              "|(35,[1,2,3,4,5,24...|       0|       0.0|\n",
              "|(35,[1,2,3,4,5,34...|       0|       0.0|\n",
              "|(35,[1,2,3,4,5,34...|       0|       0.0|\n",
              "|(35,[1,2,3,4,6,31...|       0|       0.0|\n",
              "|(35,[1,2,3,4,6,34...|       0|       0.0|\n",
              "|(35,[1,2,3,4,7,25...|       0|       0.0|\n",
              "|(35,[1,2,3,4,7,26...|       0|       0.0|\n",
              "|(35,[1,2,3,4,8],[...|       0|       0.0|\n",
              "|(35,[1,2,3,4,9,25...|       0|       0.0|\n",
              "|(35,[1,2,3,4,9,26...|       0|       0.0|\n",
              "+--------------------+--------+----------+\n",
              "only showing top 20 rows\n",
              "\n"
            ]
          },
          "metadata": {
            "application/vnd.databricks.v1+output": {
              "addedWidgets": {},
              "arguments": {},
              "data": "+--------------------+--------+----------+\n|            features|Iswicket|prediction|\n+--------------------+--------+----------+\n|(35,[0,1,3,7,25],...|       1|       0.0|\n|(35,[0,1,3,12,24]...|       1|       0.0|\n|(35,[0,1,3,16,27]...|       1|       0.0|\n|(35,[0,1,3,17,26]...|       1|       0.0|\n|(35,[0,1,3,19,26]...|       1|       1.0|\n|(35,[0,1,3,22,24]...|       1|       1.0|\n|(35,[0,1,3,23,24]...|       1|       1.0|\n|(35,[0,1,3,26],[6...|       1|       1.0|\n|(35,[1,2,3,4,5],[...|       0|       0.0|\n|(35,[1,2,3,4,5,24...|       0|       0.0|\n|(35,[1,2,3,4,5,24...|       0|       0.0|\n|(35,[1,2,3,4,5,34...|       0|       0.0|\n|(35,[1,2,3,4,5,34...|       0|       0.0|\n|(35,[1,2,3,4,6,31...|       0|       0.0|\n|(35,[1,2,3,4,6,34...|       0|       0.0|\n|(35,[1,2,3,4,7,25...|       0|       0.0|\n|(35,[1,2,3,4,7,26...|       0|       0.0|\n|(35,[1,2,3,4,8],[...|       0|       0.0|\n|(35,[1,2,3,4,9,25...|       0|       0.0|\n|(35,[1,2,3,4,9,26...|       0|       0.0|\n+--------------------+--------+----------+\nonly showing top 20 rows\n\n",
              "datasetInfos": [],
              "metadata": {},
              "removedWidgets": [],
              "type": "ansi"
            }
          },
          "output_type": "display_data"
        }
      ],
      "source": [
        "logit_mod_test.select(['features','Iswicket','prediction']).show()"
      ]
    },
    {
      "cell_type": "code",
      "execution_count": null,
      "metadata": {
        "application/vnd.databricks.v1+cell": {
          "cellMetadata": {},
          "inputWidgets": {},
          "nuid": "820efe92-a858-4789-acc6-797e14563b04",
          "showTitle": false,
          "title": ""
        },
        "id": "6EYzniTVDCgk"
      },
      "outputs": [],
      "source": [
        "# Evaluation\n",
        "from pyspark.ml.evaluation import BinaryClassificationEvaluator\n",
        "eval = BinaryClassificationEvaluator(labelCol = 'Iswicket', rawPredictionCol = 'prediction', metricName= 'areaUnderROC')"
      ]
    },
    {
      "cell_type": "code",
      "execution_count": null,
      "metadata": {
        "application/vnd.databricks.v1+cell": {
          "cellMetadata": {},
          "inputWidgets": {},
          "nuid": "6fe96b09-335d-4475-9bb7-af00581a41ef",
          "showTitle": false,
          "title": ""
        },
        "id": "OzC3dy9ODCgl",
        "outputId": "9c55610a-be37-49e2-997a-d938cefe95be"
      },
      "outputs": [
        {
          "data": {
            "text/plain": [
              "Out[76]: 0.7471751412429378"
            ]
          },
          "metadata": {
            "application/vnd.databricks.v1+output": {
              "addedWidgets": {},
              "arguments": {},
              "data": "Out[76]: 0.7471751412429378",
              "datasetInfos": [],
              "metadata": {},
              "removedWidgets": [],
              "type": "ansi"
            }
          },
          "output_type": "display_data"
        }
      ],
      "source": [
        "eval.evaluate(logit_mod_test)"
      ]
    },
    {
      "cell_type": "code",
      "execution_count": null,
      "metadata": {
        "application/vnd.databricks.v1+cell": {
          "cellMetadata": {},
          "inputWidgets": {},
          "nuid": "87499f17-a6cb-482c-9cfb-2fbbcedc8a2a",
          "showTitle": false,
          "title": ""
        },
        "id": "rxx2DMlFDCgm",
        "outputId": "1ad9f6ef-e08a-4d07-fa5c-45925b313108"
      },
      "outputs": [
        {
          "data": {
            "text/plain": [
              "Out[77]: 1.0"
            ]
          },
          "metadata": {
            "application/vnd.databricks.v1+output": {
              "addedWidgets": {},
              "arguments": {},
              "data": "Out[77]: 1.0",
              "datasetInfos": [],
              "metadata": {},
              "removedWidgets": [],
              "type": "ansi"
            }
          },
          "output_type": "display_data"
        }
      ],
      "source": [
        "eval.evaluate(logit_mod)"
      ]
    },
    {
      "cell_type": "code",
      "execution_count": null,
      "metadata": {
        "application/vnd.databricks.v1+cell": {
          "cellMetadata": {},
          "inputWidgets": {},
          "nuid": "bb26010e-a3a4-4b61-bc2d-6f59806c5027",
          "showTitle": false,
          "title": ""
        },
        "id": "C3iiDFd4DCgm"
      },
      "outputs": [],
      "source": []
    }
  ],
  "metadata": {
    "application/vnd.databricks.v1+notebook": {
      "dashboards": [],
      "language": "python",
      "notebookMetadata": {
        "pythonIndentUnit": 4
      },
      "notebookName": "pipeline",
      "notebookOrigID": 4264977406128464,
      "widgets": {}
    },
    "kernelspec": {
      "display_name": "Python 3",
      "language": "python",
      "name": "python3"
    },
    "language_info": {
      "codemirror_mode": {
        "name": "ipython",
        "version": 3
      },
      "file_extension": ".py",
      "mimetype": "text/x-python",
      "name": "python",
      "nbconvert_exporter": "python",
      "pygments_lexer": "ipython3",
      "version": "3.8.8"
    },
    "colab": {
      "provenance": [],
      "include_colab_link": true
    }
  },
  "nbformat": 4,
  "nbformat_minor": 0
}