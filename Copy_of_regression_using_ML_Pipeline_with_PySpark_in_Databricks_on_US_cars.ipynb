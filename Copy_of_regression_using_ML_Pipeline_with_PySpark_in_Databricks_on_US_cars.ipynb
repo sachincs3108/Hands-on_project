{
  "cells": [
    {
      "cell_type": "markdown",
      "metadata": {
        "id": "view-in-github",
        "colab_type": "text"
      },
      "source": [
        "<a href=\"https://colab.research.google.com/github/sachincs3108/Hands-on_project/blob/master/Copy_of_regression_using_ML_Pipeline_with_PySpark_in_Databricks_on_US_cars.ipynb\" target=\"_parent\"><img src=\"https://colab.research.google.com/assets/colab-badge.svg\" alt=\"Open In Colab\"/></a>"
      ]
    },
    {
      "cell_type": "code",
      "execution_count": null,
      "metadata": {
        "application/vnd.databricks.v1+cell": {
          "cellMetadata": {},
          "inputWidgets": {},
          "nuid": "780146fb-e6e3-4f67-a278-e321c778be49",
          "showTitle": false,
          "title": ""
        },
        "id": "t3sS3NavD4dA"
      },
      "outputs": [],
      "source": [
        "import pyspark\n",
        "import pandas as pd\n",
        "from pyspark import SparkContext, SparkConf\n",
        "from pyspark.sql import SparkSession"
      ]
    },
    {
      "cell_type": "code",
      "execution_count": null,
      "metadata": {
        "application/vnd.databricks.v1+cell": {
          "cellMetadata": {},
          "inputWidgets": {},
          "nuid": "923a5432-6984-4fdc-8674-4163c76f0f4e",
          "showTitle": false,
          "title": ""
        },
        "id": "GzHkiTpGD4dM"
      },
      "outputs": [],
      "source": [
        "spark_new = SparkSession.builder.master(\"local[2]\").getOrCreate()"
      ]
    },
    {
      "cell_type": "code",
      "execution_count": null,
      "metadata": {
        "application/vnd.databricks.v1+cell": {
          "cellMetadata": {},
          "inputWidgets": {},
          "nuid": "20311f7b-69ac-424f-80f9-f2366e6db519",
          "showTitle": false,
          "title": ""
        },
        "id": "N3Io3I4YD4dN"
      },
      "outputs": [],
      "source": [
        "data = spark_new.read.option(\"header\" , True).option(\"inferSchema\",True).csv(\"/FileStore/tables/USA_cars_datasets.csv\")"
      ]
    },
    {
      "cell_type": "code",
      "execution_count": null,
      "metadata": {
        "application/vnd.databricks.v1+cell": {
          "cellMetadata": {},
          "inputWidgets": {},
          "nuid": "4a43f530-6289-4bb1-8e32-f926a533b858",
          "showTitle": false,
          "title": ""
        },
        "id": "6G14b0mPD4dP",
        "outputId": "508eed3a-3a2e-4c7b-e8c7-1af6c5c5f36c"
      },
      "outputs": [
        {
          "data": {
            "text/plain": [
              "root\n",
              " |-- _c0: integer (nullable = true)\n",
              " |-- price: integer (nullable = true)\n",
              " |-- brand: string (nullable = true)\n",
              " |-- model: string (nullable = true)\n",
              " |-- year: integer (nullable = true)\n",
              " |-- title_status: string (nullable = true)\n",
              " |-- mileage: double (nullable = true)\n",
              " |-- color: string (nullable = true)\n",
              " |-- vin: string (nullable = true)\n",
              " |-- lot: integer (nullable = true)\n",
              " |-- state: string (nullable = true)\n",
              " |-- country: string (nullable = true)\n",
              " |-- condition: string (nullable = true)\n",
              "\n"
            ]
          },
          "metadata": {
            "application/vnd.databricks.v1+output": {
              "addedWidgets": {},
              "arguments": {},
              "data": "root\n |-- _c0: integer (nullable = true)\n |-- price: integer (nullable = true)\n |-- brand: string (nullable = true)\n |-- model: string (nullable = true)\n |-- year: integer (nullable = true)\n |-- title_status: string (nullable = true)\n |-- mileage: double (nullable = true)\n |-- color: string (nullable = true)\n |-- vin: string (nullable = true)\n |-- lot: integer (nullable = true)\n |-- state: string (nullable = true)\n |-- country: string (nullable = true)\n |-- condition: string (nullable = true)\n\n",
              "datasetInfos": [],
              "metadata": {},
              "removedWidgets": [],
              "type": "ansi"
            }
          },
          "output_type": "display_data"
        }
      ],
      "source": [
        "data.printSchema()"
      ]
    },
    {
      "cell_type": "code",
      "execution_count": null,
      "metadata": {
        "application/vnd.databricks.v1+cell": {
          "cellMetadata": {},
          "inputWidgets": {},
          "nuid": "bb792e18-dc65-4a41-b9ec-e55d3f9c1496",
          "showTitle": false,
          "title": ""
        },
        "id": "kLl7CJQgD4dS",
        "outputId": "95534916-266c-4910-dc35-900bb4f00ecb"
      },
      "outputs": [
        {
          "data": {
            "text/plain": [
              "+---+-----+---------+-------+----+-------------+--------+------+-------------------+---------+--------------+-------+-------------+\n",
              "|_c0|price|    brand|  model|year| title_status| mileage| color|                vin|      lot|         state|country|    condition|\n",
              "+---+-----+---------+-------+----+-------------+--------+------+-------------------+---------+--------------+-------+-------------+\n",
              "|  0| 6300|   toyota|cruiser|2008|clean vehicle|274117.0| black|  jtezu11f88k007763|159348797|    new jersey|    usa| 10 days left|\n",
              "|  1| 2899|     ford|     se|2011|clean vehicle|190552.0|silver|  2fmdk3gc4bbb02217|166951262|     tennessee|    usa|  6 days left|\n",
              "|  2| 5350|    dodge|    mpv|2018|clean vehicle| 39590.0|silver|  3c4pdcgg5jt346413|167655728|       georgia|    usa|  2 days left|\n",
              "|  3|25000|     ford|   door|2014|clean vehicle| 64146.0|  blue|  1ftfw1et4efc23745|167753855|      virginia|    usa|22 hours left|\n",
              "|  4|27700|chevrolet|   1500|2018|clean vehicle|  6654.0|   red|  3gcpcrec2jg473991|167763266|       florida|    usa|22 hours left|\n",
              "|  5| 5700|    dodge|    mpv|2018|clean vehicle| 45561.0| white|  2c4rdgeg9jr237989|167655771|         texas|    usa|  2 days left|\n",
              "|  6| 7300|chevrolet|     pk|2010|clean vehicle|149050.0| black|  1gcsksea1az121133|167753872|       georgia|    usa|22 hours left|\n",
              "|  7|13350|      gmc|   door|2017|clean vehicle| 23525.0|  gray|  1gks2gkc3hr326762|167692494|    california|    usa|20 hours left|\n",
              "|  8|14600|chevrolet| malibu|2018|clean vehicle|  9371.0|silver|  1g1zd5st5jf191860|167763267|       florida|    usa|22 hours left|\n",
              "|  9| 5250|     ford|    mpv|2017|clean vehicle| 63418.0| black|  2fmpk3j92hbc12542|167656121|         texas|    usa|  2 days left|\n",
              "| 10|10400|    dodge|  coupe|2009|clean vehicle|107856.0|orange|  2b3lj54t49h509675|167753874|       georgia|    usa|22 hours left|\n",
              "| 11|12920|      gmc|    mpv|2017|clean vehicle| 39650.0| white|  1gks2bkc6hr136280|167692496|    california|    usa|20 hours left|\n",
              "| 12|31900|chevrolet|   1500|2018|clean vehicle| 22909.0| black|  3gcukrec0jg176059|167763273|     tennessee|    usa|22 hours left|\n",
              "| 13| 5430| chrysler|  wagon|2017|clean vehicle|138650.0|  gray|  2c4rc1cg5hr616095|167656123|         texas|    usa|  2 days left|\n",
              "| 14|20700|     ford|   door|2013|clean vehicle|100757.0| black|  1ftfw1et7dfa47790|167753916|      virginia|    usa|22 hours left|\n",
              "| 15|12710|      gmc|   door|2017|clean vehicle| 25747.0| white|  1gks2gkc6hr328389|167692497|    california|    usa|20 hours left|\n",
              "| 16| 5200|      kia|  forte|2018|clean vehicle| 46194.0|  blue|  3kpfk4a77je198723|167801757|north carolina|    usa|  2 days left|\n",
              "| 17|16500|    buick| encore|2018|clean vehicle| 20002.0|   red|  kl4cj1sb6jb688844|167763275|     tennessee|    usa|22 hours left|\n",
              "| 18| 5210|     ford|    mpv|2017|clean vehicle| 35714.0| white|  2fmpk3j95hbb73607|167656124|         texas|    usa|  2 days left|\n",
              "| 19|38100|     ford|   door|2013|clean vehicle| 54380.0|  gray|  1ft8w3dt5deb68569|167753923|      virginia|    usa|22 hours left|\n",
              "+---+-----+---------+-------+----+-------------+--------+------+-------------------+---------+--------------+-------+-------------+\n",
              "only showing top 20 rows\n",
              "\n"
            ]
          },
          "metadata": {
            "application/vnd.databricks.v1+output": {
              "addedWidgets": {},
              "arguments": {},
              "data": "+---+-----+---------+-------+----+-------------+--------+------+-------------------+---------+--------------+-------+-------------+\n|_c0|price|    brand|  model|year| title_status| mileage| color|                vin|      lot|         state|country|    condition|\n+---+-----+---------+-------+----+-------------+--------+------+-------------------+---------+--------------+-------+-------------+\n|  0| 6300|   toyota|cruiser|2008|clean vehicle|274117.0| black|  jtezu11f88k007763|159348797|    new jersey|    usa| 10 days left|\n|  1| 2899|     ford|     se|2011|clean vehicle|190552.0|silver|  2fmdk3gc4bbb02217|166951262|     tennessee|    usa|  6 days left|\n|  2| 5350|    dodge|    mpv|2018|clean vehicle| 39590.0|silver|  3c4pdcgg5jt346413|167655728|       georgia|    usa|  2 days left|\n|  3|25000|     ford|   door|2014|clean vehicle| 64146.0|  blue|  1ftfw1et4efc23745|167753855|      virginia|    usa|22 hours left|\n|  4|27700|chevrolet|   1500|2018|clean vehicle|  6654.0|   red|  3gcpcrec2jg473991|167763266|       florida|    usa|22 hours left|\n|  5| 5700|    dodge|    mpv|2018|clean vehicle| 45561.0| white|  2c4rdgeg9jr237989|167655771|         texas|    usa|  2 days left|\n|  6| 7300|chevrolet|     pk|2010|clean vehicle|149050.0| black|  1gcsksea1az121133|167753872|       georgia|    usa|22 hours left|\n|  7|13350|      gmc|   door|2017|clean vehicle| 23525.0|  gray|  1gks2gkc3hr326762|167692494|    california|    usa|20 hours left|\n|  8|14600|chevrolet| malibu|2018|clean vehicle|  9371.0|silver|  1g1zd5st5jf191860|167763267|       florida|    usa|22 hours left|\n|  9| 5250|     ford|    mpv|2017|clean vehicle| 63418.0| black|  2fmpk3j92hbc12542|167656121|         texas|    usa|  2 days left|\n| 10|10400|    dodge|  coupe|2009|clean vehicle|107856.0|orange|  2b3lj54t49h509675|167753874|       georgia|    usa|22 hours left|\n| 11|12920|      gmc|    mpv|2017|clean vehicle| 39650.0| white|  1gks2bkc6hr136280|167692496|    california|    usa|20 hours left|\n| 12|31900|chevrolet|   1500|2018|clean vehicle| 22909.0| black|  3gcukrec0jg176059|167763273|     tennessee|    usa|22 hours left|\n| 13| 5430| chrysler|  wagon|2017|clean vehicle|138650.0|  gray|  2c4rc1cg5hr616095|167656123|         texas|    usa|  2 days left|\n| 14|20700|     ford|   door|2013|clean vehicle|100757.0| black|  1ftfw1et7dfa47790|167753916|      virginia|    usa|22 hours left|\n| 15|12710|      gmc|   door|2017|clean vehicle| 25747.0| white|  1gks2gkc6hr328389|167692497|    california|    usa|20 hours left|\n| 16| 5200|      kia|  forte|2018|clean vehicle| 46194.0|  blue|  3kpfk4a77je198723|167801757|north carolina|    usa|  2 days left|\n| 17|16500|    buick| encore|2018|clean vehicle| 20002.0|   red|  kl4cj1sb6jb688844|167763275|     tennessee|    usa|22 hours left|\n| 18| 5210|     ford|    mpv|2017|clean vehicle| 35714.0| white|  2fmpk3j95hbb73607|167656124|         texas|    usa|  2 days left|\n| 19|38100|     ford|   door|2013|clean vehicle| 54380.0|  gray|  1ft8w3dt5deb68569|167753923|      virginia|    usa|22 hours left|\n+---+-----+---------+-------+----+-------------+--------+------+-------------------+---------+--------------+-------+-------------+\nonly showing top 20 rows\n\n",
              "datasetInfos": [],
              "metadata": {},
              "removedWidgets": [],
              "type": "ansi"
            }
          },
          "output_type": "display_data"
        }
      ],
      "source": [
        "data.show()"
      ]
    },
    {
      "cell_type": "code",
      "execution_count": null,
      "metadata": {
        "application/vnd.databricks.v1+cell": {
          "cellMetadata": {},
          "inputWidgets": {},
          "nuid": "a1112df3-127f-4f1e-adec-90ee8b16cb2e",
          "showTitle": false,
          "title": ""
        },
        "id": "6l8Q2SndD4dT"
      },
      "outputs": [],
      "source": [
        "df_panda = data.toPandas()"
      ]
    },
    {
      "cell_type": "code",
      "execution_count": null,
      "metadata": {
        "application/vnd.databricks.v1+cell": {
          "cellMetadata": {},
          "inputWidgets": {},
          "nuid": "76585572-5dde-4d58-a3b7-d5f448b4fe7e",
          "showTitle": false,
          "title": ""
        },
        "id": "syWxVkyPD4dU",
        "outputId": "195cc1d1-fe29-4031-c11a-96adcf9c5885"
      },
      "outputs": [
        {
          "data": {
            "text/plain": [
              "<class 'pandas.core.frame.DataFrame'>\n",
              "RangeIndex: 2499 entries, 0 to 2498\n",
              "Data columns (total 13 columns):\n",
              " #   Column        Non-Null Count  Dtype  \n",
              "---  ------        --------------  -----  \n",
              " 0   _c0           2499 non-null   int32  \n",
              " 1   price         2499 non-null   int32  \n",
              " 2   brand         2499 non-null   object \n",
              " 3   model         2499 non-null   object \n",
              " 4   year          2499 non-null   int32  \n",
              " 5   title_status  2499 non-null   object \n",
              " 6   mileage       2499 non-null   float64\n",
              " 7   color         2499 non-null   object \n",
              " 8   vin           2499 non-null   object \n",
              " 9   lot           2499 non-null   int32  \n",
              " 10  state         2499 non-null   object \n",
              " 11  country       2499 non-null   object \n",
              " 12  condition     2499 non-null   object \n",
              "dtypes: float64(1), int32(4), object(8)\n",
              "memory usage: 214.9+ KB\n"
            ]
          },
          "metadata": {
            "application/vnd.databricks.v1+output": {
              "addedWidgets": {},
              "arguments": {},
              "data": "<class 'pandas.core.frame.DataFrame'>\nRangeIndex: 2499 entries, 0 to 2498\nData columns (total 13 columns):\n #   Column        Non-Null Count  Dtype  \n---  ------        --------------  -----  \n 0   _c0           2499 non-null   int32  \n 1   price         2499 non-null   int32  \n 2   brand         2499 non-null   object \n 3   model         2499 non-null   object \n 4   year          2499 non-null   int32  \n 5   title_status  2499 non-null   object \n 6   mileage       2499 non-null   float64\n 7   color         2499 non-null   object \n 8   vin           2499 non-null   object \n 9   lot           2499 non-null   int32  \n 10  state         2499 non-null   object \n 11  country       2499 non-null   object \n 12  condition     2499 non-null   object \ndtypes: float64(1), int32(4), object(8)\nmemory usage: 214.9+ KB\n",
              "datasetInfos": [],
              "metadata": {},
              "removedWidgets": [],
              "type": "ansi"
            }
          },
          "output_type": "display_data"
        }
      ],
      "source": [
        "df_panda.info()"
      ]
    },
    {
      "cell_type": "code",
      "execution_count": null,
      "metadata": {
        "application/vnd.databricks.v1+cell": {
          "cellMetadata": {},
          "inputWidgets": {},
          "nuid": "e612d287-0433-46f9-841b-2a6f980cd206",
          "showTitle": false,
          "title": ""
        },
        "id": "CV4g4U5QD4dV",
        "outputId": "0619ac98-c0fc-47bc-b2e2-18289cb622a6"
      },
      "outputs": [
        {
          "data": {
            "text/plain": [
              "Out[45]: _c0               int32\n",
              "price             int32\n",
              "brand            object\n",
              "model            object\n",
              "year              int32\n",
              "title_status     object\n",
              "mileage         float64\n",
              "color            object\n",
              "vin              object\n",
              "lot               int32\n",
              "state            object\n",
              "country          object\n",
              "condition        object\n",
              "dtype: object"
            ]
          },
          "metadata": {
            "application/vnd.databricks.v1+output": {
              "addedWidgets": {},
              "arguments": {},
              "data": "Out[45]: _c0               int32\nprice             int32\nbrand            object\nmodel            object\nyear              int32\ntitle_status     object\nmileage         float64\ncolor            object\nvin              object\nlot               int32\nstate            object\ncountry          object\ncondition        object\ndtype: object",
              "datasetInfos": [],
              "metadata": {},
              "removedWidgets": [],
              "type": "ansi"
            }
          },
          "output_type": "display_data"
        }
      ],
      "source": [
        "df_panda.dtypes"
      ]
    },
    {
      "cell_type": "code",
      "execution_count": null,
      "metadata": {
        "application/vnd.databricks.v1+cell": {
          "cellMetadata": {},
          "inputWidgets": {},
          "nuid": "8e57a2af-e391-4b7e-a642-78ae54f56ed0",
          "showTitle": false,
          "title": ""
        },
        "id": "t7TTGcifD4dX",
        "outputId": "22e4e322-b130-4e98-e76d-55634713bc3a"
      },
      "outputs": [
        {
          "data": {
            "text/plain": [
              "Out[46]: _c0             0\n",
              "price           0\n",
              "brand           0\n",
              "model           0\n",
              "year            0\n",
              "title_status    0\n",
              "mileage         0\n",
              "color           0\n",
              "vin             0\n",
              "lot             0\n",
              "state           0\n",
              "country         0\n",
              "condition       0\n",
              "dtype: int64"
            ]
          },
          "metadata": {
            "application/vnd.databricks.v1+output": {
              "addedWidgets": {},
              "arguments": {},
              "data": "Out[46]: _c0             0\nprice           0\nbrand           0\nmodel           0\nyear            0\ntitle_status    0\nmileage         0\ncolor           0\nvin             0\nlot             0\nstate           0\ncountry         0\ncondition       0\ndtype: int64",
              "datasetInfos": [],
              "metadata": {},
              "removedWidgets": [],
              "type": "ansi"
            }
          },
          "output_type": "display_data"
        }
      ],
      "source": [
        "df_panda.isna().sum()"
      ]
    },
    {
      "cell_type": "code",
      "execution_count": null,
      "metadata": {
        "application/vnd.databricks.v1+cell": {
          "cellMetadata": {},
          "inputWidgets": {},
          "nuid": "94de6784-0722-4a8f-9eb7-ed91e585ae33",
          "showTitle": false,
          "title": ""
        },
        "id": "OBXumSKXD4dY",
        "outputId": "594e9863-92f1-447d-9992-4e368e48664f"
      },
      "outputs": [
        {
          "data": {
            "text/html": [
              "<div>\n",
              "<style scoped>\n",
              "    .dataframe tbody tr th:only-of-type {\n",
              "        vertical-align: middle;\n",
              "    }\n",
              "\n",
              "    .dataframe tbody tr th {\n",
              "        vertical-align: top;\n",
              "    }\n",
              "\n",
              "    .dataframe thead th {\n",
              "        text-align: right;\n",
              "    }\n",
              "</style>\n",
              "<table border=\"1\" class=\"dataframe\">\n",
              "  <thead>\n",
              "    <tr style=\"text-align: right;\">\n",
              "      <th></th>\n",
              "      <th>_c0</th>\n",
              "      <th>price</th>\n",
              "      <th>year</th>\n",
              "      <th>mileage</th>\n",
              "      <th>lot</th>\n",
              "    </tr>\n",
              "  </thead>\n",
              "  <tbody>\n",
              "    <tr>\n",
              "      <th>count</th>\n",
              "      <td>2499.000000</td>\n",
              "      <td>2499.000000</td>\n",
              "      <td>2499.000000</td>\n",
              "      <td>2.499000e+03</td>\n",
              "      <td>2.499000e+03</td>\n",
              "    </tr>\n",
              "    <tr>\n",
              "      <th>mean</th>\n",
              "      <td>1249.000000</td>\n",
              "      <td>18767.671469</td>\n",
              "      <td>2016.714286</td>\n",
              "      <td>5.229869e+04</td>\n",
              "      <td>1.676914e+08</td>\n",
              "    </tr>\n",
              "    <tr>\n",
              "      <th>std</th>\n",
              "      <td>721.543484</td>\n",
              "      <td>12116.094936</td>\n",
              "      <td>3.442656</td>\n",
              "      <td>5.970552e+04</td>\n",
              "      <td>2.038772e+05</td>\n",
              "    </tr>\n",
              "    <tr>\n",
              "      <th>min</th>\n",
              "      <td>0.000000</td>\n",
              "      <td>0.000000</td>\n",
              "      <td>1973.000000</td>\n",
              "      <td>0.000000e+00</td>\n",
              "      <td>1.593488e+08</td>\n",
              "    </tr>\n",
              "    <tr>\n",
              "      <th>25%</th>\n",
              "      <td>624.500000</td>\n",
              "      <td>10200.000000</td>\n",
              "      <td>2016.000000</td>\n",
              "      <td>2.146650e+04</td>\n",
              "      <td>1.676253e+08</td>\n",
              "    </tr>\n",
              "    <tr>\n",
              "      <th>50%</th>\n",
              "      <td>1249.000000</td>\n",
              "      <td>16900.000000</td>\n",
              "      <td>2018.000000</td>\n",
              "      <td>3.536500e+04</td>\n",
              "      <td>1.677451e+08</td>\n",
              "    </tr>\n",
              "    <tr>\n",
              "      <th>75%</th>\n",
              "      <td>1873.500000</td>\n",
              "      <td>25555.500000</td>\n",
              "      <td>2019.000000</td>\n",
              "      <td>6.347250e+04</td>\n",
              "      <td>1.677798e+08</td>\n",
              "    </tr>\n",
              "    <tr>\n",
              "      <th>max</th>\n",
              "      <td>2498.000000</td>\n",
              "      <td>84900.000000</td>\n",
              "      <td>2020.000000</td>\n",
              "      <td>1.017936e+06</td>\n",
              "      <td>1.678055e+08</td>\n",
              "    </tr>\n",
              "  </tbody>\n",
              "</table>\n",
              "</div>"
            ]
          },
          "metadata": {
            "application/vnd.databricks.v1+output": {
              "addedWidgets": {},
              "arguments": {},
              "data": "<div>\n<style scoped>\n    .dataframe tbody tr th:only-of-type {\n        vertical-align: middle;\n    }\n\n    .dataframe tbody tr th {\n        vertical-align: top;\n    }\n\n    .dataframe thead th {\n        text-align: right;\n    }\n</style>\n<table border=\"1\" class=\"dataframe\">\n  <thead>\n    <tr style=\"text-align: right;\">\n      <th></th>\n      <th>_c0</th>\n      <th>price</th>\n      <th>year</th>\n      <th>mileage</th>\n      <th>lot</th>\n    </tr>\n  </thead>\n  <tbody>\n    <tr>\n      <th>count</th>\n      <td>2499.000000</td>\n      <td>2499.000000</td>\n      <td>2499.000000</td>\n      <td>2.499000e+03</td>\n      <td>2.499000e+03</td>\n    </tr>\n    <tr>\n      <th>mean</th>\n      <td>1249.000000</td>\n      <td>18767.671469</td>\n      <td>2016.714286</td>\n      <td>5.229869e+04</td>\n      <td>1.676914e+08</td>\n    </tr>\n    <tr>\n      <th>std</th>\n      <td>721.543484</td>\n      <td>12116.094936</td>\n      <td>3.442656</td>\n      <td>5.970552e+04</td>\n      <td>2.038772e+05</td>\n    </tr>\n    <tr>\n      <th>min</th>\n      <td>0.000000</td>\n      <td>0.000000</td>\n      <td>1973.000000</td>\n      <td>0.000000e+00</td>\n      <td>1.593488e+08</td>\n    </tr>\n    <tr>\n      <th>25%</th>\n      <td>624.500000</td>\n      <td>10200.000000</td>\n      <td>2016.000000</td>\n      <td>2.146650e+04</td>\n      <td>1.676253e+08</td>\n    </tr>\n    <tr>\n      <th>50%</th>\n      <td>1249.000000</td>\n      <td>16900.000000</td>\n      <td>2018.000000</td>\n      <td>3.536500e+04</td>\n      <td>1.677451e+08</td>\n    </tr>\n    <tr>\n      <th>75%</th>\n      <td>1873.500000</td>\n      <td>25555.500000</td>\n      <td>2019.000000</td>\n      <td>6.347250e+04</td>\n      <td>1.677798e+08</td>\n    </tr>\n    <tr>\n      <th>max</th>\n      <td>2498.000000</td>\n      <td>84900.000000</td>\n      <td>2020.000000</td>\n      <td>1.017936e+06</td>\n      <td>1.678055e+08</td>\n    </tr>\n  </tbody>\n</table>\n</div>",
              "datasetInfos": [],
              "metadata": {},
              "removedWidgets": [],
              "textData": null,
              "type": "htmlSandbox"
            }
          },
          "output_type": "display_data"
        }
      ],
      "source": [
        "df_panda.describe()"
      ]
    },
    {
      "cell_type": "code",
      "execution_count": null,
      "metadata": {
        "application/vnd.databricks.v1+cell": {
          "cellMetadata": {},
          "inputWidgets": {},
          "nuid": "0679b6c0-8c30-4855-855e-171b82d0b6cc",
          "showTitle": false,
          "title": ""
        },
        "id": "jZ3mJgCID4dZ",
        "outputId": "872ca5e5-df8c-4521-be5f-89810a5f8b35"
      },
      "outputs": [
        {
          "data": {
            "text/plain": [
              "Out[48]: Index(['_c0', 'price', 'brand', 'model', 'year', 'title_status', 'mileage',\n",
              "       'color', 'vin', 'lot', 'state', 'country', 'condition'],\n",
              "      dtype='object')"
            ]
          },
          "metadata": {
            "application/vnd.databricks.v1+output": {
              "addedWidgets": {},
              "arguments": {},
              "data": "Out[48]: Index(['_c0', 'price', 'brand', 'model', 'year', 'title_status', 'mileage',\n       'color', 'vin', 'lot', 'state', 'country', 'condition'],\n      dtype='object')",
              "datasetInfos": [],
              "metadata": {},
              "removedWidgets": [],
              "type": "ansi"
            }
          },
          "output_type": "display_data"
        }
      ],
      "source": [
        "df_panda.columns"
      ]
    },
    {
      "cell_type": "code",
      "execution_count": null,
      "metadata": {
        "application/vnd.databricks.v1+cell": {
          "cellMetadata": {},
          "inputWidgets": {},
          "nuid": "28904796-0205-4db2-aafb-2fb4a9c15d08",
          "showTitle": false,
          "title": ""
        },
        "id": "0I-v9gfnD4db"
      },
      "outputs": [],
      "source": [
        "# check without encoding data i.e with non numeric columns\n",
        "\n",
        "from pyspark.ml.feature import VectorAssembler\n",
        "assembler = VectorAssembler(inputCols = ['_c0', 'price', 'brand', 'model', 'year', 'title_status', 'mileage',\n",
        "       'color', 'vin', 'lot', 'state', 'country', 'condition'], outputCol = 'feature_vector')"
      ]
    },
    {
      "cell_type": "code",
      "execution_count": null,
      "metadata": {
        "application/vnd.databricks.v1+cell": {
          "cellMetadata": {},
          "inputWidgets": {},
          "nuid": "0303723d-3338-4018-95d4-42c9f7ef3557",
          "showTitle": false,
          "title": ""
        },
        "id": "of_CSr0AD4dc"
      },
      "outputs": [],
      "source": [
        "# data_new = assembler.transform(data)  (gives error so  we use numeric data)"
      ]
    },
    {
      "cell_type": "code",
      "execution_count": null,
      "metadata": {
        "application/vnd.databricks.v1+cell": {
          "cellMetadata": {},
          "inputWidgets": {},
          "nuid": "c1ac9745-e21f-46e1-a704-2ad5e5fa2dfc",
          "showTitle": false,
          "title": ""
        },
        "id": "GqPLulPqD4dc"
      },
      "outputs": [],
      "source": [
        "assembler = VectorAssembler(inputCols = [ 'year',  'mileage','lot'], outputCol = 'feature_vector')"
      ]
    },
    {
      "cell_type": "code",
      "execution_count": null,
      "metadata": {
        "application/vnd.databricks.v1+cell": {
          "cellMetadata": {},
          "inputWidgets": {},
          "nuid": "c799159c-9827-4816-97a4-17f257f3d7bf",
          "showTitle": false,
          "title": ""
        },
        "id": "PcRNGtJTD4dd"
      },
      "outputs": [],
      "source": [
        "data_new = assembler.transform(data)"
      ]
    },
    {
      "cell_type": "code",
      "execution_count": null,
      "metadata": {
        "application/vnd.databricks.v1+cell": {
          "cellMetadata": {},
          "inputWidgets": {},
          "nuid": "f9441381-c346-4e64-8a45-ee5fee1cd36e",
          "showTitle": false,
          "title": ""
        },
        "id": "yJh3pgZVD4de",
        "outputId": "e78babcf-4826-4af9-c396-706419ca0ca3"
      },
      "outputs": [
        {
          "data": {
            "text/plain": [
              "+---+-----+---------+-------+----+-------------+--------+------+-------------------+---------+--------------+-------+-------------+--------------------+\n",
              "|_c0|price|    brand|  model|year| title_status| mileage| color|                vin|      lot|         state|country|    condition|      feature_vector|\n",
              "+---+-----+---------+-------+----+-------------+--------+------+-------------------+---------+--------------+-------+-------------+--------------------+\n",
              "|  0| 6300|   toyota|cruiser|2008|clean vehicle|274117.0| black|  jtezu11f88k007763|159348797|    new jersey|    usa| 10 days left|[2008.0,274117.0,...|\n",
              "|  1| 2899|     ford|     se|2011|clean vehicle|190552.0|silver|  2fmdk3gc4bbb02217|166951262|     tennessee|    usa|  6 days left|[2011.0,190552.0,...|\n",
              "|  2| 5350|    dodge|    mpv|2018|clean vehicle| 39590.0|silver|  3c4pdcgg5jt346413|167655728|       georgia|    usa|  2 days left|[2018.0,39590.0,1...|\n",
              "|  3|25000|     ford|   door|2014|clean vehicle| 64146.0|  blue|  1ftfw1et4efc23745|167753855|      virginia|    usa|22 hours left|[2014.0,64146.0,1...|\n",
              "|  4|27700|chevrolet|   1500|2018|clean vehicle|  6654.0|   red|  3gcpcrec2jg473991|167763266|       florida|    usa|22 hours left|[2018.0,6654.0,1....|\n",
              "|  5| 5700|    dodge|    mpv|2018|clean vehicle| 45561.0| white|  2c4rdgeg9jr237989|167655771|         texas|    usa|  2 days left|[2018.0,45561.0,1...|\n",
              "|  6| 7300|chevrolet|     pk|2010|clean vehicle|149050.0| black|  1gcsksea1az121133|167753872|       georgia|    usa|22 hours left|[2010.0,149050.0,...|\n",
              "|  7|13350|      gmc|   door|2017|clean vehicle| 23525.0|  gray|  1gks2gkc3hr326762|167692494|    california|    usa|20 hours left|[2017.0,23525.0,1...|\n",
              "|  8|14600|chevrolet| malibu|2018|clean vehicle|  9371.0|silver|  1g1zd5st5jf191860|167763267|       florida|    usa|22 hours left|[2018.0,9371.0,1....|\n",
              "|  9| 5250|     ford|    mpv|2017|clean vehicle| 63418.0| black|  2fmpk3j92hbc12542|167656121|         texas|    usa|  2 days left|[2017.0,63418.0,1...|\n",
              "| 10|10400|    dodge|  coupe|2009|clean vehicle|107856.0|orange|  2b3lj54t49h509675|167753874|       georgia|    usa|22 hours left|[2009.0,107856.0,...|\n",
              "| 11|12920|      gmc|    mpv|2017|clean vehicle| 39650.0| white|  1gks2bkc6hr136280|167692496|    california|    usa|20 hours left|[2017.0,39650.0,1...|\n",
              "| 12|31900|chevrolet|   1500|2018|clean vehicle| 22909.0| black|  3gcukrec0jg176059|167763273|     tennessee|    usa|22 hours left|[2018.0,22909.0,1...|\n",
              "| 13| 5430| chrysler|  wagon|2017|clean vehicle|138650.0|  gray|  2c4rc1cg5hr616095|167656123|         texas|    usa|  2 days left|[2017.0,138650.0,...|\n",
              "| 14|20700|     ford|   door|2013|clean vehicle|100757.0| black|  1ftfw1et7dfa47790|167753916|      virginia|    usa|22 hours left|[2013.0,100757.0,...|\n",
              "| 15|12710|      gmc|   door|2017|clean vehicle| 25747.0| white|  1gks2gkc6hr328389|167692497|    california|    usa|20 hours left|[2017.0,25747.0,1...|\n",
              "| 16| 5200|      kia|  forte|2018|clean vehicle| 46194.0|  blue|  3kpfk4a77je198723|167801757|north carolina|    usa|  2 days left|[2018.0,46194.0,1...|\n",
              "| 17|16500|    buick| encore|2018|clean vehicle| 20002.0|   red|  kl4cj1sb6jb688844|167763275|     tennessee|    usa|22 hours left|[2018.0,20002.0,1...|\n",
              "| 18| 5210|     ford|    mpv|2017|clean vehicle| 35714.0| white|  2fmpk3j95hbb73607|167656124|         texas|    usa|  2 days left|[2017.0,35714.0,1...|\n",
              "| 19|38100|     ford|   door|2013|clean vehicle| 54380.0|  gray|  1ft8w3dt5deb68569|167753923|      virginia|    usa|22 hours left|[2013.0,54380.0,1...|\n",
              "+---+-----+---------+-------+----+-------------+--------+------+-------------------+---------+--------------+-------+-------------+--------------------+\n",
              "only showing top 20 rows\n",
              "\n"
            ]
          },
          "metadata": {
            "application/vnd.databricks.v1+output": {
              "addedWidgets": {},
              "arguments": {},
              "data": "+---+-----+---------+-------+----+-------------+--------+------+-------------------+---------+--------------+-------+-------------+--------------------+\n|_c0|price|    brand|  model|year| title_status| mileage| color|                vin|      lot|         state|country|    condition|      feature_vector|\n+---+-----+---------+-------+----+-------------+--------+------+-------------------+---------+--------------+-------+-------------+--------------------+\n|  0| 6300|   toyota|cruiser|2008|clean vehicle|274117.0| black|  jtezu11f88k007763|159348797|    new jersey|    usa| 10 days left|[2008.0,274117.0,...|\n|  1| 2899|     ford|     se|2011|clean vehicle|190552.0|silver|  2fmdk3gc4bbb02217|166951262|     tennessee|    usa|  6 days left|[2011.0,190552.0,...|\n|  2| 5350|    dodge|    mpv|2018|clean vehicle| 39590.0|silver|  3c4pdcgg5jt346413|167655728|       georgia|    usa|  2 days left|[2018.0,39590.0,1...|\n|  3|25000|     ford|   door|2014|clean vehicle| 64146.0|  blue|  1ftfw1et4efc23745|167753855|      virginia|    usa|22 hours left|[2014.0,64146.0,1...|\n|  4|27700|chevrolet|   1500|2018|clean vehicle|  6654.0|   red|  3gcpcrec2jg473991|167763266|       florida|    usa|22 hours left|[2018.0,6654.0,1....|\n|  5| 5700|    dodge|    mpv|2018|clean vehicle| 45561.0| white|  2c4rdgeg9jr237989|167655771|         texas|    usa|  2 days left|[2018.0,45561.0,1...|\n|  6| 7300|chevrolet|     pk|2010|clean vehicle|149050.0| black|  1gcsksea1az121133|167753872|       georgia|    usa|22 hours left|[2010.0,149050.0,...|\n|  7|13350|      gmc|   door|2017|clean vehicle| 23525.0|  gray|  1gks2gkc3hr326762|167692494|    california|    usa|20 hours left|[2017.0,23525.0,1...|\n|  8|14600|chevrolet| malibu|2018|clean vehicle|  9371.0|silver|  1g1zd5st5jf191860|167763267|       florida|    usa|22 hours left|[2018.0,9371.0,1....|\n|  9| 5250|     ford|    mpv|2017|clean vehicle| 63418.0| black|  2fmpk3j92hbc12542|167656121|         texas|    usa|  2 days left|[2017.0,63418.0,1...|\n| 10|10400|    dodge|  coupe|2009|clean vehicle|107856.0|orange|  2b3lj54t49h509675|167753874|       georgia|    usa|22 hours left|[2009.0,107856.0,...|\n| 11|12920|      gmc|    mpv|2017|clean vehicle| 39650.0| white|  1gks2bkc6hr136280|167692496|    california|    usa|20 hours left|[2017.0,39650.0,1...|\n| 12|31900|chevrolet|   1500|2018|clean vehicle| 22909.0| black|  3gcukrec0jg176059|167763273|     tennessee|    usa|22 hours left|[2018.0,22909.0,1...|\n| 13| 5430| chrysler|  wagon|2017|clean vehicle|138650.0|  gray|  2c4rc1cg5hr616095|167656123|         texas|    usa|  2 days left|[2017.0,138650.0,...|\n| 14|20700|     ford|   door|2013|clean vehicle|100757.0| black|  1ftfw1et7dfa47790|167753916|      virginia|    usa|22 hours left|[2013.0,100757.0,...|\n| 15|12710|      gmc|   door|2017|clean vehicle| 25747.0| white|  1gks2gkc6hr328389|167692497|    california|    usa|20 hours left|[2017.0,25747.0,1...|\n| 16| 5200|      kia|  forte|2018|clean vehicle| 46194.0|  blue|  3kpfk4a77je198723|167801757|north carolina|    usa|  2 days left|[2018.0,46194.0,1...|\n| 17|16500|    buick| encore|2018|clean vehicle| 20002.0|   red|  kl4cj1sb6jb688844|167763275|     tennessee|    usa|22 hours left|[2018.0,20002.0,1...|\n| 18| 5210|     ford|    mpv|2017|clean vehicle| 35714.0| white|  2fmpk3j95hbb73607|167656124|         texas|    usa|  2 days left|[2017.0,35714.0,1...|\n| 19|38100|     ford|   door|2013|clean vehicle| 54380.0|  gray|  1ft8w3dt5deb68569|167753923|      virginia|    usa|22 hours left|[2013.0,54380.0,1...|\n+---+-----+---------+-------+----+-------------+--------+------+-------------------+---------+--------------+-------+-------------+--------------------+\nonly showing top 20 rows\n\n",
              "datasetInfos": [],
              "metadata": {},
              "removedWidgets": [],
              "type": "ansi"
            }
          },
          "output_type": "display_data"
        }
      ],
      "source": [
        "data_new.show()"
      ]
    },
    {
      "cell_type": "code",
      "execution_count": null,
      "metadata": {
        "application/vnd.databricks.v1+cell": {
          "cellMetadata": {},
          "inputWidgets": {},
          "nuid": "87c71b38-a2bb-43cd-913a-600f6a85fe80",
          "showTitle": false,
          "title": ""
        },
        "id": "Jc202yT9D4df",
        "outputId": "970515ce-ad40-4613-c145-168e24ff04ae"
      },
      "outputs": [
        {
          "data": {
            "text/plain": [
              "+--------------------+\n",
              "|      feature_vector|\n",
              "+--------------------+\n",
              "|[2008.0,274117.0,...|\n",
              "|[2011.0,190552.0,...|\n",
              "|[2018.0,39590.0,1...|\n",
              "|[2014.0,64146.0,1...|\n",
              "|[2018.0,6654.0,1....|\n",
              "|[2018.0,45561.0,1...|\n",
              "|[2010.0,149050.0,...|\n",
              "|[2017.0,23525.0,1...|\n",
              "|[2018.0,9371.0,1....|\n",
              "|[2017.0,63418.0,1...|\n",
              "|[2009.0,107856.0,...|\n",
              "|[2017.0,39650.0,1...|\n",
              "|[2018.0,22909.0,1...|\n",
              "|[2017.0,138650.0,...|\n",
              "|[2013.0,100757.0,...|\n",
              "|[2017.0,25747.0,1...|\n",
              "|[2018.0,46194.0,1...|\n",
              "|[2018.0,20002.0,1...|\n",
              "|[2017.0,35714.0,1...|\n",
              "|[2013.0,54380.0,1...|\n",
              "+--------------------+\n",
              "only showing top 20 rows\n",
              "\n"
            ]
          },
          "metadata": {
            "application/vnd.databricks.v1+output": {
              "addedWidgets": {},
              "arguments": {},
              "data": "+--------------------+\n|      feature_vector|\n+--------------------+\n|[2008.0,274117.0,...|\n|[2011.0,190552.0,...|\n|[2018.0,39590.0,1...|\n|[2014.0,64146.0,1...|\n|[2018.0,6654.0,1....|\n|[2018.0,45561.0,1...|\n|[2010.0,149050.0,...|\n|[2017.0,23525.0,1...|\n|[2018.0,9371.0,1....|\n|[2017.0,63418.0,1...|\n|[2009.0,107856.0,...|\n|[2017.0,39650.0,1...|\n|[2018.0,22909.0,1...|\n|[2017.0,138650.0,...|\n|[2013.0,100757.0,...|\n|[2017.0,25747.0,1...|\n|[2018.0,46194.0,1...|\n|[2018.0,20002.0,1...|\n|[2017.0,35714.0,1...|\n|[2013.0,54380.0,1...|\n+--------------------+\nonly showing top 20 rows\n\n",
              "datasetInfos": [],
              "metadata": {},
              "removedWidgets": [],
              "type": "ansi"
            }
          },
          "output_type": "display_data"
        }
      ],
      "source": [
        "data_new.select('feature_vector').show()"
      ]
    },
    {
      "cell_type": "code",
      "execution_count": null,
      "metadata": {
        "application/vnd.databricks.v1+cell": {
          "cellMetadata": {},
          "inputWidgets": {},
          "nuid": "4bce0cf8-3754-4e8c-a7d3-9138f4194fdf",
          "showTitle": false,
          "title": ""
        },
        "id": "Vp--uBSJD4dg"
      },
      "outputs": [],
      "source": [
        "from pyspark.ml.regression import RandomForestRegressor\n",
        "rf_mod = RandomForestRegressor(featuresCol = 'feature_vector', labelCol = 'price')"
      ]
    },
    {
      "cell_type": "code",
      "execution_count": null,
      "metadata": {
        "application/vnd.databricks.v1+cell": {
          "cellMetadata": {},
          "inputWidgets": {},
          "nuid": "2304a01b-1538-4b0f-9030-4be8927d1bdc",
          "showTitle": false,
          "title": ""
        },
        "id": "2mso6vnjD4dh"
      },
      "outputs": [],
      "source": [
        "from pyspark.ml.tuning import ParamGridBuilder\n",
        "from pyspark.ml.evaluation import RegressionEvaluator\n",
        "pm = ParamGridBuilder().addGrid(rf_mod.numTrees,[100,1500]).build()"
      ]
    },
    {
      "cell_type": "code",
      "execution_count": null,
      "metadata": {
        "application/vnd.databricks.v1+cell": {
          "cellMetadata": {},
          "inputWidgets": {},
          "nuid": "110bc3d0-0fb5-4440-89c9-00548708f557",
          "showTitle": false,
          "title": ""
        },
        "id": "1J6zSIqqD4di"
      },
      "outputs": [],
      "source": [
        "# cross validation\n",
        "from pyspark.ml.tuning import CrossValidator\n",
        "cf = CrossValidator(estimator=rf_mod,estimatorParamMaps= pm,evaluator=RegressionEvaluator(labelCol=\"price\"),numFolds=3)"
      ]
    },
    {
      "cell_type": "code",
      "execution_count": null,
      "metadata": {
        "application/vnd.databricks.v1+cell": {
          "cellMetadata": {},
          "inputWidgets": {},
          "nuid": "af0ca31a-b352-4888-98e2-8f68f533cc13",
          "showTitle": false,
          "title": ""
        },
        "id": "dFOWwoV0D4di"
      },
      "outputs": [],
      "source": [
        "# splitting data\n",
        "tr_data, test_data = data_new.randomSplit([0.75,0.25],seed =100)"
      ]
    },
    {
      "cell_type": "code",
      "execution_count": null,
      "metadata": {
        "application/vnd.databricks.v1+cell": {
          "cellMetadata": {},
          "inputWidgets": {},
          "nuid": "b22a163c-76e5-48f9-8f12-4d42913ab48e",
          "showTitle": false,
          "title": ""
        },
        "id": "mznmochMD4dj",
        "outputId": "fc1ce1e7-339f-4053-92b9-c1be61f64168"
      },
      "outputs": [
        {
          "data": {
            "text/plain": [
              "+--------------------+\n",
              "|      feature_vector|\n",
              "+--------------------+\n",
              "|[2008.0,274117.0,...|\n",
              "|[2011.0,190552.0,...|\n",
              "|[2018.0,39590.0,1...|\n",
              "|[2018.0,6654.0,1....|\n",
              "|[2018.0,45561.0,1...|\n",
              "|[2010.0,149050.0,...|\n",
              "|[2017.0,23525.0,1...|\n",
              "|[2018.0,9371.0,1....|\n",
              "|[2017.0,63418.0,1...|\n",
              "|[2018.0,22909.0,1...|\n",
              "|[2017.0,138650.0,...|\n",
              "|[2017.0,25747.0,1...|\n",
              "|[2018.0,46194.0,1...|\n",
              "|[2018.0,20002.0,1...|\n",
              "|[2017.0,35714.0,1...|\n",
              "|[2013.0,54380.0,1...|\n",
              "|[2018.0,38823.0,1...|\n",
              "|[2015.0,61578.0,1...|\n",
              "|[2017.0,46010.0,1...|\n",
              "|[2013.0,105510.0,...|\n",
              "+--------------------+\n",
              "only showing top 20 rows\n",
              "\n"
            ]
          },
          "metadata": {
            "application/vnd.databricks.v1+output": {
              "addedWidgets": {},
              "arguments": {},
              "data": "+--------------------+\n|      feature_vector|\n+--------------------+\n|[2008.0,274117.0,...|\n|[2011.0,190552.0,...|\n|[2018.0,39590.0,1...|\n|[2018.0,6654.0,1....|\n|[2018.0,45561.0,1...|\n|[2010.0,149050.0,...|\n|[2017.0,23525.0,1...|\n|[2018.0,9371.0,1....|\n|[2017.0,63418.0,1...|\n|[2018.0,22909.0,1...|\n|[2017.0,138650.0,...|\n|[2017.0,25747.0,1...|\n|[2018.0,46194.0,1...|\n|[2018.0,20002.0,1...|\n|[2017.0,35714.0,1...|\n|[2013.0,54380.0,1...|\n|[2018.0,38823.0,1...|\n|[2015.0,61578.0,1...|\n|[2017.0,46010.0,1...|\n|[2013.0,105510.0,...|\n+--------------------+\nonly showing top 20 rows\n\n",
              "datasetInfos": [],
              "metadata": {},
              "removedWidgets": [],
              "type": "ansi"
            }
          },
          "output_type": "display_data"
        }
      ],
      "source": [
        "tr_data.select('feature_vector').show()"
      ]
    },
    {
      "cell_type": "code",
      "execution_count": null,
      "metadata": {
        "application/vnd.databricks.v1+cell": {
          "cellMetadata": {},
          "inputWidgets": {},
          "nuid": "8caba059-eb15-4adc-8981-95f45292a9c6",
          "showTitle": false,
          "title": ""
        },
        "id": "CWHX6vD2D4dk"
      },
      "outputs": [],
      "source": [
        "# training\n",
        "cvmod =cf.fit(tr_data)"
      ]
    },
    {
      "cell_type": "code",
      "execution_count": null,
      "metadata": {
        "application/vnd.databricks.v1+cell": {
          "cellMetadata": {},
          "inputWidgets": {},
          "nuid": "006d19e5-e5e4-43ca-96f5-3103e585722f",
          "showTitle": false,
          "title": ""
        },
        "id": "1QxcWd8DD4dl"
      },
      "outputs": [],
      "source": [
        "bestModel = cvmod.bestModel"
      ]
    },
    {
      "cell_type": "code",
      "execution_count": null,
      "metadata": {
        "application/vnd.databricks.v1+cell": {
          "cellMetadata": {},
          "inputWidgets": {},
          "nuid": "920c4a7f-9f13-489d-9fb5-e39a8e5d1bb3",
          "showTitle": false,
          "title": ""
        },
        "id": "VTETD9M5D4dn",
        "outputId": "b63ed8f6-cfa4-4350-8b9e-30a59ff90d04"
      },
      "outputs": [
        {
          "data": {
            "text/plain": [
              "Out[92]: RandomForestRegressionModel: uid=RandomForestRegressor_ad7af5b2699b, numTrees=1500, numFeatures=3"
            ]
          },
          "metadata": {
            "application/vnd.databricks.v1+output": {
              "addedWidgets": {},
              "arguments": {},
              "data": "Out[92]: RandomForestRegressionModel: uid=RandomForestRegressor_ad7af5b2699b, numTrees=1500, numFeatures=3",
              "datasetInfos": [],
              "metadata": {},
              "removedWidgets": [],
              "type": "ansi"
            }
          },
          "output_type": "display_data"
        }
      ],
      "source": [
        "bestModel"
      ]
    },
    {
      "cell_type": "code",
      "execution_count": null,
      "metadata": {
        "application/vnd.databricks.v1+cell": {
          "cellMetadata": {},
          "inputWidgets": {},
          "nuid": "a5258472-3cdb-4fa8-a360-6d0a73460840",
          "showTitle": false,
          "title": ""
        },
        "id": "b3vI-l6wD4do"
      },
      "outputs": [],
      "source": [
        "pred = cvmod.transform(test_data)"
      ]
    },
    {
      "cell_type": "code",
      "execution_count": null,
      "metadata": {
        "application/vnd.databricks.v1+cell": {
          "cellMetadata": {},
          "inputWidgets": {},
          "nuid": "7d4754db-47c8-4467-b096-e05759c138a2",
          "showTitle": false,
          "title": ""
        },
        "id": "dPcD6OsgD4do",
        "outputId": "4234f8a0-0f86-4948-9b81-c264383a3d55"
      },
      "outputs": [
        {
          "data": {
            "text/plain": [
              "+---+-----+-------------+-----------+----+-------------+--------+--------+-------------------+---------+--------------+-------+-------------+--------------------+------------------+\n",
              "|_c0|price|        brand|      model|year| title_status| mileage|   color|                vin|      lot|         state|country|    condition|      feature_vector|        prediction|\n",
              "+---+-----+-------------+-----------+----+-------------+--------+--------+-------------------+---------+--------------+-------+-------------+--------------------+------------------+\n",
              "|  3|25000|         ford|       door|2014|clean vehicle| 64146.0|    blue|  1ftfw1et4efc23745|167753855|      virginia|    usa|22 hours left|[2014.0,64146.0,1...| 16487.32455223293|\n",
              "| 10|10400|        dodge|      coupe|2009|clean vehicle|107856.0|  orange|  2b3lj54t49h509675|167753874|       georgia|    usa|22 hours left|[2009.0,107856.0,...| 7866.548908001573|\n",
              "| 11|12920|          gmc|        mpv|2017|clean vehicle| 39650.0|   white|  1gks2bkc6hr136280|167692496|    california|    usa|20 hours left|[2017.0,39650.0,1...|11055.986247847994|\n",
              "| 14|20700|         ford|       door|2013|clean vehicle|100757.0|   black|  1ftfw1et7dfa47790|167753916|      virginia|    usa|22 hours left|[2013.0,100757.0,...| 9978.177624722264|\n",
              "| 20|12520|          gmc|       door|2017|clean vehicle| 30114.0|   white|  1gks2gkcxhr328380|167692498|    california|    usa|20 hours left|[2017.0,30114.0,1...|12871.046669579215|\n",
              "| 25|11900|          gmc|       door|2017|clean vehicle| 28040.0|  silver|  1gks2gkc2hr327918|167692503|    california|    usa|20 hours left|[2017.0,28040.0,1...|13654.261506146186|\n",
              "| 29|13000|         ford|    chassis|2008|clean vehicle| 93698.0|   white|  1fdwf37r28eb95687|167754098|     tennessee|    usa|22 hours left|[2008.0,93698.0,1...| 8092.313044244285|\n",
              "| 34|13000|         ford|convertible|2003|clean vehicle| 58817.0|    gray|  1fahp60a63y107799|167754173|      virginia|    usa|22 hours left|[2003.0,58817.0,1...| 15776.98636342329|\n",
              "| 35|11900|          gmc|       door|2017|clean vehicle| 27965.0|   black|  1gks2gkc2hr328793|167692507|    california|    usa|20 hours left|[2017.0,27965.0,1...|13654.261506146186|\n",
              "| 37|19200|    chevrolet|       1500|2018|clean vehicle|  2430.0|   white|  1gcncneh5jz302471|167763391|     tennessee|    usa|22 hours left|[2018.0,2430.0,1....|27451.185641050106|\n",
              "| 38| 7320|         ford|        mpv|2017|clean vehicle| 32366.0|    gold|  2fmpk4k96hbb16692|167656128|         texas|    usa|  2 days left|[2017.0,32366.0,1...| 14934.87209316283|\n",
              "| 40|12710|          gmc|       door|2017|clean vehicle| 30049.0|   white|  1gks2gkc6hr325461|167692508|    california|    usa|20 hours left|[2017.0,30049.0,1...|12871.046669579215|\n",
              "| 41|16600|mercedes-benz|       vans|2016|clean vehicle| 97983.0|   white|  wd4pe7dd1gp253504|167802269|      new york|    usa|19 hours left|[2016.0,97983.0,1...| 14533.55297887039|\n",
              "| 48| 5580|        dodge|        mpv|2017|clean vehicle| 46829.0|    gray|  3c4pddeg7ht595704|167656130|         texas|    usa|  2 days left|[2017.0,46829.0,1...|14133.537496562158|\n",
              "| 52|27000|        buick|    enclave|2017|clean vehicle| 32107.0|no_color|  5gakrckdxhj113512|167763677|     tennessee|    usa|22 hours left|[2017.0,32107.0,1...|22570.061519269282|\n",
              "| 58|23000|     chrysler|   pacifica|2020|clean vehicle|  2473.0|   white|  2c4rc1fg5lr143335|167656205|          ohio|    usa|  2 days left|[2020.0,2473.0,1....| 25070.14459340466|\n",
              "| 59|18500|     chrysler|        300|2019|clean vehicle| 38586.0|    gray|  2c3ccaeg5kh585628|167754410|south carolina|    usa|22 hours left|[2019.0,38586.0,1...| 23603.59587087614|\n",
              "| 65|12710|          gmc|       door|2017|clean vehicle| 32504.0|  silver|  1gks2gkc6hr327937|167692524|    california|    usa|20 hours left|[2017.0,32504.0,1...|11240.802990697883|\n",
              "| 66|21100|         jeep|   cherokee|2019|clean vehicle| 28649.0|  silver|  1c4pjmbx6kd298174|167802534|north carolina|    usa|  2 days left|[2019.0,28649.0,1...| 20285.94192635536|\n",
              "| 69|19300|     chrysler|        300|2019|clean vehicle| 34801.0|    gray|  2c3ccakg4kh594972|167754413|south carolina|    usa|22 hours left|[2019.0,34801.0,1...|23676.967630620475|\n",
              "+---+-----+-------------+-----------+----+-------------+--------+--------+-------------------+---------+--------------+-------+-------------+--------------------+------------------+\n",
              "only showing top 20 rows\n",
              "\n"
            ]
          },
          "metadata": {
            "application/vnd.databricks.v1+output": {
              "addedWidgets": {},
              "arguments": {},
              "data": "+---+-----+-------------+-----------+----+-------------+--------+--------+-------------------+---------+--------------+-------+-------------+--------------------+------------------+\n|_c0|price|        brand|      model|year| title_status| mileage|   color|                vin|      lot|         state|country|    condition|      feature_vector|        prediction|\n+---+-----+-------------+-----------+----+-------------+--------+--------+-------------------+---------+--------------+-------+-------------+--------------------+------------------+\n|  3|25000|         ford|       door|2014|clean vehicle| 64146.0|    blue|  1ftfw1et4efc23745|167753855|      virginia|    usa|22 hours left|[2014.0,64146.0,1...| 16487.32455223293|\n| 10|10400|        dodge|      coupe|2009|clean vehicle|107856.0|  orange|  2b3lj54t49h509675|167753874|       georgia|    usa|22 hours left|[2009.0,107856.0,...| 7866.548908001573|\n| 11|12920|          gmc|        mpv|2017|clean vehicle| 39650.0|   white|  1gks2bkc6hr136280|167692496|    california|    usa|20 hours left|[2017.0,39650.0,1...|11055.986247847994|\n| 14|20700|         ford|       door|2013|clean vehicle|100757.0|   black|  1ftfw1et7dfa47790|167753916|      virginia|    usa|22 hours left|[2013.0,100757.0,...| 9978.177624722264|\n| 20|12520|          gmc|       door|2017|clean vehicle| 30114.0|   white|  1gks2gkcxhr328380|167692498|    california|    usa|20 hours left|[2017.0,30114.0,1...|12871.046669579215|\n| 25|11900|          gmc|       door|2017|clean vehicle| 28040.0|  silver|  1gks2gkc2hr327918|167692503|    california|    usa|20 hours left|[2017.0,28040.0,1...|13654.261506146186|\n| 29|13000|         ford|    chassis|2008|clean vehicle| 93698.0|   white|  1fdwf37r28eb95687|167754098|     tennessee|    usa|22 hours left|[2008.0,93698.0,1...| 8092.313044244285|\n| 34|13000|         ford|convertible|2003|clean vehicle| 58817.0|    gray|  1fahp60a63y107799|167754173|      virginia|    usa|22 hours left|[2003.0,58817.0,1...| 15776.98636342329|\n| 35|11900|          gmc|       door|2017|clean vehicle| 27965.0|   black|  1gks2gkc2hr328793|167692507|    california|    usa|20 hours left|[2017.0,27965.0,1...|13654.261506146186|\n| 37|19200|    chevrolet|       1500|2018|clean vehicle|  2430.0|   white|  1gcncneh5jz302471|167763391|     tennessee|    usa|22 hours left|[2018.0,2430.0,1....|27451.185641050106|\n| 38| 7320|         ford|        mpv|2017|clean vehicle| 32366.0|    gold|  2fmpk4k96hbb16692|167656128|         texas|    usa|  2 days left|[2017.0,32366.0,1...| 14934.87209316283|\n| 40|12710|          gmc|       door|2017|clean vehicle| 30049.0|   white|  1gks2gkc6hr325461|167692508|    california|    usa|20 hours left|[2017.0,30049.0,1...|12871.046669579215|\n| 41|16600|mercedes-benz|       vans|2016|clean vehicle| 97983.0|   white|  wd4pe7dd1gp253504|167802269|      new york|    usa|19 hours left|[2016.0,97983.0,1...| 14533.55297887039|\n| 48| 5580|        dodge|        mpv|2017|clean vehicle| 46829.0|    gray|  3c4pddeg7ht595704|167656130|         texas|    usa|  2 days left|[2017.0,46829.0,1...|14133.537496562158|\n| 52|27000|        buick|    enclave|2017|clean vehicle| 32107.0|no_color|  5gakrckdxhj113512|167763677|     tennessee|    usa|22 hours left|[2017.0,32107.0,1...|22570.061519269282|\n| 58|23000|     chrysler|   pacifica|2020|clean vehicle|  2473.0|   white|  2c4rc1fg5lr143335|167656205|          ohio|    usa|  2 days left|[2020.0,2473.0,1....| 25070.14459340466|\n| 59|18500|     chrysler|        300|2019|clean vehicle| 38586.0|    gray|  2c3ccaeg5kh585628|167754410|south carolina|    usa|22 hours left|[2019.0,38586.0,1...| 23603.59587087614|\n| 65|12710|          gmc|       door|2017|clean vehicle| 32504.0|  silver|  1gks2gkc6hr327937|167692524|    california|    usa|20 hours left|[2017.0,32504.0,1...|11240.802990697883|\n| 66|21100|         jeep|   cherokee|2019|clean vehicle| 28649.0|  silver|  1c4pjmbx6kd298174|167802534|north carolina|    usa|  2 days left|[2019.0,28649.0,1...| 20285.94192635536|\n| 69|19300|     chrysler|        300|2019|clean vehicle| 34801.0|    gray|  2c3ccakg4kh594972|167754413|south carolina|    usa|22 hours left|[2019.0,34801.0,1...|23676.967630620475|\n+---+-----+-------------+-----------+----+-------------+--------+--------+-------------------+---------+--------------+-------+-------------+--------------------+------------------+\nonly showing top 20 rows\n\n",
              "datasetInfos": [],
              "metadata": {},
              "removedWidgets": [],
              "type": "ansi"
            }
          },
          "output_type": "display_data"
        }
      ],
      "source": [
        "pred.show()"
      ]
    },
    {
      "cell_type": "code",
      "execution_count": null,
      "metadata": {
        "application/vnd.databricks.v1+cell": {
          "cellMetadata": {},
          "inputWidgets": {},
          "nuid": "de903afd-a268-4f06-bd69-e2f27e3b6985",
          "showTitle": false,
          "title": ""
        },
        "id": "cT1JCtqAD4dp"
      },
      "outputs": [],
      "source": [
        "pred_mod = pred.select('price','prediction')"
      ]
    },
    {
      "cell_type": "code",
      "execution_count": null,
      "metadata": {
        "application/vnd.databricks.v1+cell": {
          "cellMetadata": {},
          "inputWidgets": {},
          "nuid": "c984e801-83cd-4fd0-b4d1-e767b54ba7d0",
          "showTitle": false,
          "title": ""
        },
        "id": "-MbCPfoWD4dq",
        "outputId": "28e35481-ba9a-48ab-9e97-adc9fefdff99"
      },
      "outputs": [
        {
          "data": {
            "text/plain": [
              "+-----+------------------+\n",
              "|price|        prediction|\n",
              "+-----+------------------+\n",
              "|25000| 16487.32455223293|\n",
              "|10400| 7866.548908001573|\n",
              "|12920|11055.986247847994|\n",
              "|20700| 9978.177624722264|\n",
              "|12520|12871.046669579215|\n",
              "|11900|13654.261506146186|\n",
              "|13000| 8092.313044244285|\n",
              "|13000| 15776.98636342329|\n",
              "|11900|13654.261506146186|\n",
              "|19200|27451.185641050106|\n",
              "| 7320| 14934.87209316283|\n",
              "|12710|12871.046669579215|\n",
              "|16600| 14533.55297887039|\n",
              "| 5580|14133.537496562158|\n",
              "|27000|22570.061519269282|\n",
              "|23000| 25070.14459340466|\n",
              "|18500| 23603.59587087614|\n",
              "|12710|11240.802990697883|\n",
              "|21100| 20285.94192635536|\n",
              "|19300|23676.967630620475|\n",
              "+-----+------------------+\n",
              "only showing top 20 rows\n",
              "\n"
            ]
          },
          "metadata": {
            "application/vnd.databricks.v1+output": {
              "addedWidgets": {},
              "arguments": {},
              "data": "+-----+------------------+\n|price|        prediction|\n+-----+------------------+\n|25000| 16487.32455223293|\n|10400| 7866.548908001573|\n|12920|11055.986247847994|\n|20700| 9978.177624722264|\n|12520|12871.046669579215|\n|11900|13654.261506146186|\n|13000| 8092.313044244285|\n|13000| 15776.98636342329|\n|11900|13654.261506146186|\n|19200|27451.185641050106|\n| 7320| 14934.87209316283|\n|12710|12871.046669579215|\n|16600| 14533.55297887039|\n| 5580|14133.537496562158|\n|27000|22570.061519269282|\n|23000| 25070.14459340466|\n|18500| 23603.59587087614|\n|12710|11240.802990697883|\n|21100| 20285.94192635536|\n|19300|23676.967630620475|\n+-----+------------------+\nonly showing top 20 rows\n\n",
              "datasetInfos": [],
              "metadata": {},
              "removedWidgets": [],
              "type": "ansi"
            }
          },
          "output_type": "display_data"
        }
      ],
      "source": [
        "pred_mod.show()"
      ]
    },
    {
      "cell_type": "code",
      "execution_count": null,
      "metadata": {
        "application/vnd.databricks.v1+cell": {
          "cellMetadata": {},
          "inputWidgets": {},
          "nuid": "1375e159-0b59-4341-9f62-e4f0d1d653e3",
          "showTitle": false,
          "title": ""
        },
        "id": "diEhJNFrD4dq"
      },
      "outputs": [],
      "source": [
        "pred = pred.withColumnRenamed('price','label')"
      ]
    },
    {
      "cell_type": "code",
      "execution_count": null,
      "metadata": {
        "application/vnd.databricks.v1+cell": {
          "cellMetadata": {},
          "inputWidgets": {},
          "nuid": "4de6c7d7-db82-4bac-bcd5-e4f9ddee4eac",
          "showTitle": false,
          "title": ""
        },
        "id": "Slz9yotsD4dr",
        "outputId": "78f3c16a-6b77-42e0-9f6d-971d87fa8d9e"
      },
      "outputs": [
        {
          "data": {
            "text/plain": [
              "+---+-----+-------------+-----------+----+-------------+--------+--------+-------------------+---------+--------------+-------+-------------+--------------------+------------------+\n",
              "|_c0|label|        brand|      model|year| title_status| mileage|   color|                vin|      lot|         state|country|    condition|      feature_vector|        prediction|\n",
              "+---+-----+-------------+-----------+----+-------------+--------+--------+-------------------+---------+--------------+-------+-------------+--------------------+------------------+\n",
              "|  3|25000|         ford|       door|2014|clean vehicle| 64146.0|    blue|  1ftfw1et4efc23745|167753855|      virginia|    usa|22 hours left|[2014.0,64146.0,1...| 16487.32455223293|\n",
              "| 10|10400|        dodge|      coupe|2009|clean vehicle|107856.0|  orange|  2b3lj54t49h509675|167753874|       georgia|    usa|22 hours left|[2009.0,107856.0,...| 7866.548908001573|\n",
              "| 11|12920|          gmc|        mpv|2017|clean vehicle| 39650.0|   white|  1gks2bkc6hr136280|167692496|    california|    usa|20 hours left|[2017.0,39650.0,1...|11055.986247847994|\n",
              "| 14|20700|         ford|       door|2013|clean vehicle|100757.0|   black|  1ftfw1et7dfa47790|167753916|      virginia|    usa|22 hours left|[2013.0,100757.0,...| 9978.177624722264|\n",
              "| 20|12520|          gmc|       door|2017|clean vehicle| 30114.0|   white|  1gks2gkcxhr328380|167692498|    california|    usa|20 hours left|[2017.0,30114.0,1...|12871.046669579215|\n",
              "| 25|11900|          gmc|       door|2017|clean vehicle| 28040.0|  silver|  1gks2gkc2hr327918|167692503|    california|    usa|20 hours left|[2017.0,28040.0,1...|13654.261506146186|\n",
              "| 29|13000|         ford|    chassis|2008|clean vehicle| 93698.0|   white|  1fdwf37r28eb95687|167754098|     tennessee|    usa|22 hours left|[2008.0,93698.0,1...| 8092.313044244285|\n",
              "| 34|13000|         ford|convertible|2003|clean vehicle| 58817.0|    gray|  1fahp60a63y107799|167754173|      virginia|    usa|22 hours left|[2003.0,58817.0,1...| 15776.98636342329|\n",
              "| 35|11900|          gmc|       door|2017|clean vehicle| 27965.0|   black|  1gks2gkc2hr328793|167692507|    california|    usa|20 hours left|[2017.0,27965.0,1...|13654.261506146186|\n",
              "| 37|19200|    chevrolet|       1500|2018|clean vehicle|  2430.0|   white|  1gcncneh5jz302471|167763391|     tennessee|    usa|22 hours left|[2018.0,2430.0,1....|27451.185641050106|\n",
              "| 38| 7320|         ford|        mpv|2017|clean vehicle| 32366.0|    gold|  2fmpk4k96hbb16692|167656128|         texas|    usa|  2 days left|[2017.0,32366.0,1...| 14934.87209316283|\n",
              "| 40|12710|          gmc|       door|2017|clean vehicle| 30049.0|   white|  1gks2gkc6hr325461|167692508|    california|    usa|20 hours left|[2017.0,30049.0,1...|12871.046669579215|\n",
              "| 41|16600|mercedes-benz|       vans|2016|clean vehicle| 97983.0|   white|  wd4pe7dd1gp253504|167802269|      new york|    usa|19 hours left|[2016.0,97983.0,1...| 14533.55297887039|\n",
              "| 48| 5580|        dodge|        mpv|2017|clean vehicle| 46829.0|    gray|  3c4pddeg7ht595704|167656130|         texas|    usa|  2 days left|[2017.0,46829.0,1...|14133.537496562158|\n",
              "| 52|27000|        buick|    enclave|2017|clean vehicle| 32107.0|no_color|  5gakrckdxhj113512|167763677|     tennessee|    usa|22 hours left|[2017.0,32107.0,1...|22570.061519269282|\n",
              "| 58|23000|     chrysler|   pacifica|2020|clean vehicle|  2473.0|   white|  2c4rc1fg5lr143335|167656205|          ohio|    usa|  2 days left|[2020.0,2473.0,1....| 25070.14459340466|\n",
              "| 59|18500|     chrysler|        300|2019|clean vehicle| 38586.0|    gray|  2c3ccaeg5kh585628|167754410|south carolina|    usa|22 hours left|[2019.0,38586.0,1...| 23603.59587087614|\n",
              "| 65|12710|          gmc|       door|2017|clean vehicle| 32504.0|  silver|  1gks2gkc6hr327937|167692524|    california|    usa|20 hours left|[2017.0,32504.0,1...|11240.802990697883|\n",
              "| 66|21100|         jeep|   cherokee|2019|clean vehicle| 28649.0|  silver|  1c4pjmbx6kd298174|167802534|north carolina|    usa|  2 days left|[2019.0,28649.0,1...| 20285.94192635536|\n",
              "| 69|19300|     chrysler|        300|2019|clean vehicle| 34801.0|    gray|  2c3ccakg4kh594972|167754413|south carolina|    usa|22 hours left|[2019.0,34801.0,1...|23676.967630620475|\n",
              "+---+-----+-------------+-----------+----+-------------+--------+--------+-------------------+---------+--------------+-------+-------------+--------------------+------------------+\n",
              "only showing top 20 rows\n",
              "\n"
            ]
          },
          "metadata": {
            "application/vnd.databricks.v1+output": {
              "addedWidgets": {},
              "arguments": {},
              "data": "+---+-----+-------------+-----------+----+-------------+--------+--------+-------------------+---------+--------------+-------+-------------+--------------------+------------------+\n|_c0|label|        brand|      model|year| title_status| mileage|   color|                vin|      lot|         state|country|    condition|      feature_vector|        prediction|\n+---+-----+-------------+-----------+----+-------------+--------+--------+-------------------+---------+--------------+-------+-------------+--------------------+------------------+\n|  3|25000|         ford|       door|2014|clean vehicle| 64146.0|    blue|  1ftfw1et4efc23745|167753855|      virginia|    usa|22 hours left|[2014.0,64146.0,1...| 16487.32455223293|\n| 10|10400|        dodge|      coupe|2009|clean vehicle|107856.0|  orange|  2b3lj54t49h509675|167753874|       georgia|    usa|22 hours left|[2009.0,107856.0,...| 7866.548908001573|\n| 11|12920|          gmc|        mpv|2017|clean vehicle| 39650.0|   white|  1gks2bkc6hr136280|167692496|    california|    usa|20 hours left|[2017.0,39650.0,1...|11055.986247847994|\n| 14|20700|         ford|       door|2013|clean vehicle|100757.0|   black|  1ftfw1et7dfa47790|167753916|      virginia|    usa|22 hours left|[2013.0,100757.0,...| 9978.177624722264|\n| 20|12520|          gmc|       door|2017|clean vehicle| 30114.0|   white|  1gks2gkcxhr328380|167692498|    california|    usa|20 hours left|[2017.0,30114.0,1...|12871.046669579215|\n| 25|11900|          gmc|       door|2017|clean vehicle| 28040.0|  silver|  1gks2gkc2hr327918|167692503|    california|    usa|20 hours left|[2017.0,28040.0,1...|13654.261506146186|\n| 29|13000|         ford|    chassis|2008|clean vehicle| 93698.0|   white|  1fdwf37r28eb95687|167754098|     tennessee|    usa|22 hours left|[2008.0,93698.0,1...| 8092.313044244285|\n| 34|13000|         ford|convertible|2003|clean vehicle| 58817.0|    gray|  1fahp60a63y107799|167754173|      virginia|    usa|22 hours left|[2003.0,58817.0,1...| 15776.98636342329|\n| 35|11900|          gmc|       door|2017|clean vehicle| 27965.0|   black|  1gks2gkc2hr328793|167692507|    california|    usa|20 hours left|[2017.0,27965.0,1...|13654.261506146186|\n| 37|19200|    chevrolet|       1500|2018|clean vehicle|  2430.0|   white|  1gcncneh5jz302471|167763391|     tennessee|    usa|22 hours left|[2018.0,2430.0,1....|27451.185641050106|\n| 38| 7320|         ford|        mpv|2017|clean vehicle| 32366.0|    gold|  2fmpk4k96hbb16692|167656128|         texas|    usa|  2 days left|[2017.0,32366.0,1...| 14934.87209316283|\n| 40|12710|          gmc|       door|2017|clean vehicle| 30049.0|   white|  1gks2gkc6hr325461|167692508|    california|    usa|20 hours left|[2017.0,30049.0,1...|12871.046669579215|\n| 41|16600|mercedes-benz|       vans|2016|clean vehicle| 97983.0|   white|  wd4pe7dd1gp253504|167802269|      new york|    usa|19 hours left|[2016.0,97983.0,1...| 14533.55297887039|\n| 48| 5580|        dodge|        mpv|2017|clean vehicle| 46829.0|    gray|  3c4pddeg7ht595704|167656130|         texas|    usa|  2 days left|[2017.0,46829.0,1...|14133.537496562158|\n| 52|27000|        buick|    enclave|2017|clean vehicle| 32107.0|no_color|  5gakrckdxhj113512|167763677|     tennessee|    usa|22 hours left|[2017.0,32107.0,1...|22570.061519269282|\n| 58|23000|     chrysler|   pacifica|2020|clean vehicle|  2473.0|   white|  2c4rc1fg5lr143335|167656205|          ohio|    usa|  2 days left|[2020.0,2473.0,1....| 25070.14459340466|\n| 59|18500|     chrysler|        300|2019|clean vehicle| 38586.0|    gray|  2c3ccaeg5kh585628|167754410|south carolina|    usa|22 hours left|[2019.0,38586.0,1...| 23603.59587087614|\n| 65|12710|          gmc|       door|2017|clean vehicle| 32504.0|  silver|  1gks2gkc6hr327937|167692524|    california|    usa|20 hours left|[2017.0,32504.0,1...|11240.802990697883|\n| 66|21100|         jeep|   cherokee|2019|clean vehicle| 28649.0|  silver|  1c4pjmbx6kd298174|167802534|north carolina|    usa|  2 days left|[2019.0,28649.0,1...| 20285.94192635536|\n| 69|19300|     chrysler|        300|2019|clean vehicle| 34801.0|    gray|  2c3ccakg4kh594972|167754413|south carolina|    usa|22 hours left|[2019.0,34801.0,1...|23676.967630620475|\n+---+-----+-------------+-----------+----+-------------+--------+--------+-------------------+---------+--------------+-------+-------------+--------------------+------------------+\nonly showing top 20 rows\n\n",
              "datasetInfos": [],
              "metadata": {},
              "removedWidgets": [],
              "type": "ansi"
            }
          },
          "output_type": "display_data"
        }
      ],
      "source": [
        "pred.show()"
      ]
    },
    {
      "cell_type": "code",
      "execution_count": null,
      "metadata": {
        "application/vnd.databricks.v1+cell": {
          "cellMetadata": {},
          "inputWidgets": {},
          "nuid": "782697fb-9fd6-4120-b6da-41e4206720db",
          "showTitle": false,
          "title": ""
        },
        "id": "Ni2qDJKhD4ds"
      },
      "outputs": [],
      "source": [
        "evaluator = RegressionEvaluator()\n",
        "eval_score = evaluator.evaluate(pred,{evaluator.metricName:'r2'})"
      ]
    },
    {
      "cell_type": "code",
      "execution_count": null,
      "metadata": {
        "application/vnd.databricks.v1+cell": {
          "cellMetadata": {},
          "inputWidgets": {},
          "nuid": "b77a96b7-4d3a-48a3-bf68-c75547d49ac3",
          "showTitle": false,
          "title": ""
        },
        "id": "u3bEWglGD4ds",
        "outputId": "b3ac088e-4a3c-4983-cdd2-a751cc5adff0"
      },
      "outputs": [
        {
          "data": {
            "text/plain": [
              "Out[90]: 0.36146040916119515"
            ]
          },
          "metadata": {
            "application/vnd.databricks.v1+output": {
              "addedWidgets": {},
              "arguments": {},
              "data": "Out[90]: 0.36146040916119515",
              "datasetInfos": [],
              "metadata": {},
              "removedWidgets": [],
              "type": "ansi"
            }
          },
          "output_type": "display_data"
        }
      ],
      "source": [
        "eval_score"
      ]
    },
    {
      "cell_type": "code",
      "execution_count": null,
      "metadata": {
        "application/vnd.databricks.v1+cell": {
          "cellMetadata": {},
          "inputWidgets": {},
          "nuid": "63850ca2-a042-4a5c-a3ee-7f534008780d",
          "showTitle": false,
          "title": ""
        },
        "id": "hjnN4_1WD4dt"
      },
      "outputs": [],
      "source": [
        "# Encoding the data \n",
        "from pyspark.ml.feature import OneHotEncoder, StringIndexer"
      ]
    },
    {
      "cell_type": "code",
      "execution_count": null,
      "metadata": {
        "application/vnd.databricks.v1+cell": {
          "cellMetadata": {},
          "inputWidgets": {},
          "nuid": "fefe25b1-334b-4ca3-8d05-1fe21deed580",
          "showTitle": false,
          "title": ""
        },
        "id": "wgeZ09F_D4du"
      },
      "outputs": [],
      "source": [
        "string_index = StringIndexer(inputCols = ['brand', 'model', 'color', 'state', ], outputCols = ['brand_idx', 'model_idx','color_idx','state_idx'])\n"
      ]
    },
    {
      "cell_type": "code",
      "execution_count": null,
      "metadata": {
        "application/vnd.databricks.v1+cell": {
          "cellMetadata": {},
          "inputWidgets": {},
          "nuid": "b4b4fbde-5308-4108-af24-a3cfccf233da",
          "showTitle": false,
          "title": ""
        },
        "id": "VQWIh_5MD4du"
      },
      "outputs": [],
      "source": [
        "data1 = string_index.fit(data).transform(data)"
      ]
    },
    {
      "cell_type": "code",
      "execution_count": null,
      "metadata": {
        "application/vnd.databricks.v1+cell": {
          "cellMetadata": {},
          "inputWidgets": {},
          "nuid": "98443759-f8ae-472f-86b6-b68c4af19366",
          "showTitle": false,
          "title": ""
        },
        "id": "FpOJZvF1D4dv",
        "outputId": "84b43cb3-c9a9-4c96-cab2-a2519700b031"
      },
      "outputs": [
        {
          "data": {
            "text/plain": [
              "+---+-----+---------+-------+----+-------------+--------+------+-------------------+---------+--------------+-------+-------------+---------+---------+---------+---------+\n",
              "|_c0|price|    brand|  model|year| title_status| mileage| color|                vin|      lot|         state|country|    condition|brand_idx|model_idx|color_idx|state_idx|\n",
              "+---+-----+---------+-------+----+-------------+--------+------+-------------------+---------+--------------+-------+-------------+---------+---------+---------+---------+\n",
              "|  0| 6300|   toyota|cruiser|2008|clean vehicle|274117.0| black|  jtezu11f88k007763|159348797|    new jersey|    usa| 10 days left|     27.0|     89.0|      1.0|     10.0|\n",
              "|  1| 2899|     ford|     se|2011|clean vehicle|190552.0|silver|  2fmdk3gc4bbb02217|166951262|     tennessee|    usa|  6 days left|      0.0|    113.0|      3.0|     21.0|\n",
              "|  2| 5350|    dodge|    mpv|2018|clean vehicle| 39590.0|silver|  3c4pdcgg5jt346413|167655728|       georgia|    usa|  2 days left|      1.0|      4.0|      3.0|     15.0|\n",
              "|  3|25000|     ford|   door|2014|clean vehicle| 64146.0|  blue|  1ftfw1et4efc23745|167753855|      virginia|    usa|22 hours left|      0.0|      0.0|      5.0|      9.0|\n",
              "|  4|27700|chevrolet|   1500|2018|clean vehicle|  6654.0|   red|  3gcpcrec2jg473991|167763266|       florida|    usa|22 hours left|      3.0|     15.0|      4.0|      1.0|\n",
              "|  5| 5700|    dodge|    mpv|2018|clean vehicle| 45561.0| white|  2c4rdgeg9jr237989|167655771|         texas|    usa|  2 days left|      1.0|      4.0|      0.0|      2.0|\n",
              "|  6| 7300|chevrolet|     pk|2010|clean vehicle|149050.0| black|  1gcsksea1az121133|167753872|       georgia|    usa|22 hours left|      3.0|     54.0|      1.0|     15.0|\n",
              "|  7|13350|      gmc|   door|2017|clean vehicle| 23525.0|  gray|  1gks2gkc3hr326762|167692494|    california|    usa|20 hours left|      4.0|      0.0|      2.0|      3.0|\n",
              "|  8|14600|chevrolet| malibu|2018|clean vehicle|  9371.0|silver|  1g1zd5st5jf191860|167763267|       florida|    usa|22 hours left|      3.0|     36.0|      3.0|      1.0|\n",
              "|  9| 5250|     ford|    mpv|2017|clean vehicle| 63418.0| black|  2fmpk3j92hbc12542|167656121|         texas|    usa|  2 days left|      0.0|      4.0|      1.0|      2.0|\n",
              "| 10|10400|    dodge|  coupe|2009|clean vehicle|107856.0|orange|  2b3lj54t49h509675|167753874|       georgia|    usa|22 hours left|      1.0|     49.0|      8.0|     15.0|\n",
              "| 11|12920|      gmc|    mpv|2017|clean vehicle| 39650.0| white|  1gks2bkc6hr136280|167692496|    california|    usa|20 hours left|      4.0|      4.0|      0.0|      3.0|\n",
              "| 12|31900|chevrolet|   1500|2018|clean vehicle| 22909.0| black|  3gcukrec0jg176059|167763273|     tennessee|    usa|22 hours left|      3.0|     15.0|      1.0|     21.0|\n",
              "| 13| 5430| chrysler|  wagon|2017|clean vehicle|138650.0|  gray|  2c4rc1cg5hr616095|167656123|         texas|    usa|  2 days left|      6.0|     22.0|      2.0|      2.0|\n",
              "| 14|20700|     ford|   door|2013|clean vehicle|100757.0| black|  1ftfw1et7dfa47790|167753916|      virginia|    usa|22 hours left|      0.0|      0.0|      1.0|      9.0|\n",
              "| 15|12710|      gmc|   door|2017|clean vehicle| 25747.0| white|  1gks2gkc6hr328389|167692497|    california|    usa|20 hours left|      4.0|      0.0|      0.0|      3.0|\n",
              "| 16| 5200|      kia|  forte|2018|clean vehicle| 46194.0|  blue|  3kpfk4a77je198723|167801757|north carolina|    usa|  2 days left|     10.0|     77.0|      5.0|      5.0|\n",
              "| 17|16500|    buick| encore|2018|clean vehicle| 20002.0|   red|  kl4cj1sb6jb688844|167763275|     tennessee|    usa|22 hours left|      9.0|     65.0|      4.0|     21.0|\n",
              "| 18| 5210|     ford|    mpv|2017|clean vehicle| 35714.0| white|  2fmpk3j95hbb73607|167656124|         texas|    usa|  2 days left|      0.0|      4.0|      0.0|      2.0|\n",
              "| 19|38100|     ford|   door|2013|clean vehicle| 54380.0|  gray|  1ft8w3dt5deb68569|167753923|      virginia|    usa|22 hours left|      0.0|      0.0|      2.0|      9.0|\n",
              "+---+-----+---------+-------+----+-------------+--------+------+-------------------+---------+--------------+-------+-------------+---------+---------+---------+---------+\n",
              "only showing top 20 rows\n",
              "\n"
            ]
          },
          "metadata": {
            "application/vnd.databricks.v1+output": {
              "addedWidgets": {},
              "arguments": {},
              "data": "+---+-----+---------+-------+----+-------------+--------+------+-------------------+---------+--------------+-------+-------------+---------+---------+---------+---------+\n|_c0|price|    brand|  model|year| title_status| mileage| color|                vin|      lot|         state|country|    condition|brand_idx|model_idx|color_idx|state_idx|\n+---+-----+---------+-------+----+-------------+--------+------+-------------------+---------+--------------+-------+-------------+---------+---------+---------+---------+\n|  0| 6300|   toyota|cruiser|2008|clean vehicle|274117.0| black|  jtezu11f88k007763|159348797|    new jersey|    usa| 10 days left|     27.0|     89.0|      1.0|     10.0|\n|  1| 2899|     ford|     se|2011|clean vehicle|190552.0|silver|  2fmdk3gc4bbb02217|166951262|     tennessee|    usa|  6 days left|      0.0|    113.0|      3.0|     21.0|\n|  2| 5350|    dodge|    mpv|2018|clean vehicle| 39590.0|silver|  3c4pdcgg5jt346413|167655728|       georgia|    usa|  2 days left|      1.0|      4.0|      3.0|     15.0|\n|  3|25000|     ford|   door|2014|clean vehicle| 64146.0|  blue|  1ftfw1et4efc23745|167753855|      virginia|    usa|22 hours left|      0.0|      0.0|      5.0|      9.0|\n|  4|27700|chevrolet|   1500|2018|clean vehicle|  6654.0|   red|  3gcpcrec2jg473991|167763266|       florida|    usa|22 hours left|      3.0|     15.0|      4.0|      1.0|\n|  5| 5700|    dodge|    mpv|2018|clean vehicle| 45561.0| white|  2c4rdgeg9jr237989|167655771|         texas|    usa|  2 days left|      1.0|      4.0|      0.0|      2.0|\n|  6| 7300|chevrolet|     pk|2010|clean vehicle|149050.0| black|  1gcsksea1az121133|167753872|       georgia|    usa|22 hours left|      3.0|     54.0|      1.0|     15.0|\n|  7|13350|      gmc|   door|2017|clean vehicle| 23525.0|  gray|  1gks2gkc3hr326762|167692494|    california|    usa|20 hours left|      4.0|      0.0|      2.0|      3.0|\n|  8|14600|chevrolet| malibu|2018|clean vehicle|  9371.0|silver|  1g1zd5st5jf191860|167763267|       florida|    usa|22 hours left|      3.0|     36.0|      3.0|      1.0|\n|  9| 5250|     ford|    mpv|2017|clean vehicle| 63418.0| black|  2fmpk3j92hbc12542|167656121|         texas|    usa|  2 days left|      0.0|      4.0|      1.0|      2.0|\n| 10|10400|    dodge|  coupe|2009|clean vehicle|107856.0|orange|  2b3lj54t49h509675|167753874|       georgia|    usa|22 hours left|      1.0|     49.0|      8.0|     15.0|\n| 11|12920|      gmc|    mpv|2017|clean vehicle| 39650.0| white|  1gks2bkc6hr136280|167692496|    california|    usa|20 hours left|      4.0|      4.0|      0.0|      3.0|\n| 12|31900|chevrolet|   1500|2018|clean vehicle| 22909.0| black|  3gcukrec0jg176059|167763273|     tennessee|    usa|22 hours left|      3.0|     15.0|      1.0|     21.0|\n| 13| 5430| chrysler|  wagon|2017|clean vehicle|138650.0|  gray|  2c4rc1cg5hr616095|167656123|         texas|    usa|  2 days left|      6.0|     22.0|      2.0|      2.0|\n| 14|20700|     ford|   door|2013|clean vehicle|100757.0| black|  1ftfw1et7dfa47790|167753916|      virginia|    usa|22 hours left|      0.0|      0.0|      1.0|      9.0|\n| 15|12710|      gmc|   door|2017|clean vehicle| 25747.0| white|  1gks2gkc6hr328389|167692497|    california|    usa|20 hours left|      4.0|      0.0|      0.0|      3.0|\n| 16| 5200|      kia|  forte|2018|clean vehicle| 46194.0|  blue|  3kpfk4a77je198723|167801757|north carolina|    usa|  2 days left|     10.0|     77.0|      5.0|      5.0|\n| 17|16500|    buick| encore|2018|clean vehicle| 20002.0|   red|  kl4cj1sb6jb688844|167763275|     tennessee|    usa|22 hours left|      9.0|     65.0|      4.0|     21.0|\n| 18| 5210|     ford|    mpv|2017|clean vehicle| 35714.0| white|  2fmpk3j95hbb73607|167656124|         texas|    usa|  2 days left|      0.0|      4.0|      0.0|      2.0|\n| 19|38100|     ford|   door|2013|clean vehicle| 54380.0|  gray|  1ft8w3dt5deb68569|167753923|      virginia|    usa|22 hours left|      0.0|      0.0|      2.0|      9.0|\n+---+-----+---------+-------+----+-------------+--------+------+-------------------+---------+--------------+-------+-------------+---------+---------+---------+---------+\nonly showing top 20 rows\n\n",
              "datasetInfos": [],
              "metadata": {},
              "removedWidgets": [],
              "type": "ansi"
            }
          },
          "output_type": "display_data"
        }
      ],
      "source": [
        "data1.show()"
      ]
    },
    {
      "cell_type": "code",
      "execution_count": null,
      "metadata": {
        "application/vnd.databricks.v1+cell": {
          "cellMetadata": {},
          "inputWidgets": {},
          "nuid": "ce6f9cb3-33f2-4525-9ee0-b3566fb9fb01",
          "showTitle": false,
          "title": ""
        },
        "id": "5CXlQGdbD4dw"
      },
      "outputs": [],
      "source": [
        "ohe_mod = OneHotEncoder(inputCols = ['brand_idx', 'model_idx','color_idx','state_idx'], outputCols = ['brand_ohe', 'model_ohe','color_ohe','state_ohe'])"
      ]
    },
    {
      "cell_type": "code",
      "execution_count": null,
      "metadata": {
        "application/vnd.databricks.v1+cell": {
          "cellMetadata": {},
          "inputWidgets": {},
          "nuid": "4231234f-e7c0-4839-898a-195290773acf",
          "showTitle": false,
          "title": ""
        },
        "id": "cRAeGBLzD4dw"
      },
      "outputs": [],
      "source": [
        "data1 = ohe_mod.fit(data1).transform(data1)"
      ]
    },
    {
      "cell_type": "code",
      "execution_count": null,
      "metadata": {
        "application/vnd.databricks.v1+cell": {
          "cellMetadata": {},
          "inputWidgets": {},
          "nuid": "8c6563ce-286f-468a-bd5c-4fe5923c4491",
          "showTitle": false,
          "title": ""
        },
        "id": "TI-488pfD4dx",
        "outputId": "aa754ac3-b922-4394-9193-0138cd4a02fc"
      },
      "outputs": [
        {
          "data": {
            "text/plain": [
              "+---+-----+---------+-------+----+-------------+--------+------+-------------------+---------+--------------+-------+-------------+---------+---------+---------+---------+---------------+-----------------+--------------+---------------+\n",
              "|_c0|price|    brand|  model|year| title_status| mileage| color|                vin|      lot|         state|country|    condition|brand_idx|model_idx|color_idx|state_idx|      brand_ohe|        model_ohe|     color_ohe|      state_ohe|\n",
              "+---+-----+---------+-------+----+-------------+--------+------+-------------------+---------+--------------+-------+-------------+---------+---------+---------+---------+---------------+-----------------+--------------+---------------+\n",
              "|  0| 6300|   toyota|cruiser|2008|clean vehicle|274117.0| black|  jtezu11f88k007763|159348797|    new jersey|    usa| 10 days left|     27.0|     89.0|      1.0|     10.0|     (27,[],[])| (126,[89],[1.0])|(48,[1],[1.0])|(43,[10],[1.0])|\n",
              "|  1| 2899|     ford|     se|2011|clean vehicle|190552.0|silver|  2fmdk3gc4bbb02217|166951262|     tennessee|    usa|  6 days left|      0.0|    113.0|      3.0|     21.0| (27,[0],[1.0])|(126,[113],[1.0])|(48,[3],[1.0])|(43,[21],[1.0])|\n",
              "|  2| 5350|    dodge|    mpv|2018|clean vehicle| 39590.0|silver|  3c4pdcgg5jt346413|167655728|       georgia|    usa|  2 days left|      1.0|      4.0|      3.0|     15.0| (27,[1],[1.0])|  (126,[4],[1.0])|(48,[3],[1.0])|(43,[15],[1.0])|\n",
              "|  3|25000|     ford|   door|2014|clean vehicle| 64146.0|  blue|  1ftfw1et4efc23745|167753855|      virginia|    usa|22 hours left|      0.0|      0.0|      5.0|      9.0| (27,[0],[1.0])|  (126,[0],[1.0])|(48,[5],[1.0])| (43,[9],[1.0])|\n",
              "|  4|27700|chevrolet|   1500|2018|clean vehicle|  6654.0|   red|  3gcpcrec2jg473991|167763266|       florida|    usa|22 hours left|      3.0|     15.0|      4.0|      1.0| (27,[3],[1.0])| (126,[15],[1.0])|(48,[4],[1.0])| (43,[1],[1.0])|\n",
              "|  5| 5700|    dodge|    mpv|2018|clean vehicle| 45561.0| white|  2c4rdgeg9jr237989|167655771|         texas|    usa|  2 days left|      1.0|      4.0|      0.0|      2.0| (27,[1],[1.0])|  (126,[4],[1.0])|(48,[0],[1.0])| (43,[2],[1.0])|\n",
              "|  6| 7300|chevrolet|     pk|2010|clean vehicle|149050.0| black|  1gcsksea1az121133|167753872|       georgia|    usa|22 hours left|      3.0|     54.0|      1.0|     15.0| (27,[3],[1.0])| (126,[54],[1.0])|(48,[1],[1.0])|(43,[15],[1.0])|\n",
              "|  7|13350|      gmc|   door|2017|clean vehicle| 23525.0|  gray|  1gks2gkc3hr326762|167692494|    california|    usa|20 hours left|      4.0|      0.0|      2.0|      3.0| (27,[4],[1.0])|  (126,[0],[1.0])|(48,[2],[1.0])| (43,[3],[1.0])|\n",
              "|  8|14600|chevrolet| malibu|2018|clean vehicle|  9371.0|silver|  1g1zd5st5jf191860|167763267|       florida|    usa|22 hours left|      3.0|     36.0|      3.0|      1.0| (27,[3],[1.0])| (126,[36],[1.0])|(48,[3],[1.0])| (43,[1],[1.0])|\n",
              "|  9| 5250|     ford|    mpv|2017|clean vehicle| 63418.0| black|  2fmpk3j92hbc12542|167656121|         texas|    usa|  2 days left|      0.0|      4.0|      1.0|      2.0| (27,[0],[1.0])|  (126,[4],[1.0])|(48,[1],[1.0])| (43,[2],[1.0])|\n",
              "| 10|10400|    dodge|  coupe|2009|clean vehicle|107856.0|orange|  2b3lj54t49h509675|167753874|       georgia|    usa|22 hours left|      1.0|     49.0|      8.0|     15.0| (27,[1],[1.0])| (126,[49],[1.0])|(48,[8],[1.0])|(43,[15],[1.0])|\n",
              "| 11|12920|      gmc|    mpv|2017|clean vehicle| 39650.0| white|  1gks2bkc6hr136280|167692496|    california|    usa|20 hours left|      4.0|      4.0|      0.0|      3.0| (27,[4],[1.0])|  (126,[4],[1.0])|(48,[0],[1.0])| (43,[3],[1.0])|\n",
              "| 12|31900|chevrolet|   1500|2018|clean vehicle| 22909.0| black|  3gcukrec0jg176059|167763273|     tennessee|    usa|22 hours left|      3.0|     15.0|      1.0|     21.0| (27,[3],[1.0])| (126,[15],[1.0])|(48,[1],[1.0])|(43,[21],[1.0])|\n",
              "| 13| 5430| chrysler|  wagon|2017|clean vehicle|138650.0|  gray|  2c4rc1cg5hr616095|167656123|         texas|    usa|  2 days left|      6.0|     22.0|      2.0|      2.0| (27,[6],[1.0])| (126,[22],[1.0])|(48,[2],[1.0])| (43,[2],[1.0])|\n",
              "| 14|20700|     ford|   door|2013|clean vehicle|100757.0| black|  1ftfw1et7dfa47790|167753916|      virginia|    usa|22 hours left|      0.0|      0.0|      1.0|      9.0| (27,[0],[1.0])|  (126,[0],[1.0])|(48,[1],[1.0])| (43,[9],[1.0])|\n",
              "| 15|12710|      gmc|   door|2017|clean vehicle| 25747.0| white|  1gks2gkc6hr328389|167692497|    california|    usa|20 hours left|      4.0|      0.0|      0.0|      3.0| (27,[4],[1.0])|  (126,[0],[1.0])|(48,[0],[1.0])| (43,[3],[1.0])|\n",
              "| 16| 5200|      kia|  forte|2018|clean vehicle| 46194.0|  blue|  3kpfk4a77je198723|167801757|north carolina|    usa|  2 days left|     10.0|     77.0|      5.0|      5.0|(27,[10],[1.0])| (126,[77],[1.0])|(48,[5],[1.0])| (43,[5],[1.0])|\n",
              "| 17|16500|    buick| encore|2018|clean vehicle| 20002.0|   red|  kl4cj1sb6jb688844|167763275|     tennessee|    usa|22 hours left|      9.0|     65.0|      4.0|     21.0| (27,[9],[1.0])| (126,[65],[1.0])|(48,[4],[1.0])|(43,[21],[1.0])|\n",
              "| 18| 5210|     ford|    mpv|2017|clean vehicle| 35714.0| white|  2fmpk3j95hbb73607|167656124|         texas|    usa|  2 days left|      0.0|      4.0|      0.0|      2.0| (27,[0],[1.0])|  (126,[4],[1.0])|(48,[0],[1.0])| (43,[2],[1.0])|\n",
              "| 19|38100|     ford|   door|2013|clean vehicle| 54380.0|  gray|  1ft8w3dt5deb68569|167753923|      virginia|    usa|22 hours left|      0.0|      0.0|      2.0|      9.0| (27,[0],[1.0])|  (126,[0],[1.0])|(48,[2],[1.0])| (43,[9],[1.0])|\n",
              "+---+-----+---------+-------+----+-------------+--------+------+-------------------+---------+--------------+-------+-------------+---------+---------+---------+---------+---------------+-----------------+--------------+---------------+\n",
              "only showing top 20 rows\n",
              "\n"
            ]
          },
          "metadata": {
            "application/vnd.databricks.v1+output": {
              "addedWidgets": {},
              "arguments": {},
              "data": "+---+-----+---------+-------+----+-------------+--------+------+-------------------+---------+--------------+-------+-------------+---------+---------+---------+---------+---------------+-----------------+--------------+---------------+\n|_c0|price|    brand|  model|year| title_status| mileage| color|                vin|      lot|         state|country|    condition|brand_idx|model_idx|color_idx|state_idx|      brand_ohe|        model_ohe|     color_ohe|      state_ohe|\n+---+-----+---------+-------+----+-------------+--------+------+-------------------+---------+--------------+-------+-------------+---------+---------+---------+---------+---------------+-----------------+--------------+---------------+\n|  0| 6300|   toyota|cruiser|2008|clean vehicle|274117.0| black|  jtezu11f88k007763|159348797|    new jersey|    usa| 10 days left|     27.0|     89.0|      1.0|     10.0|     (27,[],[])| (126,[89],[1.0])|(48,[1],[1.0])|(43,[10],[1.0])|\n|  1| 2899|     ford|     se|2011|clean vehicle|190552.0|silver|  2fmdk3gc4bbb02217|166951262|     tennessee|    usa|  6 days left|      0.0|    113.0|      3.0|     21.0| (27,[0],[1.0])|(126,[113],[1.0])|(48,[3],[1.0])|(43,[21],[1.0])|\n|  2| 5350|    dodge|    mpv|2018|clean vehicle| 39590.0|silver|  3c4pdcgg5jt346413|167655728|       georgia|    usa|  2 days left|      1.0|      4.0|      3.0|     15.0| (27,[1],[1.0])|  (126,[4],[1.0])|(48,[3],[1.0])|(43,[15],[1.0])|\n|  3|25000|     ford|   door|2014|clean vehicle| 64146.0|  blue|  1ftfw1et4efc23745|167753855|      virginia|    usa|22 hours left|      0.0|      0.0|      5.0|      9.0| (27,[0],[1.0])|  (126,[0],[1.0])|(48,[5],[1.0])| (43,[9],[1.0])|\n|  4|27700|chevrolet|   1500|2018|clean vehicle|  6654.0|   red|  3gcpcrec2jg473991|167763266|       florida|    usa|22 hours left|      3.0|     15.0|      4.0|      1.0| (27,[3],[1.0])| (126,[15],[1.0])|(48,[4],[1.0])| (43,[1],[1.0])|\n|  5| 5700|    dodge|    mpv|2018|clean vehicle| 45561.0| white|  2c4rdgeg9jr237989|167655771|         texas|    usa|  2 days left|      1.0|      4.0|      0.0|      2.0| (27,[1],[1.0])|  (126,[4],[1.0])|(48,[0],[1.0])| (43,[2],[1.0])|\n|  6| 7300|chevrolet|     pk|2010|clean vehicle|149050.0| black|  1gcsksea1az121133|167753872|       georgia|    usa|22 hours left|      3.0|     54.0|      1.0|     15.0| (27,[3],[1.0])| (126,[54],[1.0])|(48,[1],[1.0])|(43,[15],[1.0])|\n|  7|13350|      gmc|   door|2017|clean vehicle| 23525.0|  gray|  1gks2gkc3hr326762|167692494|    california|    usa|20 hours left|      4.0|      0.0|      2.0|      3.0| (27,[4],[1.0])|  (126,[0],[1.0])|(48,[2],[1.0])| (43,[3],[1.0])|\n|  8|14600|chevrolet| malibu|2018|clean vehicle|  9371.0|silver|  1g1zd5st5jf191860|167763267|       florida|    usa|22 hours left|      3.0|     36.0|      3.0|      1.0| (27,[3],[1.0])| (126,[36],[1.0])|(48,[3],[1.0])| (43,[1],[1.0])|\n|  9| 5250|     ford|    mpv|2017|clean vehicle| 63418.0| black|  2fmpk3j92hbc12542|167656121|         texas|    usa|  2 days left|      0.0|      4.0|      1.0|      2.0| (27,[0],[1.0])|  (126,[4],[1.0])|(48,[1],[1.0])| (43,[2],[1.0])|\n| 10|10400|    dodge|  coupe|2009|clean vehicle|107856.0|orange|  2b3lj54t49h509675|167753874|       georgia|    usa|22 hours left|      1.0|     49.0|      8.0|     15.0| (27,[1],[1.0])| (126,[49],[1.0])|(48,[8],[1.0])|(43,[15],[1.0])|\n| 11|12920|      gmc|    mpv|2017|clean vehicle| 39650.0| white|  1gks2bkc6hr136280|167692496|    california|    usa|20 hours left|      4.0|      4.0|      0.0|      3.0| (27,[4],[1.0])|  (126,[4],[1.0])|(48,[0],[1.0])| (43,[3],[1.0])|\n| 12|31900|chevrolet|   1500|2018|clean vehicle| 22909.0| black|  3gcukrec0jg176059|167763273|     tennessee|    usa|22 hours left|      3.0|     15.0|      1.0|     21.0| (27,[3],[1.0])| (126,[15],[1.0])|(48,[1],[1.0])|(43,[21],[1.0])|\n| 13| 5430| chrysler|  wagon|2017|clean vehicle|138650.0|  gray|  2c4rc1cg5hr616095|167656123|         texas|    usa|  2 days left|      6.0|     22.0|      2.0|      2.0| (27,[6],[1.0])| (126,[22],[1.0])|(48,[2],[1.0])| (43,[2],[1.0])|\n| 14|20700|     ford|   door|2013|clean vehicle|100757.0| black|  1ftfw1et7dfa47790|167753916|      virginia|    usa|22 hours left|      0.0|      0.0|      1.0|      9.0| (27,[0],[1.0])|  (126,[0],[1.0])|(48,[1],[1.0])| (43,[9],[1.0])|\n| 15|12710|      gmc|   door|2017|clean vehicle| 25747.0| white|  1gks2gkc6hr328389|167692497|    california|    usa|20 hours left|      4.0|      0.0|      0.0|      3.0| (27,[4],[1.0])|  (126,[0],[1.0])|(48,[0],[1.0])| (43,[3],[1.0])|\n| 16| 5200|      kia|  forte|2018|clean vehicle| 46194.0|  blue|  3kpfk4a77je198723|167801757|north carolina|    usa|  2 days left|     10.0|     77.0|      5.0|      5.0|(27,[10],[1.0])| (126,[77],[1.0])|(48,[5],[1.0])| (43,[5],[1.0])|\n| 17|16500|    buick| encore|2018|clean vehicle| 20002.0|   red|  kl4cj1sb6jb688844|167763275|     tennessee|    usa|22 hours left|      9.0|     65.0|      4.0|     21.0| (27,[9],[1.0])| (126,[65],[1.0])|(48,[4],[1.0])|(43,[21],[1.0])|\n| 18| 5210|     ford|    mpv|2017|clean vehicle| 35714.0| white|  2fmpk3j95hbb73607|167656124|         texas|    usa|  2 days left|      0.0|      4.0|      0.0|      2.0| (27,[0],[1.0])|  (126,[4],[1.0])|(48,[0],[1.0])| (43,[2],[1.0])|\n| 19|38100|     ford|   door|2013|clean vehicle| 54380.0|  gray|  1ft8w3dt5deb68569|167753923|      virginia|    usa|22 hours left|      0.0|      0.0|      2.0|      9.0| (27,[0],[1.0])|  (126,[0],[1.0])|(48,[2],[1.0])| (43,[9],[1.0])|\n+---+-----+---------+-------+----+-------------+--------+------+-------------------+---------+--------------+-------+-------------+---------+---------+---------+---------+---------------+-----------------+--------------+---------------+\nonly showing top 20 rows\n\n",
              "datasetInfos": [],
              "metadata": {},
              "removedWidgets": [],
              "type": "ansi"
            }
          },
          "output_type": "display_data"
        }
      ],
      "source": [
        "data1.show()"
      ]
    },
    {
      "cell_type": "code",
      "execution_count": null,
      "metadata": {
        "application/vnd.databricks.v1+cell": {
          "cellMetadata": {},
          "inputWidgets": {},
          "nuid": "91277ccd-40a6-46c1-a621-f3e2bf894b06",
          "showTitle": false,
          "title": ""
        },
        "id": "Ua_TCCxTD4dx"
      },
      "outputs": [],
      "source": [
        "assembler = VectorAssembler(inputCols = [ 'brand_idx', 'model_idx','color_idx','state_idx','year',  'mileage','lot'], outputCol = 'feature_vector')"
      ]
    },
    {
      "cell_type": "code",
      "execution_count": null,
      "metadata": {
        "application/vnd.databricks.v1+cell": {
          "cellMetadata": {},
          "inputWidgets": {},
          "nuid": "71cb4de8-2cbe-46d8-aa9e-6cb2ea045c04",
          "showTitle": false,
          "title": ""
        },
        "id": "21mBOa-ED4dy"
      },
      "outputs": [],
      "source": [
        "data_new = assembler.transform(data1)"
      ]
    },
    {
      "cell_type": "code",
      "execution_count": null,
      "metadata": {
        "application/vnd.databricks.v1+cell": {
          "cellMetadata": {},
          "inputWidgets": {},
          "nuid": "e387994e-d4de-4215-8174-358ef7499b48",
          "showTitle": false,
          "title": ""
        },
        "id": "Vw5E88LKD4dy",
        "outputId": "bd2f98ac-24cc-467f-9152-94bb6d3d91f8"
      },
      "outputs": [
        {
          "data": {
            "text/plain": [
              "+--------------------+\n",
              "|      feature_vector|\n",
              "+--------------------+\n",
              "|[27.0,89.0,1.0,10...|\n",
              "|[0.0,113.0,3.0,21...|\n",
              "|[1.0,4.0,3.0,15.0...|\n",
              "|[0.0,0.0,5.0,9.0,...|\n",
              "|[3.0,15.0,4.0,1.0...|\n",
              "|[1.0,4.0,0.0,2.0,...|\n",
              "|[3.0,54.0,1.0,15....|\n",
              "|[4.0,0.0,2.0,3.0,...|\n",
              "|[3.0,36.0,3.0,1.0...|\n",
              "|[0.0,4.0,1.0,2.0,...|\n",
              "|[1.0,49.0,8.0,15....|\n",
              "|[4.0,4.0,0.0,3.0,...|\n",
              "|[3.0,15.0,1.0,21....|\n",
              "|[6.0,22.0,2.0,2.0...|\n",
              "|[0.0,0.0,1.0,9.0,...|\n",
              "|[4.0,0.0,0.0,3.0,...|\n",
              "|[10.0,77.0,5.0,5....|\n",
              "|[9.0,65.0,4.0,21....|\n",
              "|[0.0,4.0,0.0,2.0,...|\n",
              "|[0.0,0.0,2.0,9.0,...|\n",
              "+--------------------+\n",
              "only showing top 20 rows\n",
              "\n"
            ]
          },
          "metadata": {
            "application/vnd.databricks.v1+output": {
              "addedWidgets": {},
              "arguments": {},
              "data": "+--------------------+\n|      feature_vector|\n+--------------------+\n|[27.0,89.0,1.0,10...|\n|[0.0,113.0,3.0,21...|\n|[1.0,4.0,3.0,15.0...|\n|[0.0,0.0,5.0,9.0,...|\n|[3.0,15.0,4.0,1.0...|\n|[1.0,4.0,0.0,2.0,...|\n|[3.0,54.0,1.0,15....|\n|[4.0,0.0,2.0,3.0,...|\n|[3.0,36.0,3.0,1.0...|\n|[0.0,4.0,1.0,2.0,...|\n|[1.0,49.0,8.0,15....|\n|[4.0,4.0,0.0,3.0,...|\n|[3.0,15.0,1.0,21....|\n|[6.0,22.0,2.0,2.0...|\n|[0.0,0.0,1.0,9.0,...|\n|[4.0,0.0,0.0,3.0,...|\n|[10.0,77.0,5.0,5....|\n|[9.0,65.0,4.0,21....|\n|[0.0,4.0,0.0,2.0,...|\n|[0.0,0.0,2.0,9.0,...|\n+--------------------+\nonly showing top 20 rows\n\n",
              "datasetInfos": [],
              "metadata": {},
              "removedWidgets": [],
              "type": "ansi"
            }
          },
          "output_type": "display_data"
        }
      ],
      "source": [
        "data_new.select('feature_vector').show()"
      ]
    },
    {
      "cell_type": "code",
      "execution_count": null,
      "metadata": {
        "application/vnd.databricks.v1+cell": {
          "cellMetadata": {},
          "inputWidgets": {},
          "nuid": "6125033f-1160-4fe7-a1c5-6149e04b09c3",
          "showTitle": false,
          "title": ""
        },
        "id": "vs03QoBRD4dz"
      },
      "outputs": [],
      "source": []
    }
  ],
  "metadata": {
    "application/vnd.databricks.v1+notebook": {
      "dashboards": [],
      "language": "python",
      "notebookMetadata": {
        "pythonIndentUnit": 4
      },
      "notebookName": "us_cars_reg",
      "notebookOrigID": 4412402054796485,
      "widgets": {}
    },
    "kernelspec": {
      "display_name": "Python 3",
      "language": "python",
      "name": "python3"
    },
    "language_info": {
      "codemirror_mode": {
        "name": "ipython",
        "version": 3
      },
      "file_extension": ".py",
      "mimetype": "text/x-python",
      "name": "python",
      "nbconvert_exporter": "python",
      "pygments_lexer": "ipython3",
      "version": "3.8.8"
    },
    "colab": {
      "provenance": [],
      "include_colab_link": true
    }
  },
  "nbformat": 4,
  "nbformat_minor": 0
}